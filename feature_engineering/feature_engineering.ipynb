{
 "cells": [
  {
   "cell_type": "code",
   "execution_count": 1,
   "metadata": {},
   "outputs": [],
   "source": [
    "import pandas as pd\n",
    "import matplotlib.pyplot as plt\n",
    "import seaborn as sns\n",
    "import numpy as np\n",
    "from sklearn.preprocessing import MinMaxScaler\n",
    "from datetime import datetime\n",
    "from textblob import TextBlob\n",
    "from collections import Counter"
   ]
  },
  {
   "cell_type": "code",
   "execution_count": 2,
   "metadata": {},
   "outputs": [],
   "source": [
    "data_dir = \"../../data\""
   ]
  },
  {
   "cell_type": "code",
   "execution_count": 3,
   "metadata": {},
   "outputs": [],
   "source": [
    "interactions = pd.read_pickle(f\"{data_dir}/interactions_clean.pkl\")\n",
    "recipes = pd.read_pickle(f\"{data_dir}/recipes_clean.pkl\")\n",
    "pp_users = pd.read_pickle(f\"{data_dir}/PP_users_clean.pkl\") \n",
    "pp_recipes = pd.read_pickle(f\"{data_dir}/PP_recipes_clean.pkl\") "
   ]
  },
  {
   "cell_type": "markdown",
   "metadata": {},
   "source": [
    "## Feature Engineering for interactions dataset"
   ]
  },
  {
   "cell_type": "code",
   "execution_count": 4,
   "metadata": {},
   "outputs": [
    {
     "name": "stdout",
     "output_type": "stream",
     "text": [
      "<class 'pandas.core.frame.DataFrame'>\n",
      "Index: 1132367 entries, 982325 to 317939\n",
      "Data columns (total 5 columns):\n",
      " #   Column     Non-Null Count    Dtype         \n",
      "---  ------     --------------    -----         \n",
      " 0   user_id    1132367 non-null  int64         \n",
      " 1   recipe_id  1132367 non-null  int64         \n",
      " 2   date       1132367 non-null  datetime64[ns]\n",
      " 3   rating     1132367 non-null  int64         \n",
      " 4   review     1132367 non-null  object        \n",
      "dtypes: datetime64[ns](1), int64(3), object(1)\n",
      "memory usage: 51.8+ MB\n"
     ]
    }
   ],
   "source": [
    "interactions.info()"
   ]
  },
  {
   "cell_type": "code",
   "execution_count": 5,
   "metadata": {},
   "outputs": [],
   "source": [
    "interactions['year'] = interactions['date'].dt.year\n",
    "interactions['month'] = interactions['date'].dt.month\n",
    "interactions['day_of_week'] = interactions['date'].dt.dayofweek"
   ]
  },
  {
   "cell_type": "code",
   "execution_count": 6,
   "metadata": {},
   "outputs": [],
   "source": [
    "today = datetime.today()\n",
    "interactions['days_since'] = (today - interactions['date']).dt.days"
   ]
  },
  {
   "cell_type": "code",
   "execution_count": 7,
   "metadata": {},
   "outputs": [],
   "source": [
    "#how many interactions each user has\n",
    "user_interactions_count = interactions.groupby('user_id')['recipe_id'].count().reset_index()\n",
    "user_interactions_count.rename(columns={'recipe_id': 'interaction_count'}, inplace=True)\n",
    "\n",
    "interactions = interactions.merge(user_interactions_count, on='user_id', how='left')"
   ]
  },
  {
   "cell_type": "code",
   "execution_count": 8,
   "metadata": {},
   "outputs": [],
   "source": [
    "scaler = MinMaxScaler()\n",
    "interactions['rating_scaled'] = scaler.fit_transform(interactions[['rating']])"
   ]
  },
  {
   "cell_type": "code",
   "execution_count": 9,
   "metadata": {},
   "outputs": [
    {
     "name": "stdout",
     "output_type": "stream",
     "text": [
      "<class 'pandas.core.frame.DataFrame'>\n",
      "RangeIndex: 1132367 entries, 0 to 1132366\n",
      "Data columns (total 11 columns):\n",
      " #   Column             Non-Null Count    Dtype         \n",
      "---  ------             --------------    -----         \n",
      " 0   user_id            1132367 non-null  int64         \n",
      " 1   recipe_id          1132367 non-null  int64         \n",
      " 2   date               1132367 non-null  datetime64[ns]\n",
      " 3   rating             1132367 non-null  int64         \n",
      " 4   review             1132367 non-null  object        \n",
      " 5   year               1132367 non-null  int32         \n",
      " 6   month              1132367 non-null  int32         \n",
      " 7   day_of_week        1132367 non-null  int32         \n",
      " 8   days_since         1132367 non-null  int64         \n",
      " 9   interaction_count  1132367 non-null  int64         \n",
      " 10  rating_scaled      1132367 non-null  float64       \n",
      "dtypes: datetime64[ns](1), float64(1), int32(3), int64(5), object(1)\n",
      "memory usage: 82.1+ MB\n"
     ]
    }
   ],
   "source": [
    "interactions.info()"
   ]
  },
  {
   "cell_type": "code",
   "execution_count": 10,
   "metadata": {},
   "outputs": [],
   "source": [
    "user_avg_rating = interactions.groupby('user_id')['rating_scaled'].mean().reset_index()\n",
    "user_avg_rating.rename(columns={'rating_scaled': 'user_avg_rating_scaled'}, inplace=True)\n",
    "\n",
    "interactions = interactions.merge(user_avg_rating, on='user_id', how='left')"
   ]
  },
  {
   "cell_type": "markdown",
   "metadata": {},
   "source": [
    "Polarity: A measure of the sentiment expressed in the text. It indicates how positive or negative the review is.\n",
    "Range:\n",
    "    -1.0 → Very Negative\n",
    "    0.0 → Neutral\n",
    "    +1.0 → Very Positive\n",
    "\n",
    "Subjectivity:A measure of how subjective or objective the text is. Subjective sentences express personal opinions, feelings, and judgments, while objective sentences are more factual and neutral.\n",
    "\n",
    "Range:\n",
    "    0.0 → Very Objective (factual information)\n",
    "    1.0 → Very Subjective (opinion or emotion)"
   ]
  },
  {
   "cell_type": "code",
   "execution_count": 11,
   "metadata": {},
   "outputs": [
    {
     "name": "stdout",
     "output_type": "stream",
     "text": [
      "<class 'pandas.core.frame.DataFrame'>\n",
      "RangeIndex: 1132367 entries, 0 to 1132366\n",
      "Data columns (total 12 columns):\n",
      " #   Column                  Non-Null Count    Dtype         \n",
      "---  ------                  --------------    -----         \n",
      " 0   user_id                 1132367 non-null  int64         \n",
      " 1   recipe_id               1132367 non-null  int64         \n",
      " 2   date                    1132367 non-null  datetime64[ns]\n",
      " 3   rating                  1132367 non-null  int64         \n",
      " 4   review                  1132367 non-null  object        \n",
      " 5   year                    1132367 non-null  int32         \n",
      " 6   month                   1132367 non-null  int32         \n",
      " 7   day_of_week             1132367 non-null  int32         \n",
      " 8   days_since              1132367 non-null  int64         \n",
      " 9   interaction_count       1132367 non-null  int64         \n",
      " 10  rating_scaled           1132367 non-null  float64       \n",
      " 11  user_avg_rating_scaled  1132367 non-null  float64       \n",
      "dtypes: datetime64[ns](1), float64(2), int32(3), int64(5), object(1)\n",
      "memory usage: 90.7+ MB\n"
     ]
    }
   ],
   "source": [
    "interactions.info()"
   ]
  },
  {
   "cell_type": "code",
   "execution_count": 12,
   "metadata": {},
   "outputs": [],
   "source": [
    "interactions['review'] = interactions['review'].str.lower()"
   ]
  },
  {
   "cell_type": "code",
   "execution_count": 13,
   "metadata": {},
   "outputs": [],
   "source": [
    "#Capture user engagement\n",
    "interactions['review_length'] = interactions['review'].apply(lambda x: len(x.split()) if pd.notna(x) else 0)"
   ]
  },
  {
   "cell_type": "markdown",
   "metadata": {},
   "source": [
    "Polarity → approximates positive/negative review.\n",
    "Subjectivity → tells whether review contains opinion or fact."
   ]
  },
  {
   "cell_type": "code",
   "execution_count": 14,
   "metadata": {},
   "outputs": [],
   "source": [
    "sentiment = interactions['review'].apply(\n",
    "    lambda x: pd.Series({\n",
    "        'polarity': 0 if pd.isna(x) else TextBlob(x).sentiment.polarity,\n",
    "        'subjectivity': 0 if pd.isna(x) else TextBlob(x).sentiment.subjectivity\n",
    "    })\n",
    ")\n",
    "\n",
    "interactions = interactions.join(sentiment)"
   ]
  },
  {
   "cell_type": "code",
   "execution_count": 15,
   "metadata": {},
   "outputs": [],
   "source": [
    "interactions.to_pickle(f\"{data_dir}/interactions_extended.pkl\")"
   ]
  },
  {
   "cell_type": "markdown",
   "metadata": {},
   "source": [
    "## Feature Engineering for recipes dataset"
   ]
  },
  {
   "cell_type": "code",
   "execution_count": 16,
   "metadata": {},
   "outputs": [
    {
     "name": "stdout",
     "output_type": "stream",
     "text": [
      "<class 'pandas.core.frame.DataFrame'>\n",
      "Index: 231636 entries, 0 to 231636\n",
      "Data columns (total 28 columns):\n",
      " #   Column                  Non-Null Count   Dtype         \n",
      "---  ------                  --------------   -----         \n",
      " 0   name                    231636 non-null  object        \n",
      " 1   id                      231636 non-null  int64         \n",
      " 2   minutes                 231636 non-null  int64         \n",
      " 3   contributor_id          231636 non-null  int64         \n",
      " 4   submitted               231636 non-null  datetime64[ns]\n",
      " 5   tags                    231636 non-null  object        \n",
      " 6   nutrition               231636 non-null  object        \n",
      " 7   n_steps                 231636 non-null  int64         \n",
      " 8   steps                   231636 non-null  object        \n",
      " 9   description             231636 non-null  object        \n",
      " 10  ingredients             231636 non-null  object        \n",
      " 11  n_ingredients           231636 non-null  int64         \n",
      " 12  calories                231636 non-null  float64       \n",
      " 13  total_fat_pdv           231636 non-null  float64       \n",
      " 14  sugar_pdv               231636 non-null  float64       \n",
      " 15  sodium_pdv              231636 non-null  float64       \n",
      " 16  protein_pdv             231636 non-null  float64       \n",
      " 17  saturated_fat_pdv       231636 non-null  float64       \n",
      " 18  carbs_pdv               231636 non-null  float64       \n",
      " 19  total_fat_pdv_norm      231636 non-null  float64       \n",
      " 20  sugar_pdv_norm          231636 non-null  float64       \n",
      " 21  sodium_pdv_norm         231636 non-null  float64       \n",
      " 22  protein_pdv_norm        231636 non-null  float64       \n",
      " 23  saturated_fat_pdv_norm  231636 non-null  float64       \n",
      " 24  carbs_pdv_norm          231636 non-null  float64       \n",
      " 25  minutes_normalized      231636 non-null  float64       \n",
      " 26  n_steps_norm            231636 non-null  float64       \n",
      " 27  cleaned_ingredients     231636 non-null  object        \n",
      "dtypes: datetime64[ns](1), float64(15), int64(5), object(7)\n",
      "memory usage: 51.3+ MB\n"
     ]
    }
   ],
   "source": [
    "recipes.info()"
   ]
  },
  {
   "cell_type": "code",
   "execution_count": 17,
   "metadata": {},
   "outputs": [
    {
     "data": {
      "text/plain": [
       "<bound method Series.unique of 0         [60_minutes_or_less, time_to_make, cuisine, no...\n",
       "1         [30_minutes_or_less, time_to_make, cuisine, no...\n",
       "2         [time_to_make, main_dish, chili, crock_pot_slo...\n",
       "3         [60_minutes_or_less, time_to_make, side_dishes...\n",
       "4         [weeknight, time_to_make, cuisine, north_ameri...\n",
       "                                ...                        \n",
       "231632    [ham, 60_minutes_or_less, time_to_make, cuisin...\n",
       "231633    [15_minutes_or_less, time_to_make, for_large_g...\n",
       "231634    [60_minutes_or_less, time_to_make, appetizers,...\n",
       "231635    [30_minutes_or_less, time_to_make, for_large_g...\n",
       "231636    [30_minutes_or_less, time_to_make, for_large_g...\n",
       "Name: tags, Length: 231636, dtype: object>"
      ]
     },
     "execution_count": 17,
     "metadata": {},
     "output_type": "execute_result"
    }
   ],
   "source": [
    "recipes['tags'].unique"
   ]
  },
  {
   "cell_type": "code",
   "execution_count": 18,
   "metadata": {},
   "outputs": [],
   "source": [
    "# Extract useful time features (optional)\n",
    "recipes['year'] = recipes['submitted'].dt.year\n",
    "recipes['month'] = recipes['submitted'].dt.month\n",
    "recipes['weekday'] = recipes['submitted'].dt.weekday"
   ]
  },
  {
   "cell_type": "code",
   "execution_count": 19,
   "metadata": {},
   "outputs": [],
   "source": [
    "# Discretize preparation time into categories\n",
    "recipes['time_bin'] = pd.cut(\n",
    "    recipes['minutes'],\n",
    "    bins=[0, 15, 30, 60, 120, recipes['minutes'].max()],\n",
    "    labels=['super_quick', 'quick', 'medium', 'long', 'very_long']\n",
    ")"
   ]
  },
  {
   "cell_type": "code",
   "execution_count": 20,
   "metadata": {},
   "outputs": [],
   "source": [
    "# Recipe complexity manually\n",
    "recipes['complexity'] = recipes['n_steps'] + recipes['n_ingredients']"
   ]
  },
  {
   "cell_type": "code",
   "execution_count": 21,
   "metadata": {},
   "outputs": [],
   "source": [
    "# Normalize ingredients \n",
    "recipes['n_ingredients_norm'] = scaler.fit_transform(recipes[['n_ingredients']])"
   ]
  },
  {
   "cell_type": "code",
   "execution_count": 22,
   "metadata": {},
   "outputs": [],
   "source": [
    "# dietary preferences tags\n",
    "dietary_tags = [\n",
    "    'vegan', 'vegetarian', 'pescatarian', 'flexitarian', 'raw', 'paleo', 'keto',\n",
    "    'mediterranean', 'macrobiotic', 'zone_diet', 'carnivore_diet', 'alkaline_diet',\n",
    "    'whole30', 'dash_diet', 'low_carb', 'high_protein', 'low_fat', 'fat_free',\n",
    "    'clean_eating', 'plant_based',\n",
    "    'diabetic_friendly', 'heart_healthy', 'renal_diet', 'anti_inflammatory',\n",
    "    'low_fodmap', 'cholesterol_free', 'low_sodium', 'salt_free', 'weight_watchers',\n",
    "    'pcos_friendly', 'gallbladder_friendly', 'thyroid_friendly',\n",
    "    'gluten_free', 'wheat_free', 'nut_free', 'peanut_free', 'dairy_free',\n",
    "    'lactose_free', 'soy_free', 'egg_free', 'sesame_free', 'corn_free',\n",
    "    'shellfish_free', 'seafood_free', 'sulfite_free',\n",
    "    'kosher', 'halal', 'jain', 'lacto_vegetarian', 'ovo_vegetarian'\n",
    "]"
   ]
  },
  {
   "cell_type": "code",
   "execution_count": 23,
   "metadata": {},
   "outputs": [],
   "source": [
    "for label in dietary_tags:\n",
    "    column_name = label.lower()\n",
    "    \n",
    "    recipes[column_name] = recipes['tags'].apply(\n",
    "        lambda tags: 1 if column_name in tags else 0\n",
    "    )"
   ]
  },
  {
   "cell_type": "code",
   "execution_count": 24,
   "metadata": {},
   "outputs": [
    {
     "name": "stdout",
     "output_type": "stream",
     "text": [
      "vegan: 10012 recipes flagged\n",
      "vegetarian: 35651 recipes flagged\n",
      "pescatarian: 0 recipes flagged\n",
      "flexitarian: 0 recipes flagged\n",
      "raw: 0 recipes flagged\n",
      "paleo: 0 recipes flagged\n",
      "keto: 0 recipes flagged\n",
      "mediterranean: 0 recipes flagged\n",
      "macrobiotic: 0 recipes flagged\n",
      "zone_diet: 0 recipes flagged\n",
      "carnivore_diet: 0 recipes flagged\n",
      "alkaline_diet: 0 recipes flagged\n",
      "whole30: 0 recipes flagged\n",
      "dash_diet: 0 recipes flagged\n",
      "low_carb: 42189 recipes flagged\n",
      "high_protein: 7209 recipes flagged\n",
      "low_fat: 22170 recipes flagged\n",
      "fat_free: 0 recipes flagged\n",
      "clean_eating: 0 recipes flagged\n",
      "plant_based: 0 recipes flagged\n",
      "diabetic_friendly: 0 recipes flagged\n",
      "heart_healthy: 0 recipes flagged\n",
      "renal_diet: 0 recipes flagged\n",
      "anti_inflammatory: 0 recipes flagged\n",
      "low_fodmap: 0 recipes flagged\n",
      "cholesterol_free: 0 recipes flagged\n",
      "low_sodium: 43348 recipes flagged\n",
      "salt_free: 0 recipes flagged\n",
      "weight_watchers: 0 recipes flagged\n",
      "pcos_friendly: 0 recipes flagged\n",
      "gallbladder_friendly: 0 recipes flagged\n",
      "thyroid_friendly: 0 recipes flagged\n",
      "gluten_free: 5743 recipes flagged\n",
      "wheat_free: 0 recipes flagged\n",
      "nut_free: 218 recipes flagged\n",
      "peanut_free: 0 recipes flagged\n",
      "dairy_free: 195 recipes flagged\n",
      "lactose_free: 0 recipes flagged\n",
      "soy_free: 0 recipes flagged\n",
      "egg_free: 5064 recipes flagged\n",
      "sesame_free: 0 recipes flagged\n",
      "corn_free: 0 recipes flagged\n",
      "shellfish_free: 0 recipes flagged\n",
      "seafood_free: 0 recipes flagged\n",
      "sulfite_free: 0 recipes flagged\n",
      "kosher: 4446 recipes flagged\n",
      "halal: 0 recipes flagged\n",
      "jain: 0 recipes flagged\n",
      "lacto_vegetarian: 0 recipes flagged\n",
      "ovo_vegetarian: 0 recipes flagged\n"
     ]
    }
   ],
   "source": [
    "for label in dietary_tags:\n",
    "    print(f\"{label}: {recipes[label].sum()} recipes flagged\")"
   ]
  },
  {
   "cell_type": "code",
   "execution_count": 25,
   "metadata": {},
   "outputs": [
    {
     "name": "stdout",
     "output_type": "stream",
     "text": [
      "<class 'pandas.core.frame.DataFrame'>\n",
      "Index: 231636 entries, 0 to 231636\n",
      "Data columns (total 84 columns):\n",
      " #   Column                  Non-Null Count   Dtype         \n",
      "---  ------                  --------------   -----         \n",
      " 0   name                    231636 non-null  object        \n",
      " 1   id                      231636 non-null  int64         \n",
      " 2   minutes                 231636 non-null  int64         \n",
      " 3   contributor_id          231636 non-null  int64         \n",
      " 4   submitted               231636 non-null  datetime64[ns]\n",
      " 5   tags                    231636 non-null  object        \n",
      " 6   nutrition               231636 non-null  object        \n",
      " 7   n_steps                 231636 non-null  int64         \n",
      " 8   steps                   231636 non-null  object        \n",
      " 9   description             231636 non-null  object        \n",
      " 10  ingredients             231636 non-null  object        \n",
      " 11  n_ingredients           231636 non-null  int64         \n",
      " 12  calories                231636 non-null  float64       \n",
      " 13  total_fat_pdv           231636 non-null  float64       \n",
      " 14  sugar_pdv               231636 non-null  float64       \n",
      " 15  sodium_pdv              231636 non-null  float64       \n",
      " 16  protein_pdv             231636 non-null  float64       \n",
      " 17  saturated_fat_pdv       231636 non-null  float64       \n",
      " 18  carbs_pdv               231636 non-null  float64       \n",
      " 19  total_fat_pdv_norm      231636 non-null  float64       \n",
      " 20  sugar_pdv_norm          231636 non-null  float64       \n",
      " 21  sodium_pdv_norm         231636 non-null  float64       \n",
      " 22  protein_pdv_norm        231636 non-null  float64       \n",
      " 23  saturated_fat_pdv_norm  231636 non-null  float64       \n",
      " 24  carbs_pdv_norm          231636 non-null  float64       \n",
      " 25  minutes_normalized      231636 non-null  float64       \n",
      " 26  n_steps_norm            231636 non-null  float64       \n",
      " 27  cleaned_ingredients     231636 non-null  object        \n",
      " 28  year                    231636 non-null  int32         \n",
      " 29  month                   231636 non-null  int32         \n",
      " 30  weekday                 231636 non-null  int32         \n",
      " 31  time_bin                230542 non-null  category      \n",
      " 32  complexity              231636 non-null  int64         \n",
      " 33  n_ingredients_norm      231636 non-null  float64       \n",
      " 34  vegan                   231636 non-null  int64         \n",
      " 35  vegetarian              231636 non-null  int64         \n",
      " 36  pescatarian             231636 non-null  int64         \n",
      " 37  flexitarian             231636 non-null  int64         \n",
      " 38  raw                     231636 non-null  int64         \n",
      " 39  paleo                   231636 non-null  int64         \n",
      " 40  keto                    231636 non-null  int64         \n",
      " 41  mediterranean           231636 non-null  int64         \n",
      " 42  macrobiotic             231636 non-null  int64         \n",
      " 43  zone_diet               231636 non-null  int64         \n",
      " 44  carnivore_diet          231636 non-null  int64         \n",
      " 45  alkaline_diet           231636 non-null  int64         \n",
      " 46  whole30                 231636 non-null  int64         \n",
      " 47  dash_diet               231636 non-null  int64         \n",
      " 48  low_carb                231636 non-null  int64         \n",
      " 49  high_protein            231636 non-null  int64         \n",
      " 50  low_fat                 231636 non-null  int64         \n",
      " 51  fat_free                231636 non-null  int64         \n",
      " 52  clean_eating            231636 non-null  int64         \n",
      " 53  plant_based             231636 non-null  int64         \n",
      " 54  diabetic_friendly       231636 non-null  int64         \n",
      " 55  heart_healthy           231636 non-null  int64         \n",
      " 56  renal_diet              231636 non-null  int64         \n",
      " 57  anti_inflammatory       231636 non-null  int64         \n",
      " 58  low_fodmap              231636 non-null  int64         \n",
      " 59  cholesterol_free        231636 non-null  int64         \n",
      " 60  low_sodium              231636 non-null  int64         \n",
      " 61  salt_free               231636 non-null  int64         \n",
      " 62  weight_watchers         231636 non-null  int64         \n",
      " 63  pcos_friendly           231636 non-null  int64         \n",
      " 64  gallbladder_friendly    231636 non-null  int64         \n",
      " 65  thyroid_friendly        231636 non-null  int64         \n",
      " 66  gluten_free             231636 non-null  int64         \n",
      " 67  wheat_free              231636 non-null  int64         \n",
      " 68  nut_free                231636 non-null  int64         \n",
      " 69  peanut_free             231636 non-null  int64         \n",
      " 70  dairy_free              231636 non-null  int64         \n",
      " 71  lactose_free            231636 non-null  int64         \n",
      " 72  soy_free                231636 non-null  int64         \n",
      " 73  egg_free                231636 non-null  int64         \n",
      " 74  sesame_free             231636 non-null  int64         \n",
      " 75  corn_free               231636 non-null  int64         \n",
      " 76  shellfish_free          231636 non-null  int64         \n",
      " 77  seafood_free            231636 non-null  int64         \n",
      " 78  sulfite_free            231636 non-null  int64         \n",
      " 79  kosher                  231636 non-null  int64         \n",
      " 80  halal                   231636 non-null  int64         \n",
      " 81  jain                    231636 non-null  int64         \n",
      " 82  lacto_vegetarian        231636 non-null  int64         \n",
      " 83  ovo_vegetarian          231636 non-null  int64         \n",
      "dtypes: category(1), datetime64[ns](1), float64(16), int32(3), int64(56), object(7)\n",
      "memory usage: 146.0+ MB\n"
     ]
    }
   ],
   "source": [
    "recipes.info()"
   ]
  },
  {
   "cell_type": "markdown",
   "metadata": {},
   "source": [
    "low-sodium : <= 5 FDA 5%\n",
    "low-fat : <= 5  FDA 5%\n",
    "sugar-free : 0  FDA 0%\n",
    "low-carb : <=5   No FDA rule\n",
    "low-protein : <=5 No FDA rule"
   ]
  },
  {
   "cell_type": "code",
   "execution_count": 26,
   "metadata": {},
   "outputs": [],
   "source": [
    "recipes['salt_free'] = recipes['sodium_pdv'].apply(lambda x: 1 if x == 0 else 0)\n",
    "recipes['low_sodium'] = recipes['sodium_pdv'].apply(lambda x: 1 if x < 5 else 0)\n",
    "recipes['fat_free'] = recipes['total_fat_pdv'].apply(lambda x: 1 if x == 0 else 0)\n",
    "recipes['low_fat'] = recipes['total_fat_pdv'].apply(lambda x: 1 if x < 5 else 0)\n",
    "recipes['sugar_free'] = recipes['sugar_pdv'].apply(lambda x: 1 if x == 0 else 0)\n",
    "recipes['low_sugar'] = recipes['sugar_pdv'].apply(lambda x: 1 if x < 5 else 0)"
   ]
  },
  {
   "cell_type": "code",
   "execution_count": 27,
   "metadata": {},
   "outputs": [],
   "source": [
    "gluten_ingredients = [\n",
    "    'wheat', 'flour', 'barley', 'rye', 'bread', 'pasta', 'semolina', 'spelt',\n",
    "    'bulgur', 'couscous', 'farro', 'graham', 'triticale'\n",
    "]\n",
    "peanut_ingredients = [\n",
    "    'peanuts', 'peanut butter', 'peanut oil'\n",
    "]\n",
    "tree_nuts_ingredients = [\n",
    "    'almonds', 'walnuts', 'cashews', 'pecans', 'hazelnuts', 'pistachios',\n",
    "    'macadamia nuts', 'brazil nuts'\n",
    "]\n",
    "dairy_ingredients = [\n",
    "    'milk', 'cheese', 'butter', 'cream', 'yogurt', 'casein', 'whey', 'ghee'\n",
    "]\n",
    "egg_ingredients = [\n",
    "    'egg', 'eggs', 'egg yolk', 'egg white', 'albumin'\n",
    "]\n",
    "soy_ingredients = [\n",
    "    'soy', 'soybeans', 'soy flour', 'soy sauce', 'tofu', 'edamame', 'miso', 'tempeh'\n",
    "]\n",
    "sesame_ingredients = [\n",
    "    'sesame', 'sesame seeds', 'tahini', 'sesame oil'\n",
    "]\n",
    "corn_ingredients = [\n",
    "    'corn', 'corn flour', 'corn starch', 'corn syrup', 'masa', 'hominy', 'polenta'\n",
    "]\n",
    "shellfish_ingredients = [\n",
    "    'shrimp', 'prawns', 'crab', 'lobster', 'clams', 'scallops', 'oysters', 'mussels'\n",
    "]"
   ]
  },
  {
   "cell_type": "code",
   "execution_count": 28,
   "metadata": {},
   "outputs": [],
   "source": [
    "def is_free_from(ingredients, exclusion_list):\n",
    "    \"\"\"\n",
    "    Return 1 if recipe is free from all ingredients in exclusion_list.\n",
    "    \"\"\"\n",
    "    # Make ingredients lowercase to ensure matching\n",
    "    ingredients = [ing.lower() for ing in ingredients]\n",
    "    \n",
    "    return 0 if any(ex in ing for ex in exclusion_list for ing in ingredients) else 1"
   ]
  },
  {
   "cell_type": "code",
   "execution_count": 29,
   "metadata": {},
   "outputs": [],
   "source": [
    "recipes['gluten_free'] = recipes['cleaned_ingredients'].apply(lambda x: is_free_from(x, gluten_ingredients))\n",
    "recipes['peanut_free'] = recipes['cleaned_ingredients'].apply(lambda x: is_free_from(x, peanut_ingredients))\n",
    "recipes['nut_free'] = recipes['cleaned_ingredients'].apply(lambda x: is_free_from(x, tree_nuts_ingredients + peanut_ingredients))\n",
    "recipes['dairy_free'] = recipes['cleaned_ingredients'].apply(lambda x: is_free_from(x, dairy_ingredients))\n",
    "recipes['egg_free'] = recipes['cleaned_ingredients'].apply(lambda x: is_free_from(x, egg_ingredients))\n",
    "recipes['soy_free'] = recipes['cleaned_ingredients'].apply(lambda x: is_free_from(x, soy_ingredients))\n",
    "recipes['sesame_free'] = recipes['cleaned_ingredients'].apply(lambda x: is_free_from(x, sesame_ingredients))\n",
    "recipes['corn_free'] = recipes['cleaned_ingredients'].apply(lambda x: is_free_from(x, corn_ingredients))\n",
    "recipes['shellfish_free'] = recipes['cleaned_ingredients'].apply(lambda x: is_free_from(x, shellfish_ingredients))"
   ]
  },
  {
   "cell_type": "code",
   "execution_count": 30,
   "metadata": {},
   "outputs": [],
   "source": [
    "recipes.to_pickle(f\"{data_dir}/recipes_extended.pkl\")"
   ]
  },
  {
   "cell_type": "markdown",
   "metadata": {},
   "source": [
    "## Feature Engineering for pp_users dataset"
   ]
  },
  {
   "cell_type": "code",
   "execution_count": 31,
   "metadata": {},
   "outputs": [
    {
     "name": "stdout",
     "output_type": "stream",
     "text": [
      "<class 'pandas.core.frame.DataFrame'>\n",
      "RangeIndex: 25076 entries, 0 to 25075\n",
      "Data columns (total 7 columns):\n",
      " #   Column            Non-Null Count  Dtype \n",
      "---  ------            --------------  ----- \n",
      " 0   u                 25076 non-null  int64 \n",
      " 1   techniques        25076 non-null  object\n",
      " 2   items             25076 non-null  object\n",
      " 3   n_items           25076 non-null  int64 \n",
      " 4   ratings           25076 non-null  object\n",
      " 5   n_ratings         25076 non-null  int64 \n",
      " 6   techniques_array  25076 non-null  object\n",
      "dtypes: int64(3), object(4)\n",
      "memory usage: 1.3+ MB\n"
     ]
    }
   ],
   "source": [
    "pp_users.info()"
   ]
  },
  {
   "cell_type": "code",
   "execution_count": 32,
   "metadata": {},
   "outputs": [
    {
     "data": {
      "text/html": [
       "<div>\n",
       "<style scoped>\n",
       "    .dataframe tbody tr th:only-of-type {\n",
       "        vertical-align: middle;\n",
       "    }\n",
       "\n",
       "    .dataframe tbody tr th {\n",
       "        vertical-align: top;\n",
       "    }\n",
       "\n",
       "    .dataframe thead th {\n",
       "        text-align: right;\n",
       "    }\n",
       "</style>\n",
       "<table border=\"1\" class=\"dataframe\">\n",
       "  <thead>\n",
       "    <tr style=\"text-align: right;\">\n",
       "      <th></th>\n",
       "      <th>u</th>\n",
       "      <th>techniques</th>\n",
       "      <th>items</th>\n",
       "      <th>n_items</th>\n",
       "      <th>ratings</th>\n",
       "      <th>n_ratings</th>\n",
       "      <th>techniques_array</th>\n",
       "    </tr>\n",
       "  </thead>\n",
       "  <tbody>\n",
       "    <tr>\n",
       "      <th>0</th>\n",
       "      <td>0</td>\n",
       "      <td>[8, 0, 0, 5, 6, 0, 0, 1, 0, 9, 1, 0, 0, 0, 1, ...</td>\n",
       "      <td>[1118, 27680, 32541, 137353, 16428, 28815, 658...</td>\n",
       "      <td>31</td>\n",
       "      <td>[5.0, 5.0, 5.0, 5.0, 5.0, 5.0, 5.0, 4.0, 4.0, ...</td>\n",
       "      <td>31</td>\n",
       "      <td>[8, 0, 0, 5, 6, 0, 0, 1, 0, 9, 1, 0, 0, 0, 1, ...</td>\n",
       "    </tr>\n",
       "    <tr>\n",
       "      <th>1</th>\n",
       "      <td>1</td>\n",
       "      <td>[11, 0, 0, 2, 12, 0, 0, 0, 0, 14, 5, 0, 0, 0, ...</td>\n",
       "      <td>[122140, 77036, 156817, 76957, 68818, 155600, ...</td>\n",
       "      <td>39</td>\n",
       "      <td>[5.0, 5.0, 5.0, 5.0, 5.0, 5.0, 5.0, 5.0, 5.0, ...</td>\n",
       "      <td>39</td>\n",
       "      <td>[11, 0, 0, 2, 12, 0, 0, 0, 0, 14, 5, 0, 0, 0, ...</td>\n",
       "    </tr>\n",
       "    <tr>\n",
       "      <th>2</th>\n",
       "      <td>2</td>\n",
       "      <td>[13, 0, 0, 7, 5, 0, 1, 2, 1, 11, 0, 1, 0, 0, 1...</td>\n",
       "      <td>[168054, 87218, 35731, 1, 20475, 9039, 124834,...</td>\n",
       "      <td>27</td>\n",
       "      <td>[3.0, 4.0, 4.0, 4.0, 4.0, 4.0, 4.0, 4.0, 5.0, ...</td>\n",
       "      <td>27</td>\n",
       "      <td>[13, 0, 0, 7, 5, 0, 1, 2, 1, 11, 0, 1, 0, 0, 1...</td>\n",
       "    </tr>\n",
       "    <tr>\n",
       "      <th>3</th>\n",
       "      <td>3</td>\n",
       "      <td>[498, 13, 4, 218, 376, 3, 2, 33, 16, 591, 10, ...</td>\n",
       "      <td>[163193, 156352, 102888, 19914, 169438, 55772,...</td>\n",
       "      <td>1513</td>\n",
       "      <td>[5.0, 5.0, 5.0, 5.0, 4.0, 4.0, 5.0, 5.0, 5.0, ...</td>\n",
       "      <td>1513</td>\n",
       "      <td>[498, 13, 4, 218, 376, 3, 2, 33, 16, 591, 10, ...</td>\n",
       "    </tr>\n",
       "    <tr>\n",
       "      <th>4</th>\n",
       "      <td>4</td>\n",
       "      <td>[161, 1, 1, 86, 93, 0, 0, 11, 2, 141, 0, 16, 0...</td>\n",
       "      <td>[72857, 38652, 160427, 55772, 119999, 141777, ...</td>\n",
       "      <td>376</td>\n",
       "      <td>[5.0, 5.0, 5.0, 5.0, 4.0, 4.0, 5.0, 4.0, 5.0, ...</td>\n",
       "      <td>376</td>\n",
       "      <td>[161, 1, 1, 86, 93, 0, 0, 11, 2, 141, 0, 16, 0...</td>\n",
       "    </tr>\n",
       "    <tr>\n",
       "      <th>5</th>\n",
       "      <td>5</td>\n",
       "      <td>[96, 2, 0, 38, 71, 0, 3, 9, 1, 90, 12, 13, 0, ...</td>\n",
       "      <td>[122026, 57553, 176588, 64777, 22746, 13097, 1...</td>\n",
       "      <td>290</td>\n",
       "      <td>[4.0, 4.0, 1.0, 3.0, 1.0, 4.0, 3.0, 3.0, 3.0, ...</td>\n",
       "      <td>290</td>\n",
       "      <td>[96, 2, 0, 38, 71, 0, 3, 9, 1, 90, 12, 13, 0, ...</td>\n",
       "    </tr>\n",
       "    <tr>\n",
       "      <th>6</th>\n",
       "      <td>6</td>\n",
       "      <td>[2, 1, 0, 1, 0, 0, 0, 0, 0, 2, 0, 0, 0, 0, 0, ...</td>\n",
       "      <td>[64490, 3, 98141, 49558]</td>\n",
       "      <td>4</td>\n",
       "      <td>[5.0, 5.0, 5.0, 5.0]</td>\n",
       "      <td>4</td>\n",
       "      <td>[2, 1, 0, 1, 0, 0, 0, 0, 0, 2, 0, 0, 0, 0, 0, ...</td>\n",
       "    </tr>\n",
       "    <tr>\n",
       "      <th>7</th>\n",
       "      <td>7</td>\n",
       "      <td>[6, 0, 0, 2, 1, 0, 0, 1, 0, 5, 1, 0, 0, 0, 0, ...</td>\n",
       "      <td>[12938, 43057, 84375, 105841, 62768, 155858, 1...</td>\n",
       "      <td>16</td>\n",
       "      <td>[0.0, 5.0, 0.0, 5.0, 0.0, 0.0, 0.0, 0.0, 0.0, ...</td>\n",
       "      <td>16</td>\n",
       "      <td>[6, 0, 0, 2, 1, 0, 0, 1, 0, 5, 1, 0, 0, 0, 0, ...</td>\n",
       "    </tr>\n",
       "    <tr>\n",
       "      <th>8</th>\n",
       "      <td>8</td>\n",
       "      <td>[87, 1, 0, 33, 49, 0, 0, 8, 2, 95, 1, 4, 0, 1,...</td>\n",
       "      <td>[139822, 28774, 149235, 127227, 73843, 68663, ...</td>\n",
       "      <td>232</td>\n",
       "      <td>[4.0, 5.0, 4.0, 5.0, 5.0, 5.0, 5.0, 4.0, 5.0, ...</td>\n",
       "      <td>232</td>\n",
       "      <td>[87, 1, 0, 33, 49, 0, 0, 8, 2, 95, 1, 4, 0, 1,...</td>\n",
       "    </tr>\n",
       "    <tr>\n",
       "      <th>9</th>\n",
       "      <td>9</td>\n",
       "      <td>[2, 0, 0, 0, 0, 0, 0, 0, 0, 2, 0, 0, 0, 0, 0, ...</td>\n",
       "      <td>[116193, 3, 20238, 9967, 11115, 96404]</td>\n",
       "      <td>6</td>\n",
       "      <td>[4.0, 5.0, 5.0, 3.0, 5.0, 5.0]</td>\n",
       "      <td>6</td>\n",
       "      <td>[2, 0, 0, 0, 0, 0, 0, 0, 0, 2, 0, 0, 0, 0, 0, ...</td>\n",
       "    </tr>\n",
       "  </tbody>\n",
       "</table>\n",
       "</div>"
      ],
      "text/plain": [
       "   u                                         techniques  \\\n",
       "0  0  [8, 0, 0, 5, 6, 0, 0, 1, 0, 9, 1, 0, 0, 0, 1, ...   \n",
       "1  1  [11, 0, 0, 2, 12, 0, 0, 0, 0, 14, 5, 0, 0, 0, ...   \n",
       "2  2  [13, 0, 0, 7, 5, 0, 1, 2, 1, 11, 0, 1, 0, 0, 1...   \n",
       "3  3  [498, 13, 4, 218, 376, 3, 2, 33, 16, 591, 10, ...   \n",
       "4  4  [161, 1, 1, 86, 93, 0, 0, 11, 2, 141, 0, 16, 0...   \n",
       "5  5  [96, 2, 0, 38, 71, 0, 3, 9, 1, 90, 12, 13, 0, ...   \n",
       "6  6  [2, 1, 0, 1, 0, 0, 0, 0, 0, 2, 0, 0, 0, 0, 0, ...   \n",
       "7  7  [6, 0, 0, 2, 1, 0, 0, 1, 0, 5, 1, 0, 0, 0, 0, ...   \n",
       "8  8  [87, 1, 0, 33, 49, 0, 0, 8, 2, 95, 1, 4, 0, 1,...   \n",
       "9  9  [2, 0, 0, 0, 0, 0, 0, 0, 0, 2, 0, 0, 0, 0, 0, ...   \n",
       "\n",
       "                                               items  n_items  \\\n",
       "0  [1118, 27680, 32541, 137353, 16428, 28815, 658...       31   \n",
       "1  [122140, 77036, 156817, 76957, 68818, 155600, ...       39   \n",
       "2  [168054, 87218, 35731, 1, 20475, 9039, 124834,...       27   \n",
       "3  [163193, 156352, 102888, 19914, 169438, 55772,...     1513   \n",
       "4  [72857, 38652, 160427, 55772, 119999, 141777, ...      376   \n",
       "5  [122026, 57553, 176588, 64777, 22746, 13097, 1...      290   \n",
       "6                           [64490, 3, 98141, 49558]        4   \n",
       "7  [12938, 43057, 84375, 105841, 62768, 155858, 1...       16   \n",
       "8  [139822, 28774, 149235, 127227, 73843, 68663, ...      232   \n",
       "9             [116193, 3, 20238, 9967, 11115, 96404]        6   \n",
       "\n",
       "                                             ratings  n_ratings  \\\n",
       "0  [5.0, 5.0, 5.0, 5.0, 5.0, 5.0, 5.0, 4.0, 4.0, ...         31   \n",
       "1  [5.0, 5.0, 5.0, 5.0, 5.0, 5.0, 5.0, 5.0, 5.0, ...         39   \n",
       "2  [3.0, 4.0, 4.0, 4.0, 4.0, 4.0, 4.0, 4.0, 5.0, ...         27   \n",
       "3  [5.0, 5.0, 5.0, 5.0, 4.0, 4.0, 5.0, 5.0, 5.0, ...       1513   \n",
       "4  [5.0, 5.0, 5.0, 5.0, 4.0, 4.0, 5.0, 4.0, 5.0, ...        376   \n",
       "5  [4.0, 4.0, 1.0, 3.0, 1.0, 4.0, 3.0, 3.0, 3.0, ...        290   \n",
       "6                               [5.0, 5.0, 5.0, 5.0]          4   \n",
       "7  [0.0, 5.0, 0.0, 5.0, 0.0, 0.0, 0.0, 0.0, 0.0, ...         16   \n",
       "8  [4.0, 5.0, 4.0, 5.0, 5.0, 5.0, 5.0, 4.0, 5.0, ...        232   \n",
       "9                     [4.0, 5.0, 5.0, 3.0, 5.0, 5.0]          6   \n",
       "\n",
       "                                    techniques_array  \n",
       "0  [8, 0, 0, 5, 6, 0, 0, 1, 0, 9, 1, 0, 0, 0, 1, ...  \n",
       "1  [11, 0, 0, 2, 12, 0, 0, 0, 0, 14, 5, 0, 0, 0, ...  \n",
       "2  [13, 0, 0, 7, 5, 0, 1, 2, 1, 11, 0, 1, 0, 0, 1...  \n",
       "3  [498, 13, 4, 218, 376, 3, 2, 33, 16, 591, 10, ...  \n",
       "4  [161, 1, 1, 86, 93, 0, 0, 11, 2, 141, 0, 16, 0...  \n",
       "5  [96, 2, 0, 38, 71, 0, 3, 9, 1, 90, 12, 13, 0, ...  \n",
       "6  [2, 1, 0, 1, 0, 0, 0, 0, 0, 2, 0, 0, 0, 0, 0, ...  \n",
       "7  [6, 0, 0, 2, 1, 0, 0, 1, 0, 5, 1, 0, 0, 0, 0, ...  \n",
       "8  [87, 1, 0, 33, 49, 0, 0, 8, 2, 95, 1, 4, 0, 1,...  \n",
       "9  [2, 0, 0, 0, 0, 0, 0, 0, 0, 2, 0, 0, 0, 0, 0, ...  "
      ]
     },
     "execution_count": 32,
     "metadata": {},
     "output_type": "execute_result"
    }
   ],
   "source": [
    "pp_users.head(10)"
   ]
  },
  {
   "cell_type": "code",
   "execution_count": 33,
   "metadata": {},
   "outputs": [],
   "source": [
    "#how generous or critical a user is\n",
    "pp_users['avg_rating'] = pp_users['ratings'].apply(\n",
    "    lambda x: np.mean(x) if isinstance(x, list) and len(x) > 0 else 0\n",
    ")"
   ]
  },
  {
   "cell_type": "code",
   "execution_count": 34,
   "metadata": {},
   "outputs": [],
   "source": [
    "pp_users['avg_rating_scaled'] = scaler.fit_transform(pp_users[['avg_rating']])"
   ]
  },
  {
   "cell_type": "code",
   "execution_count": 35,
   "metadata": {},
   "outputs": [],
   "source": [
    "#Variability in rating, consistency vs. randon rates\n",
    "pp_users['rating_std'] = pp_users['ratings'].apply(\n",
    "    lambda x: np.std(x) if isinstance(x, list) and len(x) > 0 else 0\n",
    ")"
   ]
  },
  {
   "cell_type": "code",
   "execution_count": 36,
   "metadata": {},
   "outputs": [],
   "source": [
    "def interaction_category(n_items):\n",
    "    if n_items < 10:\n",
    "        return 'casual'\n",
    "    elif n_items < 50:\n",
    "        return 'regular'\n",
    "    else:\n",
    "        return 'power_user'\n"
   ]
  },
  {
   "cell_type": "code",
   "execution_count": 37,
   "metadata": {},
   "outputs": [],
   "source": [
    "# User interaction level --> categorical feature\n",
    "pp_users['interaction_level'] = pp_users['n_items'].apply(interaction_category)\n",
    "pp_users['interaction_level'] = pp_users['interaction_level'].astype('category')"
   ]
  },
  {
   "cell_type": "code",
   "execution_count": 38,
   "metadata": {},
   "outputs": [],
   "source": [
    "#Numb. of technique use by a user can indicate the mastery of cooking skill --> prefer more complex recipes\n",
    "pp_users['technique_diversity'] = pp_users['techniques_array'].apply(\n",
    "    lambda x: len(set(x)) if isinstance(x, list) else 0\n",
    ")"
   ]
  },
  {
   "cell_type": "markdown",
   "metadata": {},
   "source": [
    "Look for technique labels to map --> check this "
   ]
  },
  {
   "cell_type": "code",
   "execution_count": 39,
   "metadata": {},
   "outputs": [],
   "source": [
    "pp_users['most_common_technique'] = pp_users['techniques_array'].apply(\n",
    "    lambda techniques: Counter(techniques).most_common(1)[0][0] \n",
    "    if isinstance(techniques, list) and len(techniques) > 0 \n",
    "    else None\n",
    ")"
   ]
  },
  {
   "cell_type": "code",
   "execution_count": 40,
   "metadata": {},
   "outputs": [],
   "source": [
    "recipes_indexed = recipes.set_index('id')"
   ]
  },
  {
   "cell_type": "markdown",
   "metadata": {},
   "source": [
    "### Dietary profile for the user given their recipe interactions"
   ]
  },
  {
   "cell_type": "code",
   "execution_count": 41,
   "metadata": {},
   "outputs": [],
   "source": [
    "#Build dietary profile for a given user\n",
    "def build_user_diet_profile(user_items, recipes_df, dietary_columns):\n",
    "    # recipes_df is indexed by 'id'\n",
    "    user_recipes = recipes_df.loc[recipes_df.index.intersection(user_items)]\n",
    "    \n",
    "    if user_recipes.empty:\n",
    "        # No recipes found for this user, return zeros\n",
    "        return pd.Series([0] * len(dietary_columns), index=dietary_columns)\n",
    "    \n",
    "    # Mean of dietary tags across the recipes\n",
    "    return user_recipes[dietary_columns].mean()\n"
   ]
  },
  {
   "cell_type": "code",
   "execution_count": 42,
   "metadata": {},
   "outputs": [],
   "source": [
    "diet_profiles = pp_users['items'].apply(\n",
    "    lambda recipe_ids: build_user_diet_profile(recipe_ids, recipes_indexed, dietary_tags)\n",
    ")"
   ]
  },
  {
   "cell_type": "code",
   "execution_count": 43,
   "metadata": {},
   "outputs": [],
   "source": [
    "pp_users = pd.concat([pp_users, diet_profiles], axis=1)"
   ]
  },
  {
   "cell_type": "code",
   "execution_count": 44,
   "metadata": {},
   "outputs": [],
   "source": [
    "pp_users.to_pickle(f'{data_dir}/pp_users_extended.pkl')"
   ]
  }
 ],
 "metadata": {
  "kernelspec": {
   "display_name": ".venv",
   "language": "python",
   "name": "python3"
  },
  "language_info": {
   "codemirror_mode": {
    "name": "ipython",
    "version": 3
   },
   "file_extension": ".py",
   "mimetype": "text/x-python",
   "name": "python",
   "nbconvert_exporter": "python",
   "pygments_lexer": "ipython3",
   "version": "3.11.6"
  }
 },
 "nbformat": 4,
 "nbformat_minor": 2
}
