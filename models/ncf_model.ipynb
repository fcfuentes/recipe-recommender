{
  "cells": [
    {
      "cell_type": "markdown",
      "metadata": {
        "id": "581uS24lXzF2"
      },
      "source": [
        "## Neural Collaborative Filtering Model"
      ]
    },
    {
      "cell_type": "code",
      "execution_count": 1,
      "metadata": {
        "id": "MkY0iPEiXzF4"
      },
      "outputs": [],
      "source": [
        "import numpy as np\n",
        "import pandas as pd\n",
        "import tensorflow as tf\n",
        "import matplotlib.pyplot as plt\n",
        "from functools import reduce\n",
        "from itertools import product\n",
        "from sklearn.model_selection import train_test_split\n",
        "from itertools import product\n",
        "from tensorflow.keras.models import Model\n",
        "from tensorflow.keras.layers import (Input,Embedding,Flatten,Dense,Concatenate,Dropout,BatchNormalization)\n",
        "from tensorflow.keras.callbacks import EarlyStopping\n",
        "from sklearn.metrics import mean_absolute_error, root_mean_squared_error, mean_squared_error\n",
        "from sklearn.preprocessing import LabelEncoder\n",
        "from sklearn.preprocessing import MinMaxScaler"
      ]
    },
    {
      "cell_type": "code",
      "execution_count": null,
      "metadata": {
        "colab": {
          "base_uri": "https://localhost:8080/"
        },
        "id": "s_o-2VtrXzF4",
        "outputId": "89004100-3728-4f68-e2c1-64cd9aec47ac"
      },
      "outputs": [
        {
          "name": "stdout",
          "output_type": "stream",
          "text": [
            "Drive already mounted at /content/drive; to attempt to forcibly remount, call drive.mount(\"/content/drive\", force_remount=True).\n"
          ]
        }
      ],
      "source": [
        "# from google.colab import drive\n",
        "# drive.mount('/content/drive')\n",
        "# data_dir = \"/content/drive/MyDrive/Data\"\n",
        "# extended_interactions = pd.read_pickle(f'{data_dir}/interactions_extended.pkl')\n",
        "# extended_recipes = pd.read_pickle(f'{data_dir}/recipes_extended.pkl')\n",
        "data_dir = \"../data\"\n",
        "extended_interactions = pd.read_pickle(f'{data_dir}/interactions_extended.pkl')\n",
        "extended_recipes = pd.read_pickle(f'{data_dir}/recipes_extended.pkl')"
      ]
    },
    {
      "cell_type": "code",
      "execution_count": 3,
      "metadata": {
        "colab": {
          "base_uri": "https://localhost:8080/"
        },
        "id": "FsyHG2SFXzF5",
        "outputId": "3c4750f6-fc78-4852-be14-06c8bfdda15b"
      },
      "outputs": [
        {
          "name": "stdout",
          "output_type": "stream",
          "text": [
            "<class 'pandas.core.frame.DataFrame'>\n",
            "RangeIndex: 1132367 entries, 0 to 1132366\n",
            "Data columns (total 15 columns):\n",
            " #   Column                  Non-Null Count    Dtype         \n",
            "---  ------                  --------------    -----         \n",
            " 0   user_id                 1132367 non-null  int64         \n",
            " 1   recipe_id               1132367 non-null  int64         \n",
            " 2   date                    1132367 non-null  datetime64[ns]\n",
            " 3   rating                  1132367 non-null  int64         \n",
            " 4   review                  1132367 non-null  object        \n",
            " 5   year                    1132367 non-null  int32         \n",
            " 6   month                   1132367 non-null  int32         \n",
            " 7   day_of_week             1132367 non-null  int32         \n",
            " 8   days_since              1132367 non-null  int64         \n",
            " 9   interaction_count       1132367 non-null  int64         \n",
            " 10  rating_scaled           1132367 non-null  float64       \n",
            " 11  user_avg_rating_scaled  1132367 non-null  float64       \n",
            " 12  review_length           1132367 non-null  int64         \n",
            " 13  polarity                1132367 non-null  float64       \n",
            " 14  subjectivity            1132367 non-null  float64       \n",
            "dtypes: datetime64[ns](1), float64(4), int32(3), int64(6), object(1)\n",
            "memory usage: 116.6+ MB\n"
          ]
        }
      ],
      "source": [
        "extended_interactions.info()"
      ]
    },
    {
      "cell_type": "code",
      "execution_count": 4,
      "metadata": {
        "colab": {
          "base_uri": "https://localhost:8080/"
        },
        "id": "WHj-4sXUXzF5",
        "outputId": "829f918e-380b-4d5d-f131-4da082cbc634"
      },
      "outputs": [
        {
          "name": "stdout",
          "output_type": "stream",
          "text": [
            "<class 'pandas.core.frame.DataFrame'>\n",
            "Index: 231636 entries, 0 to 231636\n",
            "Data columns (total 86 columns):\n",
            " #   Column                  Non-Null Count   Dtype         \n",
            "---  ------                  --------------   -----         \n",
            " 0   name                    231636 non-null  object        \n",
            " 1   id                      231636 non-null  int64         \n",
            " 2   minutes                 231636 non-null  int64         \n",
            " 3   contributor_id          231636 non-null  int64         \n",
            " 4   submitted               231636 non-null  datetime64[ns]\n",
            " 5   tags                    231636 non-null  object        \n",
            " 6   nutrition               231636 non-null  object        \n",
            " 7   n_steps                 231636 non-null  int64         \n",
            " 8   steps                   231636 non-null  object        \n",
            " 9   description             231636 non-null  object        \n",
            " 10  ingredients             231636 non-null  object        \n",
            " 11  n_ingredients           231636 non-null  int64         \n",
            " 12  calories                231636 non-null  float64       \n",
            " 13  total_fat_pdv           231636 non-null  float64       \n",
            " 14  sugar_pdv               231636 non-null  float64       \n",
            " 15  sodium_pdv              231636 non-null  float64       \n",
            " 16  protein_pdv             231636 non-null  float64       \n",
            " 17  saturated_fat_pdv       231636 non-null  float64       \n",
            " 18  carbs_pdv               231636 non-null  float64       \n",
            " 19  total_fat_pdv_norm      231636 non-null  float64       \n",
            " 20  sugar_pdv_norm          231636 non-null  float64       \n",
            " 21  sodium_pdv_norm         231636 non-null  float64       \n",
            " 22  protein_pdv_norm        231636 non-null  float64       \n",
            " 23  saturated_fat_pdv_norm  231636 non-null  float64       \n",
            " 24  carbs_pdv_norm          231636 non-null  float64       \n",
            " 25  minutes_normalized      231636 non-null  float64       \n",
            " 26  n_steps_norm            231636 non-null  float64       \n",
            " 27  cleaned_ingredients     231636 non-null  object        \n",
            " 28  year                    231636 non-null  int32         \n",
            " 29  month                   231636 non-null  int32         \n",
            " 30  weekday                 231636 non-null  int32         \n",
            " 31  time_bin                230542 non-null  category      \n",
            " 32  complexity              231636 non-null  int64         \n",
            " 33  n_ingredients_norm      231636 non-null  float64       \n",
            " 34  vegan                   231636 non-null  int64         \n",
            " 35  vegetarian              231636 non-null  int64         \n",
            " 36  pescatarian             231636 non-null  int64         \n",
            " 37  flexitarian             231636 non-null  int64         \n",
            " 38  raw                     231636 non-null  int64         \n",
            " 39  paleo                   231636 non-null  int64         \n",
            " 40  keto                    231636 non-null  int64         \n",
            " 41  mediterranean           231636 non-null  int64         \n",
            " 42  macrobiotic             231636 non-null  int64         \n",
            " 43  zone_diet               231636 non-null  int64         \n",
            " 44  carnivore_diet          231636 non-null  int64         \n",
            " 45  alkaline_diet           231636 non-null  int64         \n",
            " 46  whole30                 231636 non-null  int64         \n",
            " 47  dash_diet               231636 non-null  int64         \n",
            " 48  low_carb                231636 non-null  int64         \n",
            " 49  high_protein            231636 non-null  int64         \n",
            " 50  low_fat                 231636 non-null  int64         \n",
            " 51  fat_free                231636 non-null  int64         \n",
            " 52  clean_eating            231636 non-null  int64         \n",
            " 53  plant_based             231636 non-null  int64         \n",
            " 54  diabetic_friendly       231636 non-null  int64         \n",
            " 55  heart_healthy           231636 non-null  int64         \n",
            " 56  renal_diet              231636 non-null  int64         \n",
            " 57  anti_inflammatory       231636 non-null  int64         \n",
            " 58  low_fodmap              231636 non-null  int64         \n",
            " 59  cholesterol_free        231636 non-null  int64         \n",
            " 60  low_sodium              231636 non-null  int64         \n",
            " 61  salt_free               231636 non-null  int64         \n",
            " 62  weight_watchers         231636 non-null  int64         \n",
            " 63  pcos_friendly           231636 non-null  int64         \n",
            " 64  gallbladder_friendly    231636 non-null  int64         \n",
            " 65  thyroid_friendly        231636 non-null  int64         \n",
            " 66  gluten_free             231636 non-null  int64         \n",
            " 67  wheat_free              231636 non-null  int64         \n",
            " 68  nut_free                231636 non-null  int64         \n",
            " 69  peanut_free             231636 non-null  int64         \n",
            " 70  dairy_free              231636 non-null  int64         \n",
            " 71  lactose_free            231636 non-null  int64         \n",
            " 72  soy_free                231636 non-null  int64         \n",
            " 73  egg_free                231636 non-null  int64         \n",
            " 74  sesame_free             231636 non-null  int64         \n",
            " 75  corn_free               231636 non-null  int64         \n",
            " 76  shellfish_free          231636 non-null  int64         \n",
            " 77  seafood_free            231636 non-null  int64         \n",
            " 78  sulfite_free            231636 non-null  int64         \n",
            " 79  kosher                  231636 non-null  int64         \n",
            " 80  halal                   231636 non-null  int64         \n",
            " 81  jain                    231636 non-null  int64         \n",
            " 82  lacto_vegetarian        231636 non-null  int64         \n",
            " 83  ovo_vegetarian          231636 non-null  int64         \n",
            " 84  sugar_free              231636 non-null  int64         \n",
            " 85  low_sugar               231636 non-null  int64         \n",
            "dtypes: category(1), datetime64[ns](1), float64(16), int32(3), int64(58), object(7)\n",
            "memory usage: 149.6+ MB\n"
          ]
        }
      ],
      "source": [
        "extended_recipes.info()"
      ]
    },
    {
      "cell_type": "markdown",
      "metadata": {
        "id": "hBlMAntPXzF6"
      },
      "source": [
        "### Preparing data - Encode user_id and recipe_id"
      ]
    },
    {
      "cell_type": "markdown",
      "metadata": {
        "id": "mQW--kTVXzF6"
      },
      "source": [
        "Some interactions might reference recipes that are missing from the recipe dataset. Let’s remove any interactions where the recipe is not present in the recipe data."
      ]
    },
    {
      "cell_type": "code",
      "execution_count": 5,
      "metadata": {
        "id": "Gk1nXgXDXzF6"
      },
      "outputs": [],
      "source": [
        "valid_recipes_ids = set(extended_recipes['id'])\n",
        "extended_interactions = extended_interactions[ extended_interactions['recipe_id'].isin(valid_recipes_ids)].reset_index(drop=True)"
      ]
    },
    {
      "cell_type": "code",
      "execution_count": 6,
      "metadata": {
        "id": "1L6GaNICXzF6"
      },
      "outputs": [],
      "source": [
        "recipe_encoder = LabelEncoder()\n",
        "user_encoder = LabelEncoder()\n",
        "recipe_encoder.fit(extended_recipes['id'])\n",
        "\n",
        "extended_recipes['recipe_idx'] = recipe_encoder.transform(extended_recipes['id'])\n",
        "extended_interactions['recipe_idx'] = recipe_encoder.transform(extended_interactions['recipe_id'])\n",
        "extended_interactions['user_idx'] = user_encoder.fit_transform(extended_interactions['user_id'])"
      ]
    },
    {
      "cell_type": "markdown",
      "metadata": {
        "id": "IT_XPFZCXzF7"
      },
      "source": [
        "Just to be sure, we check that no encoded index exceeds the embedding size"
      ]
    },
    {
      "cell_type": "code",
      "execution_count": 7,
      "metadata": {
        "id": "s-OzH9jkXzF7"
      },
      "outputs": [],
      "source": [
        "assert extended_interactions['recipe_idx'].max() < recipe_encoder.classes_.shape[0]\n",
        "assert extended_interactions['user_idx'].max() < user_encoder.classes_.shape[0]"
      ]
    },
    {
      "cell_type": "code",
      "execution_count": 8,
      "metadata": {
        "colab": {
          "base_uri": "https://localhost:8080/"
        },
        "id": "deAM8RuXXzF7",
        "outputId": "ced25895-f63a-4997-92f7-f166206777c7"
      },
      "outputs": [
        {
          "name": "stdout",
          "output_type": "stream",
          "text": [
            "interactions_idx min (interactions): 0\n",
            "interactions_idx max (interactions): 231635\n",
            "recipe_idx min (recipes): 0\n",
            "recipe_idx max (recipes): 231635\n",
            "user_idx min: 0\n",
            "user_idx max: 226568\n"
          ]
        }
      ],
      "source": [
        "print(\"interactions_idx min (interactions):\", extended_interactions['recipe_idx'].min())\n",
        "print(\"interactions_idx max (interactions):\", extended_interactions['recipe_idx'].max())\n",
        "print(\"recipe_idx min (recipes):\", extended_recipes['recipe_idx'].min())\n",
        "print(\"recipe_idx max (recipes):\", extended_recipes['recipe_idx'].max())\n",
        "print(\"user_idx min:\", extended_interactions['user_idx'].min())\n",
        "print(\"user_idx max:\", extended_interactions['user_idx'].max())"
      ]
    },
    {
      "cell_type": "markdown",
      "metadata": {
        "id": "JAOq8pg6XzF7"
      },
      "source": [
        "### Prepare train and test datasets for modeling"
      ]
    },
    {
      "cell_type": "code",
      "execution_count": 9,
      "metadata": {
        "id": "aBlHwF4NXzF7"
      },
      "outputs": [],
      "source": [
        "user_ids = extended_interactions['user_idx'].values\n",
        "recipe_ids = extended_interactions['recipe_idx'].values\n",
        "ratings = extended_interactions['rating_scaled'].values\n",
        "num_users = extended_interactions['user_idx'].nunique()\n",
        "num_recipes = extended_recipes['recipe_idx'].nunique()"
      ]
    },
    {
      "cell_type": "code",
      "execution_count": 10,
      "metadata": {
        "id": "KBCrxTObXzF7"
      },
      "outputs": [],
      "source": [
        "X_train_ids, X_test_ids, y_train, y_test = train_test_split(np.arange(len(user_ids)), ratings, test_size=0.2, random_state=999)\n",
        "\n",
        "X_train = [user_ids[X_train_ids], recipe_ids[X_train_ids]]\n",
        "X_test = [user_ids[X_test_ids], recipe_ids[X_test_ids]]\n"
      ]
    },
    {
      "cell_type": "code",
      "execution_count": 11,
      "metadata": {
        "id": "FNUhjWFOXzF8"
      },
      "outputs": [],
      "source": [
        "def train_and_evaluate(model, X_train, y_train, X_test, y_test, epochs=10, batch_size=128):\n",
        "    early_stop = EarlyStopping(monitor='val_loss', patience=3, restore_best_weights=True)\n",
        "    history = model.fit(X_train, y_train, validation_split=0.1, epochs=epochs, batch_size=batch_size, callbacks=[early_stop],verbose=1)\n",
        "\n",
        "    y_pred = model.predict(X_test).flatten()\n",
        "    mae = mean_absolute_error(y_test, y_pred)\n",
        "    rmse = np.sqrt(mean_squared_error(y_test, y_pred))\n",
        "\n",
        "    print(f\"MAE: {mae:.4f}, RMSE: {rmse:.4f}\")\n",
        "    return model, history"
      ]
    },
    {
      "cell_type": "code",
      "execution_count": 12,
      "metadata": {
        "id": "ND8ioRCfXzF8"
      },
      "outputs": [],
      "source": [
        "def plot_training(history):\n",
        "    plt.plot(history.history['loss'], label='Train Loss')\n",
        "    plt.plot(history.history['val_loss'], label='Val Loss')\n",
        "    plt.title('Loss Curve')\n",
        "    plt.xlabel('Epoch')\n",
        "    plt.ylabel('Loss')\n",
        "    plt.legend()\n",
        "    plt.grid(True)\n",
        "    plt.show()"
      ]
    },
    {
      "cell_type": "markdown",
      "metadata": {
        "id": "Szq7hsUuXzF8"
      },
      "source": [
        "## Model 1. Basic Neural Collaborative Filtering"
      ]
    },
    {
      "cell_type": "markdown",
      "metadata": {},
      "source": [
        "Neural Collaborative Filtering (NCF) uses embedding layers for users and items, and then combines those embeddings using a fully connected neural network."
      ]
    },
    {
      "cell_type": "code",
      "execution_count": 13,
      "metadata": {
        "id": "4_2JkwfrXzF8"
      },
      "outputs": [],
      "source": [
        "def build_basic_ncf(num_users, num_recipes, embed_dim, dense_units, dropout_rate, learning_rate):\n",
        "    # === Optimizer ===\n",
        "    optimizer = tf.keras.optimizers.Adam(learning_rate=learning_rate)\n",
        "    # === Inputs ===\n",
        "    user_input = Input(shape=(1,), name='user')\n",
        "    recipe_input = Input(shape=(1,), name='recipe')\n",
        "    # === Embeddings ===\n",
        "    user_embedding = Embedding(input_dim=num_users, output_dim=embed_dim)(user_input)\n",
        "    recipe_embedding = Embedding(input_dim=num_recipes, output_dim=embed_dim)(recipe_input)\n",
        "    # === Flatten embeddings ===\n",
        "    user_vec = Flatten()(user_embedding)\n",
        "    recipe_vec = Flatten()(recipe_embedding)\n",
        "    # === Concatenate embeddings ===\n",
        "    x = Concatenate()([user_vec, recipe_vec])\n",
        "    # === Dense layers ===\n",
        "    x = Dense(dense_units, activation='relu')(x)\n",
        "    x = Dropout(dropout_rate)(x)\n",
        "    x = Dense(dense_units // 2, activation='relu')(x)\n",
        "    x = Dropout(dropout_rate)(x)\n",
        "\n",
        "    output = Dense(1, activation='sigmoid')(x)\n",
        "\n",
        "    model = Model(inputs=[user_input, recipe_input], outputs=output)\n",
        "    model.compile(optimizer=optimizer,loss='mse', metrics=['mae'])\n",
        "    return model"
      ]
    },
    {
      "cell_type": "markdown",
      "metadata": {
        "id": "M5tKzq5sXzF8"
      },
      "source": [
        "### Train and evaluate"
      ]
    },
    {
      "cell_type": "code",
      "execution_count": 14,
      "metadata": {
        "colab": {
          "base_uri": "https://localhost:8080/"
        },
        "id": "bnDAOg1BXzF8",
        "outputId": "bf635846-1515-4b9f-b99a-a1e935d061dd"
      },
      "outputs": [
        {
          "name": "stdout",
          "output_type": "stream",
          "text": [
            "Epoch 1/10\n",
            "\u001b[1m6370/6370\u001b[0m \u001b[32m━━━━━━━━━━━━━━━━━━━━\u001b[0m\u001b[37m\u001b[0m \u001b[1m22s\u001b[0m 3ms/step - loss: 0.0743 - mae: 0.1902 - val_loss: 0.0655 - val_mae: 0.1694\n",
            "Epoch 2/10\n",
            "\u001b[1m6370/6370\u001b[0m \u001b[32m━━━━━━━━━━━━━━━━━━━━\u001b[0m\u001b[37m\u001b[0m \u001b[1m14s\u001b[0m 2ms/step - loss: 0.0463 - mae: 0.1317 - val_loss: 0.0711 - val_mae: 0.1683\n",
            "Epoch 3/10\n",
            "\u001b[1m6370/6370\u001b[0m \u001b[32m━━━━━━━━━━━━━━━━━━━━\u001b[0m\u001b[37m\u001b[0m \u001b[1m14s\u001b[0m 2ms/step - loss: 0.0329 - mae: 0.1023 - val_loss: 0.0718 - val_mae: 0.1647\n",
            "Epoch 4/10\n",
            "\u001b[1m6370/6370\u001b[0m \u001b[32m━━━━━━━━━━━━━━━━━━━━\u001b[0m\u001b[37m\u001b[0m \u001b[1m14s\u001b[0m 2ms/step - loss: 0.0278 - mae: 0.0889 - val_loss: 0.0736 - val_mae: 0.1654\n",
            "\u001b[1m7078/7078\u001b[0m \u001b[32m━━━━━━━━━━━━━━━━━━━━\u001b[0m\u001b[37m\u001b[0m \u001b[1m11s\u001b[0m 1ms/step\n",
            "MAE: 0.1687, RMSE: 0.2551\n"
          ]
        }
      ],
      "source": [
        "model_basic_ncf = build_basic_ncf(\n",
        "    num_users=num_users,\n",
        "    num_recipes=num_recipes,\n",
        "    embed_dim=16,\n",
        "    dense_units=128,\n",
        "    dropout_rate=0.3,\n",
        "    learning_rate=0.0005\n",
        ")\n",
        "\n",
        "model_basic_ncf, history_basic_ncf = train_and_evaluate(model_basic_ncf, X_train, y_train, X_test, y_test)"
      ]
    },
    {
      "cell_type": "markdown",
      "metadata": {
        "id": "QwzV0lqIXzF9"
      },
      "source": [
        "### Plotting results"
      ]
    },
    {
      "cell_type": "code",
      "execution_count": 15,
      "metadata": {
        "colab": {
          "base_uri": "https://localhost:8080/",
          "height": 472
        },
        "id": "6WLrWQe0XzF9",
        "outputId": "d95f6dfa-e976-452f-ee85-f80c84b347c6"
      },
      "outputs": [
        {
          "data": {
            "image/png": "[encoded data removed]",
            "text/plain": [
              "<Figure size 640x480 with 1 Axes>"
            ]
          },
          "metadata": {},
          "output_type": "display_data"
        }
      ],
      "source": [
        "plot_training(history_basic_ncf)"
      ]
    },
    {
      "cell_type": "markdown",
      "metadata": {
        "id": "p4IBX0CZXzF9"
      },
      "source": [
        "## Model 2. Improved Neural Collaborative Filtering"
      ]
    },
    {
      "cell_type": "code",
      "execution_count": 16,
      "metadata": {
        "id": "JS-Jewu0XzF9"
      },
      "outputs": [],
      "source": [
        " #Randomly sample a fraction of X and y, maintaining alignment.\n",
        "def sample_dataset(X, y, fraction=0.05, random_state=999):\n",
        "    total_samples = len(y)\n",
        "    sample_size = int(total_samples * fraction)\n",
        "\n",
        "    rng = np.random.RandomState(seed=random_state)\n",
        "    indices = rng.choice(total_samples, size=sample_size, replace=False)\n",
        "\n",
        "    if isinstance(X, list):\n",
        "        X_sampled = [np.array(x)[indices] for x in X]\n",
        "    else:\n",
        "        X_sampled = np.array(X)[indices]\n",
        "\n",
        "    y_sampled = np.array(y)[indices]\n",
        "    return X_sampled, y_sampled"
      ]
    },
    {
      "cell_type": "code",
      "execution_count": 17,
      "metadata": {
        "id": "QD_Ib-JMXzF9"
      },
      "outputs": [],
      "source": [
        "def split_inputs(X, y, test_size=0.2, random_state=999):\n",
        "    total = len(y)\n",
        "    indices = np.arange(total)\n",
        "    train_idx, test_idx = train_test_split(indices, test_size=test_size, random_state=random_state)\n",
        "\n",
        "    if isinstance(X, list):\n",
        "        X_train = [x[train_idx] for x in X]\n",
        "        X_test = [x[test_idx] for x in X]\n",
        "    else:\n",
        "        X_train = X[train_idx]\n",
        "        X_test = X[test_idx]\n",
        "\n",
        "    return X_train, X_test, y[train_idx], y[test_idx]"
      ]
    },
    {
      "cell_type": "code",
      "execution_count": 18,
      "metadata": {
        "id": "YtaaYCE-XzF9"
      },
      "outputs": [],
      "source": [
        "def test_parameters(model_function, X, y, model_kwargs={}, sample_frac=0.05, epochs=10, batch_size=128, verbose=1):\n",
        "\n",
        "    X_sampled, y_sampled = sample_dataset(X, y, fraction=sample_frac)\n",
        "    X_train, X_test, y_train, y_test = split_inputs(X_sampled, y_sampled)\n",
        "\n",
        "    model = model_function(**model_kwargs)\n",
        "    model, history = train_and_evaluate(model, X_train, y_train, X_test, y_test, epochs=epochs, batch_size=batch_size)\n",
        "    return model, history\n"
      ]
    },
    {
      "cell_type": "code",
      "execution_count": 19,
      "metadata": {
        "id": "JeoSadSrXzF9"
      },
      "outputs": [],
      "source": [
        "def expand_grid(param_grid):\n",
        "    keys = list(param_grid.keys())\n",
        "    values = list(param_grid.values())\n",
        "    for combo in product(*values):\n",
        "        yield dict(zip(keys, combo))"
      ]
    },
    {
      "cell_type": "code",
      "execution_count": 20,
      "metadata": {
        "id": "XfmEexHCXzF9"
      },
      "outputs": [],
      "source": [
        "def find_best_hyperparams(model_function, X, y, param_grid, base_kwargs={}, sample_frac=0.05, epochs=10, batch_size=128):\n",
        "    records = []\n",
        "\n",
        "    for params in expand_grid(param_grid):\n",
        "        print(\"Testing:\", params)\n",
        "        model, history = test_parameters(\n",
        "            model_function=model_function,\n",
        "            X=X,\n",
        "            y=y,\n",
        "            model_kwargs={**base_kwargs, **params},\n",
        "            sample_frac=sample_frac,\n",
        "            epochs=epochs,\n",
        "            batch_size=batch_size,\n",
        "            verbose=1\n",
        "        )\n",
        "        final_val_loss = history.history['val_loss'][-1]\n",
        "        records.append({**params, 'val_loss': final_val_loss})\n",
        "\n",
        "    df = pd.DataFrame(records)\n",
        "    df_sorted = df.sort_values(by='val_loss').reset_index(drop=True)\n",
        "\n",
        "    best_params = df_sorted.iloc[0]  # returns a Series\n",
        "    return df_sorted, best_params"
      ]
    },
    {
      "cell_type": "code",
      "execution_count": 21,
      "metadata": {
        "id": "f_-keeynXzF-"
      },
      "outputs": [],
      "source": [
        "def build_ncf(num_users, num_recipes, embed_dim, dense_units, dropout_rate, learning_rate, l2_reg=1e-5):\n",
        "    # === Optimizer ===\n",
        "    optimizer = tf.keras.optimizers.Adam(learning_rate=learning_rate)\n",
        "    # === Regulizer ===\n",
        "    regularizer=tf.keras.regularizers.l2(l2_reg)\n",
        "    # === Inputs ===\n",
        "    user_input = Input(shape=(1,), name='user')\n",
        "    recipe_input = Input(shape=(1,), name='recipe')\n",
        "    # === Embeddings ===\n",
        "    user_embedding = Embedding(input_dim=num_users, output_dim=embed_dim, embeddings_regularizer=regularizer )(user_input)\n",
        "    recipe_embedding = Embedding(input_dim=num_recipes, output_dim=embed_dim, embeddings_regularizer=regularizer)(recipe_input)\n",
        "    # === Flatten embeddings ===\n",
        "    user_vec = Flatten()(user_embedding)\n",
        "    recipe_vec = Flatten()(recipe_embedding)\n",
        "    # === Concatenate embeddings ===\n",
        "    x = Concatenate()([user_vec, recipe_vec])\n",
        "    x = BatchNormalization()(x)\n",
        "    # === Dense layers ===\n",
        "    x = Dense(dense_units, activation='relu', kernel_regularizer=regularizer)(x)\n",
        "    x = Dropout(dropout_rate)(x)\n",
        "    x = Dense(dense_units // 2, activation='relu', kernel_regularizer=regularizer)(x)\n",
        "    x = Dropout(dropout_rate)(x)\n",
        "\n",
        "    output = Dense(1, activation='sigmoid')(x)\n",
        "\n",
        "    model = Model(inputs=[user_input, recipe_input], outputs=output)\n",
        "    model.compile(optimizer=optimizer,\n",
        "                  loss='mse', metrics=['mae'])\n",
        "    return model"
      ]
    },
    {
      "cell_type": "markdown",
      "metadata": {
        "id": "BR2UNw-kXzF-"
      },
      "source": [
        "### Finding best parameters"
      ]
    },
    {
      "cell_type": "code",
      "execution_count": 22,
      "metadata": {
        "id": "Bk8j6jlAXzF-"
      },
      "outputs": [],
      "source": [
        "param_grid = {\n",
        "    'embed_dim': [16, 32],\n",
        "    'dense_units': [64, 128],\n",
        "    'dropout_rate': [0.2, 0.3],\n",
        "    'learning_rate': [0.001, 0.0005]\n",
        "}"
      ]
    },
    {
      "cell_type": "code",
      "execution_count": 23,
      "metadata": {
        "id": "arewCB5fXzF-"
      },
      "outputs": [],
      "source": [
        "base_kwargs = {\n",
        "    'num_users': num_users,\n",
        "    'num_recipes': num_recipes\n",
        "}"
      ]
    },
    {
      "cell_type": "code",
      "execution_count": 24,
      "metadata": {
        "colab": {
          "base_uri": "https://localhost:8080/"
        },
        "id": "H_5OZZkrXzF-",
        "outputId": "eb09dabd-0eca-4faf-d7ff-3bf2149738a2"
      },
      "outputs": [
        {
          "name": "stdout",
          "output_type": "stream",
          "text": [
            "Testing: {'embed_dim': 16, 'dense_units': 64, 'dropout_rate': 0.2, 'learning_rate': 0.001}\n",
            "Epoch 1/10\n",
            "\u001b[1m319/319\u001b[0m \u001b[32m━━━━━━━━━━━━━━━━━━━━\u001b[0m\u001b[37m\u001b[0m \u001b[1m8s\u001b[0m 13ms/step - loss: 0.1089 - mae: 0.2224 - val_loss: 0.0840 - val_mae: 0.2289\n",
            "Epoch 2/10\n",
            "\u001b[1m319/319\u001b[0m \u001b[32m━━━━━━━━━━━━━━━━━━━━\u001b[0m\u001b[37m\u001b[0m \u001b[1m1s\u001b[0m 3ms/step - loss: 0.0520 - mae: 0.1347 - val_loss: 0.0866 - val_mae: 0.2028\n",
            "Epoch 3/10\n",
            "\u001b[1m319/319\u001b[0m \u001b[32m━━━━━━━━━━━━━━━━━━━━\u001b[0m\u001b[37m\u001b[0m \u001b[1m1s\u001b[0m 3ms/step - loss: 0.0280 - mae: 0.0862 - val_loss: 0.0965 - val_mae: 0.2070\n",
            "Epoch 4/10\n",
            "\u001b[1m319/319\u001b[0m \u001b[32m━━━━━━━━━━━━━━━━━━━━\u001b[0m\u001b[37m\u001b[0m \u001b[1m1s\u001b[0m 3ms/step - loss: 0.0200 - mae: 0.0684 - val_loss: 0.0903 - val_mae: 0.1938\n",
            "\u001b[1m354/354\u001b[0m \u001b[32m━━━━━━━━━━━━━━━━━━━━\u001b[0m\u001b[37m\u001b[0m \u001b[1m2s\u001b[0m 3ms/step\n",
            "MAE: 0.2309, RMSE: 0.2847\n",
            "Testing: {'embed_dim': 16, 'dense_units': 64, 'dropout_rate': 0.2, 'learning_rate': 0.0005}\n",
            "Epoch 1/10\n",
            "\u001b[1m319/319\u001b[0m \u001b[32m━━━━━━━━━━━━━━━━━━━━\u001b[0m\u001b[37m\u001b[0m \u001b[1m7s\u001b[0m 11ms/step - loss: 0.1221 - mae: 0.2419 - val_loss: 0.0872 - val_mae: 0.2371\n",
            "Epoch 2/10\n",
            "\u001b[1m319/319\u001b[0m \u001b[32m━━━━━━━━━━━━━━━━━━━━\u001b[0m\u001b[37m\u001b[0m \u001b[1m1s\u001b[0m 3ms/step - loss: 0.0609 - mae: 0.1508 - val_loss: 0.0864 - val_mae: 0.2170\n",
            "Epoch 3/10\n",
            "\u001b[1m319/319\u001b[0m \u001b[32m━━━━━━━━━━━━━━━━━━━━\u001b[0m\u001b[37m\u001b[0m \u001b[1m1s\u001b[0m 3ms/step - loss: 0.0348 - mae: 0.1007 - val_loss: 0.1110 - val_mae: 0.2282\n",
            "Epoch 4/10\n",
            "\u001b[1m319/319\u001b[0m \u001b[32m━━━━━━━━━━━━━━━━━━━━\u001b[0m\u001b[37m\u001b[0m \u001b[1m1s\u001b[0m 3ms/step - loss: 0.0214 - mae: 0.0737 - val_loss: 0.1062 - val_mae: 0.2173\n",
            "Epoch 5/10\n",
            "\u001b[1m319/319\u001b[0m \u001b[32m━━━━━━━━━━━━━━━━━━━━\u001b[0m\u001b[37m\u001b[0m \u001b[1m1s\u001b[0m 3ms/step - loss: 0.0159 - mae: 0.0615 - val_loss: 0.1011 - val_mae: 0.2131\n",
            "\u001b[1m354/354\u001b[0m \u001b[32m━━━━━━━━━━━━━━━━━━━━\u001b[0m\u001b[37m\u001b[0m \u001b[1m1s\u001b[0m 2ms/step\n",
            "MAE: 0.2157, RMSE: 0.2868\n",
            "Testing: {'embed_dim': 16, 'dense_units': 64, 'dropout_rate': 0.3, 'learning_rate': 0.001}\n",
            "Epoch 1/10\n",
            "\u001b[1m319/319\u001b[0m \u001b[32m━━━━━━━━━━━━━━━━━━━━\u001b[0m\u001b[37m\u001b[0m \u001b[1m7s\u001b[0m 11ms/step - loss: 0.1053 - mae: 0.2147 - val_loss: 0.0845 - val_mae: 0.2296\n",
            "Epoch 2/10\n",
            "\u001b[1m319/319\u001b[0m \u001b[32m━━━━━━━━━━━━━━━━━━━━\u001b[0m\u001b[37m\u001b[0m \u001b[1m1s\u001b[0m 3ms/step - loss: 0.0541 - mae: 0.1359 - val_loss: 0.0885 - val_mae: 0.2027\n",
            "Epoch 3/10\n",
            "\u001b[1m319/319\u001b[0m \u001b[32m━━━━━━━━━━━━━━━━━━━━\u001b[0m\u001b[37m\u001b[0m \u001b[1m1s\u001b[0m 3ms/step - loss: 0.0313 - mae: 0.0894 - val_loss: 0.0958 - val_mae: 0.2027\n",
            "Epoch 4/10\n",
            "\u001b[1m319/319\u001b[0m \u001b[32m━━━━━━━━━━━━━━━━━━━━\u001b[0m\u001b[37m\u001b[0m \u001b[1m1s\u001b[0m 3ms/step - loss: 0.0215 - mae: 0.0700 - val_loss: 0.0924 - val_mae: 0.1888\n",
            "\u001b[1m354/354\u001b[0m \u001b[32m━━━━━━━━━━━━━━━━━━━━\u001b[0m\u001b[37m\u001b[0m \u001b[1m1s\u001b[0m 2ms/step\n",
            "MAE: 0.2313, RMSE: 0.2850\n",
            "Testing: {'embed_dim': 16, 'dense_units': 64, 'dropout_rate': 0.3, 'learning_rate': 0.0005}\n",
            "Epoch 1/10\n",
            "\u001b[1m319/319\u001b[0m \u001b[32m━━━━━━━━━━━━━━━━━━━━\u001b[0m\u001b[37m\u001b[0m \u001b[1m7s\u001b[0m 11ms/step - loss: 0.1582 - mae: 0.2990 - val_loss: 0.0825 - val_mae: 0.2248\n",
            "Epoch 2/10\n",
            "\u001b[1m319/319\u001b[0m \u001b[32m━━━━━━━━━━━━━━━━━━━━\u001b[0m\u001b[37m\u001b[0m \u001b[1m1s\u001b[0m 3ms/step - loss: 0.0630 - mae: 0.1512 - val_loss: 0.0796 - val_mae: 0.1988\n",
            "Epoch 3/10\n",
            "\u001b[1m319/319\u001b[0m \u001b[32m━━━━━━━━━━━━━━━━━━━━\u001b[0m\u001b[37m\u001b[0m \u001b[1m1s\u001b[0m 3ms/step - loss: 0.0411 - mae: 0.1131 - val_loss: 0.0925 - val_mae: 0.1990\n",
            "Epoch 4/10\n",
            "\u001b[1m319/319\u001b[0m \u001b[32m━━━━━━━━━━━━━━━━━━━━\u001b[0m\u001b[37m\u001b[0m \u001b[1m1s\u001b[0m 3ms/step - loss: 0.0248 - mae: 0.0788 - val_loss: 0.0941 - val_mae: 0.1977\n",
            "Epoch 5/10\n",
            "\u001b[1m319/319\u001b[0m \u001b[32m━━━━━━━━━━━━━━━━━━━━\u001b[0m\u001b[37m\u001b[0m \u001b[1m1s\u001b[0m 3ms/step - loss: 0.0187 - mae: 0.0658 - val_loss: 0.0938 - val_mae: 0.1953\n",
            "\u001b[1m354/354\u001b[0m \u001b[32m━━━━━━━━━━━━━━━━━━━━\u001b[0m\u001b[37m\u001b[0m \u001b[1m1s\u001b[0m 2ms/step\n",
            "MAE: 0.1982, RMSE: 0.2746\n",
            "Testing: {'embed_dim': 16, 'dense_units': 128, 'dropout_rate': 0.2, 'learning_rate': 0.001}\n",
            "Epoch 1/10\n",
            "\u001b[1m319/319\u001b[0m \u001b[32m━━━━━━━━━━━━━━━━━━━━\u001b[0m\u001b[37m\u001b[0m \u001b[1m8s\u001b[0m 14ms/step - loss: 0.1027 - mae: 0.2058 - val_loss: 0.0843 - val_mae: 0.2282\n",
            "Epoch 2/10\n",
            "\u001b[1m319/319\u001b[0m \u001b[32m━━━━━━━━━━━━━━━━━━━━\u001b[0m\u001b[37m\u001b[0m \u001b[1m1s\u001b[0m 3ms/step - loss: 0.0487 - mae: 0.1275 - val_loss: 0.0860 - val_mae: 0.2047\n",
            "Epoch 3/10\n",
            "\u001b[1m319/319\u001b[0m \u001b[32m━━━━━━━━━━━━━━━━━━━━\u001b[0m\u001b[37m\u001b[0m \u001b[1m1s\u001b[0m 3ms/step - loss: 0.0257 - mae: 0.0822 - val_loss: 0.0906 - val_mae: 0.1969\n",
            "Epoch 4/10\n",
            "\u001b[1m319/319\u001b[0m \u001b[32m━━━━━━━━━━━━━━━━━━━━\u001b[0m\u001b[37m\u001b[0m \u001b[1m1s\u001b[0m 3ms/step - loss: 0.0171 - mae: 0.0621 - val_loss: 0.0910 - val_mae: 0.1965\n",
            "\u001b[1m354/354\u001b[0m \u001b[32m━━━━━━━━━━━━━━━━━━━━\u001b[0m\u001b[37m\u001b[0m \u001b[1m2s\u001b[0m 4ms/step\n",
            "MAE: 0.2299, RMSE: 0.2842\n",
            "Testing: {'embed_dim': 16, 'dense_units': 128, 'dropout_rate': 0.2, 'learning_rate': 0.0005}\n",
            "Epoch 1/10\n",
            "\u001b[1m319/319\u001b[0m \u001b[32m━━━━━━━━━━━━━━━━━━━━\u001b[0m\u001b[37m\u001b[0m \u001b[1m7s\u001b[0m 11ms/step - loss: 0.1212 - mae: 0.2355 - val_loss: 0.0871 - val_mae: 0.2359\n",
            "Epoch 2/10\n",
            "\u001b[1m319/319\u001b[0m \u001b[32m━━━━━━━━━━━━━━━━━━━━\u001b[0m\u001b[37m\u001b[0m \u001b[1m1s\u001b[0m 3ms/step - loss: 0.0582 - mae: 0.1473 - val_loss: 0.0899 - val_mae: 0.2188\n",
            "Epoch 3/10\n",
            "\u001b[1m319/319\u001b[0m \u001b[32m━━━━━━━━━━━━━━━━━━━━\u001b[0m\u001b[37m\u001b[0m \u001b[1m1s\u001b[0m 3ms/step - loss: 0.0295 - mae: 0.0918 - val_loss: 0.1067 - val_mae: 0.2244\n",
            "Epoch 4/10\n",
            "\u001b[1m319/319\u001b[0m \u001b[32m━━━━━━━━━━━━━━━━━━━━\u001b[0m\u001b[37m\u001b[0m \u001b[1m1s\u001b[0m 3ms/step - loss: 0.0183 - mae: 0.0681 - val_loss: 0.0994 - val_mae: 0.2111\n",
            "\u001b[1m354/354\u001b[0m \u001b[32m━━━━━━━━━━━━━━━━━━━━\u001b[0m\u001b[37m\u001b[0m \u001b[1m1s\u001b[0m 2ms/step\n",
            "MAE: 0.2376, RMSE: 0.2891\n",
            "Testing: {'embed_dim': 16, 'dense_units': 128, 'dropout_rate': 0.3, 'learning_rate': 0.001}\n",
            "Epoch 1/10\n",
            "\u001b[1m319/319\u001b[0m \u001b[32m━━━━━━━━━━━━━━━━━━━━\u001b[0m\u001b[37m\u001b[0m \u001b[1m8s\u001b[0m 11ms/step - loss: 0.1038 - mae: 0.2025 - val_loss: 0.0819 - val_mae: 0.2211\n",
            "Epoch 2/10\n",
            "\u001b[1m319/319\u001b[0m \u001b[32m━━━━━━━━━━━━━━━━━━━━\u001b[0m\u001b[37m\u001b[0m \u001b[1m1s\u001b[0m 3ms/step - loss: 0.0524 - mae: 0.1325 - val_loss: 0.0934 - val_mae: 0.2154\n",
            "Epoch 3/10\n",
            "\u001b[1m319/319\u001b[0m \u001b[32m━━━━━━━━━━━━━━━━━━━━\u001b[0m\u001b[37m\u001b[0m \u001b[1m1s\u001b[0m 3ms/step - loss: 0.0284 - mae: 0.0854 - val_loss: 0.0935 - val_mae: 0.1988\n",
            "Epoch 4/10\n",
            "\u001b[1m319/319\u001b[0m \u001b[32m━━━━━━━━━━━━━━━━━━━━\u001b[0m\u001b[37m\u001b[0m \u001b[1m1s\u001b[0m 3ms/step - loss: 0.0196 - mae: 0.0663 - val_loss: 0.0894 - val_mae: 0.1876\n",
            "\u001b[1m354/354\u001b[0m \u001b[32m━━━━━━━━━━━━━━━━━━━━\u001b[0m\u001b[37m\u001b[0m \u001b[1m1s\u001b[0m 2ms/step\n",
            "MAE: 0.2221, RMSE: 0.2794\n",
            "Testing: {'embed_dim': 16, 'dense_units': 128, 'dropout_rate': 0.3, 'learning_rate': 0.0005}\n",
            "Epoch 1/10\n",
            "\u001b[1m319/319\u001b[0m \u001b[32m━━━━━━━━━━━━━━━━━━━━\u001b[0m\u001b[37m\u001b[0m \u001b[1m7s\u001b[0m 11ms/step - loss: 0.1236 - mae: 0.2365 - val_loss: 0.0879 - val_mae: 0.2385\n",
            "Epoch 2/10\n",
            "\u001b[1m319/319\u001b[0m \u001b[32m━━━━━━━━━━━━━━━━━━━━\u001b[0m\u001b[37m\u001b[0m \u001b[1m1s\u001b[0m 3ms/step - loss: 0.0619 - mae: 0.1545 - val_loss: 0.0862 - val_mae: 0.2110\n",
            "Epoch 3/10\n",
            "\u001b[1m319/319\u001b[0m \u001b[32m━━━━━━━━━━━━━━━━━━━━\u001b[0m\u001b[37m\u001b[0m \u001b[1m1s\u001b[0m 3ms/step - loss: 0.0349 - mae: 0.1004 - val_loss: 0.1084 - val_mae: 0.2233\n",
            "Epoch 4/10\n",
            "\u001b[1m319/319\u001b[0m \u001b[32m━━━━━━━━━━━━━━━━━━━━\u001b[0m\u001b[37m\u001b[0m \u001b[1m1s\u001b[0m 3ms/step - loss: 0.0220 - mae: 0.0751 - val_loss: 0.1037 - val_mae: 0.2144\n",
            "Epoch 5/10\n",
            "\u001b[1m319/319\u001b[0m \u001b[32m━━━━━━━━━━━━━━━━━━━━\u001b[0m\u001b[37m\u001b[0m \u001b[1m1s\u001b[0m 3ms/step - loss: 0.0163 - mae: 0.0621 - val_loss: 0.0982 - val_mae: 0.2087\n",
            "\u001b[1m354/354\u001b[0m \u001b[32m━━━━━━━━━━━━━━━━━━━━\u001b[0m\u001b[37m\u001b[0m \u001b[1m1s\u001b[0m 2ms/step\n",
            "MAE: 0.2096, RMSE: 0.2861\n",
            "Testing: {'embed_dim': 32, 'dense_units': 64, 'dropout_rate': 0.2, 'learning_rate': 0.001}\n",
            "Epoch 1/10\n",
            "\u001b[1m319/319\u001b[0m \u001b[32m━━━━━━━━━━━━━━━━━━━━\u001b[0m\u001b[37m\u001b[0m \u001b[1m8s\u001b[0m 12ms/step - loss: 0.1236 - mae: 0.2071 - val_loss: 0.0854 - val_mae: 0.2278\n",
            "Epoch 2/10\n",
            "\u001b[1m319/319\u001b[0m \u001b[32m━━━━━━━━━━━━━━━━━━━━\u001b[0m\u001b[37m\u001b[0m \u001b[1m1s\u001b[0m 3ms/step - loss: 0.0517 - mae: 0.1278 - val_loss: 0.0938 - val_mae: 0.2163\n",
            "Epoch 3/10\n",
            "\u001b[1m319/319\u001b[0m \u001b[32m━━━━━━━━━━━━━━━━━━━━\u001b[0m\u001b[37m\u001b[0m \u001b[1m1s\u001b[0m 3ms/step - loss: 0.0301 - mae: 0.0849 - val_loss: 0.0959 - val_mae: 0.2009\n",
            "Epoch 4/10\n",
            "\u001b[1m319/319\u001b[0m \u001b[32m━━━━━━━━━━━━━━━━━━━━\u001b[0m\u001b[37m\u001b[0m \u001b[1m1s\u001b[0m 3ms/step - loss: 0.0202 - mae: 0.0617 - val_loss: 0.0937 - val_mae: 0.1936\n",
            "\u001b[1m354/354\u001b[0m \u001b[32m━━━━━━━━━━━━━━━━━━━━\u001b[0m\u001b[37m\u001b[0m \u001b[1m1s\u001b[0m 2ms/step\n",
            "MAE: 0.2292, RMSE: 0.2835\n",
            "Testing: {'embed_dim': 32, 'dense_units': 64, 'dropout_rate': 0.2, 'learning_rate': 0.0005}\n",
            "Epoch 1/10\n",
            "\u001b[1m319/319\u001b[0m \u001b[32m━━━━━━━━━━━━━━━━━━━━\u001b[0m\u001b[37m\u001b[0m \u001b[1m8s\u001b[0m 12ms/step - loss: 0.1609 - mae: 0.2608 - val_loss: 0.0867 - val_mae: 0.2318\n",
            "Epoch 2/10\n",
            "\u001b[1m319/319\u001b[0m \u001b[32m━━━━━━━━━━━━━━━━━━━━\u001b[0m\u001b[37m\u001b[0m \u001b[1m1s\u001b[0m 3ms/step - loss: 0.0564 - mae: 0.1402 - val_loss: 0.0836 - val_mae: 0.2002\n",
            "Epoch 3/10\n",
            "\u001b[1m319/319\u001b[0m \u001b[32m━━━━━━━━━━━━━━━━━━━━\u001b[0m\u001b[37m\u001b[0m \u001b[1m1s\u001b[0m 3ms/step - loss: 0.0322 - mae: 0.0926 - val_loss: 0.1029 - val_mae: 0.2105\n",
            "Epoch 4/10\n",
            "\u001b[1m319/319\u001b[0m \u001b[32m━━━━━━━━━━━━━━━━━━━━\u001b[0m\u001b[37m\u001b[0m \u001b[1m1s\u001b[0m 3ms/step - loss: 0.0220 - mae: 0.0700 - val_loss: 0.0954 - val_mae: 0.1972\n",
            "Epoch 5/10\n",
            "\u001b[1m319/319\u001b[0m \u001b[32m━━━━━━━━━━━━━━━━━━━━\u001b[0m\u001b[37m\u001b[0m \u001b[1m1s\u001b[0m 3ms/step - loss: 0.0169 - mae: 0.0584 - val_loss: 0.0950 - val_mae: 0.1975\n",
            "\u001b[1m354/354\u001b[0m \u001b[32m━━━━━━━━━━━━━━━━━━━━\u001b[0m\u001b[37m\u001b[0m \u001b[1m1s\u001b[0m 2ms/step\n",
            "MAE: 0.1999, RMSE: 0.2796\n",
            "Testing: {'embed_dim': 32, 'dense_units': 64, 'dropout_rate': 0.3, 'learning_rate': 0.001}\n",
            "Epoch 1/10\n",
            "\u001b[1m319/319\u001b[0m \u001b[32m━━━━━━━━━━━━━━━━━━━━\u001b[0m\u001b[37m\u001b[0m \u001b[1m8s\u001b[0m 12ms/step - loss: 0.1365 - mae: 0.2293 - val_loss: 0.0833 - val_mae: 0.2212\n",
            "Epoch 2/10\n",
            "\u001b[1m319/319\u001b[0m \u001b[32m━━━━━━━━━━━━━━━━━━━━\u001b[0m\u001b[37m\u001b[0m \u001b[1m1s\u001b[0m 3ms/step - loss: 0.0556 - mae: 0.1313 - val_loss: 0.0918 - val_mae: 0.2029\n",
            "Epoch 3/10\n",
            "\u001b[1m319/319\u001b[0m \u001b[32m━━━━━━━━━━━━━━━━━━━━\u001b[0m\u001b[37m\u001b[0m \u001b[1m1s\u001b[0m 3ms/step - loss: 0.0331 - mae: 0.0875 - val_loss: 0.1004 - val_mae: 0.2037\n",
            "Epoch 4/10\n",
            "\u001b[1m319/319\u001b[0m \u001b[32m━━━━━━━━━━━━━━━━━━━━\u001b[0m\u001b[37m\u001b[0m \u001b[1m1s\u001b[0m 3ms/step - loss: 0.0250 - mae: 0.0713 - val_loss: 0.0927 - val_mae: 0.1867\n",
            "\u001b[1m354/354\u001b[0m \u001b[32m━━━━━━━━━━━━━━━━━━━━\u001b[0m\u001b[37m\u001b[0m \u001b[1m1s\u001b[0m 2ms/step\n",
            "MAE: 0.2226, RMSE: 0.2797\n",
            "Testing: {'embed_dim': 32, 'dense_units': 64, 'dropout_rate': 0.3, 'learning_rate': 0.0005}\n",
            "Epoch 1/10\n",
            "\u001b[1m319/319\u001b[0m \u001b[32m━━━━━━━━━━━━━━━━━━━━\u001b[0m\u001b[37m\u001b[0m \u001b[1m7s\u001b[0m 12ms/step - loss: 0.1596 - mae: 0.2537 - val_loss: 0.0851 - val_mae: 0.2275\n",
            "Epoch 2/10\n",
            "\u001b[1m319/319\u001b[0m \u001b[32m━━━━━━━━━━━━━━━━━━━━\u001b[0m\u001b[37m\u001b[0m \u001b[1m1s\u001b[0m 3ms/step - loss: 0.0594 - mae: 0.1406 - val_loss: 0.0844 - val_mae: 0.2004\n",
            "Epoch 3/10\n",
            "\u001b[1m319/319\u001b[0m \u001b[32m━━━━━━━━━━━━━━━━━━━━\u001b[0m\u001b[37m\u001b[0m \u001b[1m1s\u001b[0m 3ms/step - loss: 0.0370 - mae: 0.0992 - val_loss: 0.1020 - val_mae: 0.2070\n",
            "Epoch 4/10\n",
            "\u001b[1m319/319\u001b[0m \u001b[32m━━━━━━━━━━━━━━━━━━━━\u001b[0m\u001b[37m\u001b[0m \u001b[1m1s\u001b[0m 3ms/step - loss: 0.0242 - mae: 0.0740 - val_loss: 0.0978 - val_mae: 0.1979\n",
            "Epoch 5/10\n",
            "\u001b[1m319/319\u001b[0m \u001b[32m━━━━━━━━━━━━━━━━━━━━\u001b[0m\u001b[37m\u001b[0m \u001b[1m1s\u001b[0m 3ms/step - loss: 0.0193 - mae: 0.0624 - val_loss: 0.0958 - val_mae: 0.1960\n",
            "\u001b[1m354/354\u001b[0m \u001b[32m━━━━━━━━━━━━━━━━━━━━\u001b[0m\u001b[37m\u001b[0m \u001b[1m1s\u001b[0m 2ms/step\n",
            "MAE: 0.1998, RMSE: 0.2810\n",
            "Testing: {'embed_dim': 32, 'dense_units': 128, 'dropout_rate': 0.2, 'learning_rate': 0.001}\n",
            "Epoch 1/10\n",
            "\u001b[1m319/319\u001b[0m \u001b[32m━━━━━━━━━━━━━━━━━━━━\u001b[0m\u001b[37m\u001b[0m \u001b[1m8s\u001b[0m 13ms/step - loss: 0.1258 - mae: 0.2094 - val_loss: 0.0897 - val_mae: 0.2374\n",
            "Epoch 2/10\n",
            "\u001b[1m319/319\u001b[0m \u001b[32m━━━━━━━━━━━━━━━━━━━━\u001b[0m\u001b[37m\u001b[0m \u001b[1m1s\u001b[0m 3ms/step - loss: 0.0501 - mae: 0.1257 - val_loss: 0.0910 - val_mae: 0.2110\n",
            "Epoch 3/10\n",
            "\u001b[1m319/319\u001b[0m \u001b[32m━━━━━━━━━━━━━━━━━━━━\u001b[0m\u001b[37m\u001b[0m \u001b[1m1s\u001b[0m 3ms/step - loss: 0.0266 - mae: 0.0781 - val_loss: 0.0959 - val_mae: 0.2001\n",
            "Epoch 4/10\n",
            "\u001b[1m319/319\u001b[0m \u001b[32m━━━━━━━━━━━━━━━━━━━━\u001b[0m\u001b[37m\u001b[0m \u001b[1m1s\u001b[0m 3ms/step - loss: 0.0185 - mae: 0.0568 - val_loss: 0.0935 - val_mae: 0.1940\n",
            "\u001b[1m354/354\u001b[0m \u001b[32m━━━━━━━━━━━━━━━━━━━━\u001b[0m\u001b[37m\u001b[0m \u001b[1m1s\u001b[0m 2ms/step\n",
            "MAE: 0.2398, RMSE: 0.2906\n",
            "Testing: {'embed_dim': 32, 'dense_units': 128, 'dropout_rate': 0.2, 'learning_rate': 0.0005}\n",
            "Epoch 1/10\n",
            "\u001b[1m319/319\u001b[0m \u001b[32m━━━━━━━━━━━━━━━━━━━━\u001b[0m\u001b[37m\u001b[0m \u001b[1m8s\u001b[0m 12ms/step - loss: 0.1507 - mae: 0.2329 - val_loss: 0.0933 - val_mae: 0.2486\n",
            "Epoch 2/10\n",
            "\u001b[1m319/319\u001b[0m \u001b[32m━━━━━━━━━━━━━━━━━━━━\u001b[0m\u001b[37m\u001b[0m \u001b[1m1s\u001b[0m 3ms/step - loss: 0.0569 - mae: 0.1431 - val_loss: 0.0896 - val_mae: 0.2107\n",
            "Epoch 3/10\n",
            "\u001b[1m319/319\u001b[0m \u001b[32m━━━━━━━━━━━━━━━━━━━━\u001b[0m\u001b[37m\u001b[0m \u001b[1m1s\u001b[0m 3ms/step - loss: 0.0299 - mae: 0.0876 - val_loss: 0.1047 - val_mae: 0.2175\n",
            "Epoch 4/10\n",
            "\u001b[1m319/319\u001b[0m \u001b[32m━━━━━━━━━━━━━━━━━━━━\u001b[0m\u001b[37m\u001b[0m \u001b[1m1s\u001b[0m 3ms/step - loss: 0.0198 - mae: 0.0665 - val_loss: 0.0990 - val_mae: 0.2072\n",
            "Epoch 5/10\n",
            "\u001b[1m319/319\u001b[0m \u001b[32m━━━━━━━━━━━━━━━━━━━━\u001b[0m\u001b[37m\u001b[0m \u001b[1m1s\u001b[0m 3ms/step - loss: 0.0140 - mae: 0.0513 - val_loss: 0.0977 - val_mae: 0.2034\n",
            "\u001b[1m354/354\u001b[0m \u001b[32m━━━━━━━━━━━━━━━━━━━━\u001b[0m\u001b[37m\u001b[0m \u001b[1m1s\u001b[0m 2ms/step\n",
            "MAE: 0.2090, RMSE: 0.2866\n",
            "Testing: {'embed_dim': 32, 'dense_units': 128, 'dropout_rate': 0.3, 'learning_rate': 0.001}\n",
            "Epoch 1/10\n",
            "\u001b[1m319/319\u001b[0m \u001b[32m━━━━━━━━━━━━━━━━━━━━\u001b[0m\u001b[37m\u001b[0m \u001b[1m8s\u001b[0m 12ms/step - loss: 0.1239 - mae: 0.2001 - val_loss: 0.0853 - val_mae: 0.2249\n",
            "Epoch 2/10\n",
            "\u001b[1m319/319\u001b[0m \u001b[32m━━━━━━━━━━━━━━━━━━━━\u001b[0m\u001b[37m\u001b[0m \u001b[1m1s\u001b[0m 3ms/step - loss: 0.0540 - mae: 0.1309 - val_loss: 0.0889 - val_mae: 0.2019\n",
            "Epoch 3/10\n",
            "\u001b[1m319/319\u001b[0m \u001b[32m━━━━━━━━━━━━━━━━━━━━\u001b[0m\u001b[37m\u001b[0m \u001b[1m1s\u001b[0m 3ms/step - loss: 0.0313 - mae: 0.0855 - val_loss: 0.0943 - val_mae: 0.1983\n",
            "Epoch 4/10\n",
            "\u001b[1m319/319\u001b[0m \u001b[32m━━━━━━━━━━━━━━━━━━━━\u001b[0m\u001b[37m\u001b[0m \u001b[1m1s\u001b[0m 3ms/step - loss: 0.0212 - mae: 0.0634 - val_loss: 0.0927 - val_mae: 0.1853\n",
            "\u001b[1m354/354\u001b[0m \u001b[32m━━━━━━━━━━━━━━━━━━━━\u001b[0m\u001b[37m\u001b[0m \u001b[1m1s\u001b[0m 2ms/step\n",
            "MAE: 0.2265, RMSE: 0.2822\n",
            "Testing: {'embed_dim': 32, 'dense_units': 128, 'dropout_rate': 0.3, 'learning_rate': 0.0005}\n",
            "Epoch 1/10\n",
            "\u001b[1m319/319\u001b[0m \u001b[32m━━━━━━━━━━━━━━━━━━━━\u001b[0m\u001b[37m\u001b[0m \u001b[1m8s\u001b[0m 12ms/step - loss: 0.1802 - mae: 0.2735 - val_loss: 0.0895 - val_mae: 0.2380\n",
            "Epoch 2/10\n",
            "\u001b[1m319/319\u001b[0m \u001b[32m━━━━━━━━━━━━━━━━━━━━\u001b[0m\u001b[37m\u001b[0m \u001b[1m1s\u001b[0m 3ms/step - loss: 0.0582 - mae: 0.1420 - val_loss: 0.0866 - val_mae: 0.2039\n",
            "Epoch 3/10\n",
            "\u001b[1m319/319\u001b[0m \u001b[32m━━━━━━━━━━━━━━━━━━━━\u001b[0m\u001b[37m\u001b[0m \u001b[1m1s\u001b[0m 3ms/step - loss: 0.0331 - mae: 0.0924 - val_loss: 0.0998 - val_mae: 0.2079\n",
            "Epoch 4/10\n",
            "\u001b[1m319/319\u001b[0m \u001b[32m━━━━━━━━━━━━━━━━━━━━\u001b[0m\u001b[37m\u001b[0m \u001b[1m1s\u001b[0m 3ms/step - loss: 0.0218 - mae: 0.0697 - val_loss: 0.0973 - val_mae: 0.2010\n",
            "Epoch 5/10\n",
            "\u001b[1m319/319\u001b[0m \u001b[32m━━━━━━━━━━━━━━━━━━━━\u001b[0m\u001b[37m\u001b[0m \u001b[1m1s\u001b[0m 3ms/step - loss: 0.0166 - mae: 0.0572 - val_loss: 0.0933 - val_mae: 0.1941\n",
            "\u001b[1m354/354\u001b[0m \u001b[32m━━━━━━━━━━━━━━━━━━━━\u001b[0m\u001b[37m\u001b[0m \u001b[1m1s\u001b[0m 2ms/step\n",
            "MAE: 0.2038, RMSE: 0.2836\n"
          ]
        }
      ],
      "source": [
        "results, best_params = find_best_hyperparams(\n",
        "    model_function=build_ncf,\n",
        "    X=[user_ids, recipe_ids],\n",
        "    y=ratings,\n",
        "    param_grid=param_grid,\n",
        "    base_kwargs=base_kwargs\n",
        ")"
      ]
    },
    {
      "cell_type": "code",
      "execution_count": 25,
      "metadata": {
        "colab": {
          "base_uri": "https://localhost:8080/"
        },
        "id": "BkUh5N3oXzF-",
        "outputId": "2a7fe812-0157-442d-ca3d-592b9a81f94d"
      },
      "outputs": [
        {
          "name": "stdout",
          "output_type": "stream",
          "text": [
            "Best learning rate: 0.001\n",
            "Best dropout: 0.3\n",
            "Best embed_dim: 16.0\n",
            "Best dense_units: 128.0\n"
          ]
        }
      ],
      "source": [
        "print(\"Best learning rate:\", best_params['learning_rate'])\n",
        "print(\"Best dropout:\", best_params['dropout_rate'])\n",
        "print(\"Best embed_dim:\", best_params['embed_dim'])\n",
        "print(\"Best dense_units:\", best_params['dense_units'])"
      ]
    },
    {
      "cell_type": "markdown",
      "metadata": {
        "id": "DFy8owjAXzF_"
      },
      "source": [
        "### Train and evaluate"
      ]
    },
    {
      "cell_type": "code",
      "execution_count": 26,
      "metadata": {
        "id": "2aLW2LcWXzF_"
      },
      "outputs": [],
      "source": [
        "best_params = best_params.drop('val_loss').to_dict()\n",
        "best_params[\"embed_dim\"] = int(best_params[\"embed_dim\"])\n",
        "best_params[\"dense_units\"] = int(best_params[\"dense_units\"])"
      ]
    },
    {
      "cell_type": "code",
      "execution_count": 27,
      "metadata": {
        "colab": {
          "base_uri": "https://localhost:8080/"
        },
        "id": "xltNn9e4XzF_",
        "outputId": "f222ea8f-8c46-48c7-ca85-556f8ff6fc78"
      },
      "outputs": [
        {
          "name": "stdout",
          "output_type": "stream",
          "text": [
            "Epoch 1/10\n",
            "\u001b[1m6370/6370\u001b[0m \u001b[32m━━━━━━━━━━━━━━━━━━━━\u001b[0m\u001b[37m\u001b[0m \u001b[1m21s\u001b[0m 3ms/step - loss: 0.0785 - mae: 0.1785 - val_loss: 0.0752 - val_mae: 0.1732\n",
            "Epoch 2/10\n",
            "\u001b[1m6370/6370\u001b[0m \u001b[32m━━━━━━━━━━━━━━━━━━━━\u001b[0m\u001b[37m\u001b[0m \u001b[1m15s\u001b[0m 2ms/step - loss: 0.0671 - mae: 0.1549 - val_loss: 0.0757 - val_mae: 0.1742\n",
            "Epoch 3/10\n",
            "\u001b[1m6370/6370\u001b[0m \u001b[32m━━━━━━━━━━━━━━━━━━━━\u001b[0m\u001b[37m\u001b[0m \u001b[1m15s\u001b[0m 2ms/step - loss: 0.0578 - mae: 0.1395 - val_loss: 0.0791 - val_mae: 0.1740\n",
            "Epoch 4/10\n",
            "\u001b[1m6370/6370\u001b[0m \u001b[32m━━━━━━━━━━━━━━━━━━━━\u001b[0m\u001b[37m\u001b[0m \u001b[1m15s\u001b[0m 2ms/step - loss: 0.0610 - mae: 0.1430 - val_loss: 0.0782 - val_mae: 0.1681\n",
            "\u001b[1m7078/7078\u001b[0m \u001b[32m━━━━━━━━━━━━━━━━━━━━\u001b[0m\u001b[37m\u001b[0m \u001b[1m10s\u001b[0m 1ms/step\n",
            "MAE: 0.1729, RMSE: 0.2576\n"
          ]
        }
      ],
      "source": [
        "best_model_ncf = build_ncf(\n",
        "    **base_kwargs,\n",
        "    **best_params\n",
        ")\n",
        "\n",
        "# Full train/test split on all data\n",
        "X = [user_ids, recipe_ids]\n",
        "X_train, X_test, y_train, y_test = split_inputs(X, ratings)\n",
        "\n",
        "best_model_ncf, history_ncf = train_and_evaluate(best_model_ncf, X_train, y_train, X_test, y_test)"
      ]
    },
    {
      "cell_type": "markdown",
      "metadata": {
        "id": "764hhDSqXzGJ"
      },
      "source": [
        "### Plotting results"
      ]
    },
    {
      "cell_type": "code",
      "execution_count": 28,
      "metadata": {
        "colab": {
          "base_uri": "https://localhost:8080/",
          "height": 472
        },
        "id": "WXRQPtzsXzGJ",
        "outputId": "f5f9f4df-d581-4b43-c2d4-65a78bf7815d"
      },
      "outputs": [
        {
          "data": {
            "image/png": "[encoded data removed]",
            "text/plain": [
              "<Figure size 640x480 with 1 Axes>"
            ]
          },
          "metadata": {},
          "output_type": "display_data"
        }
      ],
      "source": [
        "plot_training(history_ncf)"
      ]
    },
    {
      "cell_type": "markdown",
      "metadata": {
        "id": "MfNKEM0kXzGJ"
      },
      "source": [
        "## Model 3. Hybrid Collaborative Filtering + Content Base"
      ]
    },
    {
      "cell_type": "markdown",
      "metadata": {
        "id": "nn0_2LBcXzGJ"
      },
      "source": [
        "Remove columns that are non-numeric and heavy in text that are not suitable for neural models. Get features vectors for recipe and interactions"
      ]
    },
    {
      "cell_type": "code",
      "execution_count": 29,
      "metadata": {
        "colab": {
          "base_uri": "https://localhost:8080/"
        },
        "id": "9dhQO9hQXzGJ",
        "outputId": "313d8b08-9112-4ceb-93fe-cd75bdf0cf26"
      },
      "outputs": [
        {
          "name": "stdout",
          "output_type": "stream",
          "text": [
            "['minutes', 'n_steps', 'n_ingredients', 'calories', 'total_fat_pdv', 'sugar_pdv', 'sodium_pdv', 'protein_pdv', 'saturated_fat_pdv', 'carbs_pdv', 'total_fat_pdv_norm', 'sugar_pdv_norm', 'sodium_pdv_norm', 'protein_pdv_norm', 'saturated_fat_pdv_norm', 'carbs_pdv_norm', 'minutes_normalized', 'n_steps_norm', 'year', 'month', 'weekday', 'complexity', 'n_ingredients_norm', 'vegan', 'vegetarian', 'pescatarian', 'flexitarian', 'raw', 'paleo', 'keto', 'mediterranean', 'macrobiotic', 'zone_diet', 'carnivore_diet', 'alkaline_diet', 'whole30', 'dash_diet', 'low_carb', 'high_protein', 'low_fat', 'fat_free', 'clean_eating', 'plant_based', 'diabetic_friendly', 'heart_healthy', 'renal_diet', 'anti_inflammatory', 'low_fodmap', 'cholesterol_free', 'low_sodium', 'salt_free', 'weight_watchers', 'pcos_friendly', 'gallbladder_friendly', 'thyroid_friendly', 'gluten_free', 'wheat_free', 'nut_free', 'peanut_free', 'dairy_free', 'lactose_free', 'soy_free', 'egg_free', 'sesame_free', 'corn_free', 'shellfish_free', 'seafood_free', 'sulfite_free', 'kosher', 'halal', 'jain', 'lacto_vegetarian', 'ovo_vegetarian', 'sugar_free', 'low_sugar']\n"
          ]
        }
      ],
      "source": [
        "non_numeric = extended_recipes.select_dtypes(include=['object', 'category']).columns\n",
        "manual_exclude = ['id', 'submitted', 'contributor_id', 'recipe_idx']\n",
        "\n",
        "columns_to_exclude = set(non_numeric).union(set(manual_exclude))\n",
        "recipe_feature_columns = [ col for col in extended_recipes.select_dtypes(include=[np.number]).columns if col not in columns_to_exclude ]\n",
        "\n",
        "#These are the recipe selected features to use later\n",
        "recipes_selected_features = extended_recipes[recipe_feature_columns].values\n",
        "print(recipe_feature_columns)"
      ]
    },
    {
      "cell_type": "markdown",
      "metadata": {
        "id": "L7XxPdy3XzGJ"
      },
      "source": [
        "Normalize features ...just in case"
      ]
    },
    {
      "cell_type": "code",
      "execution_count": 30,
      "metadata": {
        "id": "ETgiRzZBXzGK"
      },
      "outputs": [],
      "source": [
        "scaler = MinMaxScaler()\n",
        "recipes_selected_features = scaler.fit_transform(recipes_selected_features)"
      ]
    },
    {
      "cell_type": "markdown",
      "metadata": {
        "id": "qgyYeUMAXzGK"
      },
      "source": [
        "Let's create a user behavior based on their reviews in recipes"
      ]
    },
    {
      "cell_type": "code",
      "execution_count": 31,
      "metadata": {
        "colab": {
          "base_uri": "https://localhost:8080/"
        },
        "id": "AaiMJlYgXzGK",
        "outputId": "1a180b76-361a-485c-dc49-b0f80467176d"
      },
      "outputs": [
        {
          "name": "stdout",
          "output_type": "stream",
          "text": [
            "<class 'pandas.core.frame.DataFrame'>\n",
            "RangeIndex: 226569 entries, 0 to 226568\n",
            "Data columns (total 6 columns):\n",
            " #   Column             Non-Null Count   Dtype  \n",
            "---  ------             --------------   -----  \n",
            " 0   user_idx           226569 non-null  int64  \n",
            " 1   interaction_count  226569 non-null  int64  \n",
            " 2   user_avg_rating    226569 non-null  float64\n",
            " 3   review_length      226569 non-null  float64\n",
            " 4   polarity           226569 non-null  float64\n",
            " 5   subjectivity       226569 non-null  float64\n",
            "dtypes: float64(4), int64(2)\n",
            "memory usage: 10.4 MB\n"
          ]
        }
      ],
      "source": [
        "user_behavior = extended_interactions.groupby('user_idx').agg({\n",
        "    'rating_scaled': ['count', 'mean'],\n",
        "    'review_length': 'mean',\n",
        "    'polarity': 'mean',\n",
        "    'subjectivity': 'mean'\n",
        "})\n",
        "\n",
        "user_behavior.columns = ['interaction_count', 'user_avg_rating', 'review_length', 'polarity', 'subjectivity']\n",
        "user_behavior = user_behavior.reset_index()\n",
        "user_behavior.info()"
      ]
    },
    {
      "cell_type": "markdown",
      "metadata": {
        "id": "eLh-HzWnXzGK"
      },
      "source": [
        "To build user profiles, I used the tags from the recipes they interacted with. If a recipe included a dietary tag from recipe_tag_columns, it was marked as 1, otherwise 0. So, each user profile reflects the types of recipes they tend to interact with."
      ]
    },
    {
      "cell_type": "code",
      "execution_count": 32,
      "metadata": {
        "id": "6zkS7P3pXzGK"
      },
      "outputs": [],
      "source": [
        "recipe_tag_columns = [\n",
        "    'vegan', 'vegetarian', 'pescatarian', 'flexitarian', 'raw',\n",
        "    'paleo', 'keto', 'mediterranean', 'macrobiotic', 'zone_diet',\n",
        "    'carnivore_diet', 'alkaline_diet', 'whole30', 'dash_diet',\n",
        "    'low_carb', 'high_protein', 'low_fat', 'fat_free', 'clean_eating',\n",
        "    'plant_based', 'diabetic_friendly', 'heart_healthy', 'renal_diet',\n",
        "    'anti_inflammatory', 'low_fodmap', 'cholesterol_free', 'low_sodium',\n",
        "    'salt_free', 'weight_watchers', 'pcos_friendly', 'gallbladder_friendly',\n",
        "    'thyroid_friendly', 'gluten_free', 'wheat_free', 'nut_free', 'peanut_free',\n",
        "    'dairy_free', 'lactose_free', 'soy_free', 'egg_free', 'sesame_free',\n",
        "    'corn_free', 'shellfish_free', 'seafood_free', 'sulfite_free',\n",
        "    'kosher', 'halal', 'jain', 'lacto_vegetarian', 'ovo_vegetarian',\n",
        "    'sugar_free', 'low_sugar'\n",
        "]\n",
        "\n",
        "user_preferences_list = []\n",
        "\n",
        "for tag in recipe_tag_columns:\n",
        "    user_pref = (\n",
        "        extended_interactions\n",
        "        .merge(extended_recipes[['recipe_idx', tag]], on='recipe_idx')\n",
        "        .groupby('user_idx')[tag]\n",
        "        .mean()\n",
        "        .reset_index()\n",
        "        .rename(columns={tag: f'{tag}_preference'})\n",
        "    )\n",
        "\n",
        "    user_preferences_list.append(user_pref)"
      ]
    },
    {
      "cell_type": "code",
      "execution_count": 33,
      "metadata": {
        "id": "_HwL4-_-XzGK"
      },
      "outputs": [],
      "source": [
        "user_preferences_df = reduce(lambda left, right: pd.merge(left, right, on='user_idx', how='outer'), user_preferences_list)\n",
        "user_preferences_df.fillna(0, inplace=True)"
      ]
    },
    {
      "cell_type": "code",
      "execution_count": 34,
      "metadata": {
        "id": "l9-oQRAQXzGL"
      },
      "outputs": [],
      "source": [
        "user_profiles = (user_behavior.merge(user_preferences_df, on='user_idx', how='left'))\n",
        "user_profiles.fillna(0, inplace=True)"
      ]
    },
    {
      "cell_type": "code",
      "execution_count": 35,
      "metadata": {
        "colab": {
          "base_uri": "https://localhost:8080/"
        },
        "collapsed": true,
        "id": "2mfp74qeXzGL",
        "outputId": "782aa2fc-f952-4a83-d715-0f38b0efedfe"
      },
      "outputs": [
        {
          "name": "stdout",
          "output_type": "stream",
          "text": [
            "<class 'pandas.core.frame.DataFrame'>\n",
            "RangeIndex: 226569 entries, 0 to 226568\n",
            "Data columns (total 58 columns):\n",
            " #   Column                           Non-Null Count   Dtype  \n",
            "---  ------                           --------------   -----  \n",
            " 0   user_idx                         226569 non-null  int64  \n",
            " 1   interaction_count                226569 non-null  int64  \n",
            " 2   user_avg_rating                  226569 non-null  float64\n",
            " 3   review_length                    226569 non-null  float64\n",
            " 4   polarity                         226569 non-null  float64\n",
            " 5   subjectivity                     226569 non-null  float64\n",
            " 6   vegan_preference                 226569 non-null  float64\n",
            " 7   vegetarian_preference            226569 non-null  float64\n",
            " 8   pescatarian_preference           226569 non-null  float64\n",
            " 9   flexitarian_preference           226569 non-null  float64\n",
            " 10  raw_preference                   226569 non-null  float64\n",
            " 11  paleo_preference                 226569 non-null  float64\n",
            " 12  keto_preference                  226569 non-null  float64\n",
            " 13  mediterranean_preference         226569 non-null  float64\n",
            " 14  macrobiotic_preference           226569 non-null  float64\n",
            " 15  zone_diet_preference             226569 non-null  float64\n",
            " 16  carnivore_diet_preference        226569 non-null  float64\n",
            " 17  alkaline_diet_preference         226569 non-null  float64\n",
            " 18  whole30_preference               226569 non-null  float64\n",
            " 19  dash_diet_preference             226569 non-null  float64\n",
            " 20  low_carb_preference              226569 non-null  float64\n",
            " 21  high_protein_preference          226569 non-null  float64\n",
            " 22  low_fat_preference               226569 non-null  float64\n",
            " 23  fat_free_preference              226569 non-null  float64\n",
            " 24  clean_eating_preference          226569 non-null  float64\n",
            " 25  plant_based_preference           226569 non-null  float64\n",
            " 26  diabetic_friendly_preference     226569 non-null  float64\n",
            " 27  heart_healthy_preference         226569 non-null  float64\n",
            " 28  renal_diet_preference            226569 non-null  float64\n",
            " 29  anti_inflammatory_preference     226569 non-null  float64\n",
            " 30  low_fodmap_preference            226569 non-null  float64\n",
            " 31  cholesterol_free_preference      226569 non-null  float64\n",
            " 32  low_sodium_preference            226569 non-null  float64\n",
            " 33  salt_free_preference             226569 non-null  float64\n",
            " 34  weight_watchers_preference       226569 non-null  float64\n",
            " 35  pcos_friendly_preference         226569 non-null  float64\n",
            " 36  gallbladder_friendly_preference  226569 non-null  float64\n",
            " 37  thyroid_friendly_preference      226569 non-null  float64\n",
            " 38  gluten_free_preference           226569 non-null  float64\n",
            " 39  wheat_free_preference            226569 non-null  float64\n",
            " 40  nut_free_preference              226569 non-null  float64\n",
            " 41  peanut_free_preference           226569 non-null  float64\n",
            " 42  dairy_free_preference            226569 non-null  float64\n",
            " 43  lactose_free_preference          226569 non-null  float64\n",
            " 44  soy_free_preference              226569 non-null  float64\n",
            " 45  egg_free_preference              226569 non-null  float64\n",
            " 46  sesame_free_preference           226569 non-null  float64\n",
            " 47  corn_free_preference             226569 non-null  float64\n",
            " 48  shellfish_free_preference        226569 non-null  float64\n",
            " 49  seafood_free_preference          226569 non-null  float64\n",
            " 50  sulfite_free_preference          226569 non-null  float64\n",
            " 51  kosher_preference                226569 non-null  float64\n",
            " 52  halal_preference                 226569 non-null  float64\n",
            " 53  jain_preference                  226569 non-null  float64\n",
            " 54  lacto_vegetarian_preference      226569 non-null  float64\n",
            " 55  ovo_vegetarian_preference        226569 non-null  float64\n",
            " 56  sugar_free_preference            226569 non-null  float64\n",
            " 57  low_sugar_preference             226569 non-null  float64\n",
            "dtypes: float64(56), int64(2)\n",
            "memory usage: 100.3 MB\n"
          ]
        }
      ],
      "source": [
        "user_profiles.info()"
      ]
    },
    {
      "cell_type": "code",
      "execution_count": 36,
      "metadata": {
        "id": "FD7mjaYAXzGL"
      },
      "outputs": [],
      "source": [
        "user_features_columns = [col for col in user_profiles.columns if col != 'user_idx']\n",
        "users_selected_features = user_profiles[user_features_columns].values"
      ]
    },
    {
      "cell_type": "code",
      "execution_count": 37,
      "metadata": {
        "id": "EHjDo3eZXzGL"
      },
      "outputs": [],
      "source": [
        "user_features = users_selected_features[user_ids]\n",
        "recipe_features = recipes_selected_features[recipe_ids]"
      ]
    },
    {
      "cell_type": "code",
      "execution_count": 38,
      "metadata": {
        "id": "81GSnTXsXzGL"
      },
      "outputs": [],
      "source": [
        "def build_hybrid_ncf_model(num_users, num_recipes, num_user_features, num_recipe_features, embed_dim, dense_units, dropout_rate, learning_rate, l2_reg=1e-5):\n",
        "    # === Optimizer ===\n",
        "    optimizer = tf.keras.optimizers.Adam(learning_rate=learning_rate)\n",
        "    # ===Embedding Regulizer ===\n",
        "    regularizer=tf.keras.regularizers.l2(l2_reg)\n",
        "\n",
        "    # === Inputs ===\n",
        "    user_id_input = Input(shape=(1,), name='user_id_input')\n",
        "    recipe_id_input = Input(shape=(1,), name='recipe_id_input')\n",
        "    user_features_input = Input(shape=(num_user_features,), name='user_features_input')\n",
        "    recipe_features_input = Input(shape=(num_recipe_features,), name='recipe_features_input')\n",
        "    # === Embeddings ===\n",
        "    user_embedding = Embedding(input_dim=num_users, output_dim=embed_dim,\n",
        "                               embeddings_regularizer=regularizer)(user_id_input)\n",
        "    recipe_embedding = Embedding(input_dim=num_recipes, output_dim=embed_dim,\n",
        "                                 embeddings_regularizer=regularizer)(recipe_id_input)\n",
        "    # === Flatten embeddings ===\n",
        "    user_vec = Flatten()(user_embedding)\n",
        "    recipe_vec = Flatten()(recipe_embedding)\n",
        "    # === Concatenate embeddings and features ===\n",
        "    x = Concatenate()([user_vec, recipe_vec, user_features_input, recipe_features_input])\n",
        "    x = BatchNormalization()(x)\n",
        "    # === Dense layers ===\n",
        "    x = Dense(128, activation='relu',  kernel_regularizer=regularizer)(x)\n",
        "    x = Dropout(dropout_rate)(x)\n",
        "    x = Dense(64, activation='relu')(x)\n",
        "    x = Dropout(dropout_rate)(x)\n",
        "    x = Dense(32, activation='relu',  kernel_regularizer=regularizer)(x)\n",
        "    # === Output ===\n",
        "    output = Dense(1, activation='sigmoid')(x)  # For scaled ratings between 0-1\n",
        "\n",
        "    # === Build and compile model ===\n",
        "    model = Model(inputs=[user_id_input, recipe_id_input, user_features_input, recipe_features_input], outputs=output)\n",
        "    model.compile(optimizer=optimizer, loss='mse', metrics=['mae'])\n",
        "    return model"
      ]
    },
    {
      "cell_type": "markdown",
      "metadata": {
        "id": "brTUQF7LXzGL"
      },
      "source": [
        "### Finding best parameters"
      ]
    },
    {
      "cell_type": "code",
      "execution_count": 39,
      "metadata": {
        "id": "jv5IcmnLXzGM"
      },
      "outputs": [],
      "source": [
        "hybrid_base_kwargs = {\n",
        "    'num_users': num_users,\n",
        "    'num_recipes': num_recipes,\n",
        "    'num_user_features': user_features.shape[1],\n",
        "    'num_recipe_features': recipe_features.shape[1]\n",
        "}"
      ]
    },
    {
      "cell_type": "code",
      "execution_count": 40,
      "metadata": {
        "id": "Dzd5TbxCcXky"
      },
      "outputs": [],
      "source": [
        "hybrid_param_grid = {\n",
        "    'embed_dim': [16, 32],\n",
        "    'dense_units': [128, 256],\n",
        "    'dropout_rate': [0.2, 0.3 , 0.4],\n",
        "    'learning_rate': [0.001, 0.0005]\n",
        "}"
      ]
    },
    {
      "cell_type": "code",
      "execution_count": 41,
      "metadata": {
        "colab": {
          "base_uri": "https://localhost:8080/"
        },
        "collapsed": true,
        "id": "n2A1UcfyXzGM",
        "outputId": "e19c483f-69ec-4fc4-a94e-fb77d28368ea"
      },
      "outputs": [
        {
          "name": "stdout",
          "output_type": "stream",
          "text": [
            "Testing: {'embed_dim': 16, 'dense_units': 128, 'dropout_rate': 0.2, 'learning_rate': 0.001}\n",
            "Epoch 1/10\n",
            "\u001b[1m319/319\u001b[0m \u001b[32m━━━━━━━━━━━━━━━━━━━━\u001b[0m\u001b[37m\u001b[0m \u001b[1m8s\u001b[0m 13ms/step - loss: 0.0868 - mae: 0.1679 - val_loss: 0.0405 - val_mae: 0.1259\n",
            "Epoch 2/10\n",
            "\u001b[1m319/319\u001b[0m \u001b[32m━━━━━━━━━━━━━━━━━━━━\u001b[0m\u001b[37m\u001b[0m \u001b[1m1s\u001b[0m 3ms/step - loss: 0.0330 - mae: 0.1007 - val_loss: 0.0424 - val_mae: 0.1162\n",
            "Epoch 3/10\n",
            "\u001b[1m319/319\u001b[0m \u001b[32m━━━━━━━━━━━━━━━━━━━━\u001b[0m\u001b[37m\u001b[0m \u001b[1m1s\u001b[0m 3ms/step - loss: 0.0200 - mae: 0.0641 - val_loss: 0.0450 - val_mae: 0.1123\n",
            "Epoch 4/10\n",
            "\u001b[1m319/319\u001b[0m \u001b[32m━━━━━━━━━━━━━━━━━━━━\u001b[0m\u001b[37m\u001b[0m \u001b[1m1s\u001b[0m 3ms/step - loss: 0.0146 - mae: 0.0516 - val_loss: 0.0466 - val_mae: 0.1177\n",
            "\u001b[1m354/354\u001b[0m \u001b[32m━━━━━━━━━━━━━━━━━━━━\u001b[0m\u001b[37m\u001b[0m \u001b[1m1s\u001b[0m 3ms/step\n",
            "MAE: 0.1252, RMSE: 0.1930\n",
            "Testing: {'embed_dim': 16, 'dense_units': 128, 'dropout_rate': 0.2, 'learning_rate': 0.0005}\n",
            "Epoch 1/10\n",
            "\u001b[1m319/319\u001b[0m \u001b[32m━━━━━━━━━━━━━━━━━━━━\u001b[0m\u001b[37m\u001b[0m \u001b[1m8s\u001b[0m 12ms/step - loss: 0.1248 - mae: 0.2327 - val_loss: 0.0433 - val_mae: 0.1188\n",
            "Epoch 2/10\n",
            "\u001b[1m319/319\u001b[0m \u001b[32m━━━━━━━━━━━━━━━━━━━━\u001b[0m\u001b[37m\u001b[0m \u001b[1m1s\u001b[0m 3ms/step - loss: 0.0366 - mae: 0.1097 - val_loss: 0.0412 - val_mae: 0.1228\n",
            "Epoch 3/10\n",
            "\u001b[1m319/319\u001b[0m \u001b[32m━━━━━━━━━━━━━━━━━━━━\u001b[0m\u001b[37m\u001b[0m \u001b[1m1s\u001b[0m 3ms/step - loss: 0.0240 - mae: 0.0808 - val_loss: 0.0453 - val_mae: 0.1154\n",
            "Epoch 4/10\n",
            "\u001b[1m319/319\u001b[0m \u001b[32m━━━━━━━━━━━━━━━━━━━━\u001b[0m\u001b[37m\u001b[0m \u001b[1m1s\u001b[0m 3ms/step - loss: 0.0167 - mae: 0.0608 - val_loss: 0.0468 - val_mae: 0.1158\n",
            "Epoch 5/10\n",
            "\u001b[1m319/319\u001b[0m \u001b[32m━━━━━━━━━━━━━━━━━━━━\u001b[0m\u001b[37m\u001b[0m \u001b[1m1s\u001b[0m 3ms/step - loss: 0.0123 - mae: 0.0503 - val_loss: 0.0471 - val_mae: 0.1165\n",
            "\u001b[1m354/354\u001b[0m \u001b[32m━━━━━━━━━━━━━━━━━━━━\u001b[0m\u001b[37m\u001b[0m \u001b[1m1s\u001b[0m 3ms/step\n",
            "MAE: 0.1217, RMSE: 0.1931\n",
            "Testing: {'embed_dim': 16, 'dense_units': 128, 'dropout_rate': 0.3, 'learning_rate': 0.001}\n",
            "Epoch 1/10\n",
            "\u001b[1m319/319\u001b[0m \u001b[32m━━━━━━━━━━━━━━━━━━━━\u001b[0m\u001b[37m\u001b[0m \u001b[1m9s\u001b[0m 12ms/step - loss: 0.1037 - mae: 0.1987 - val_loss: 0.0442 - val_mae: 0.1126\n",
            "Epoch 2/10\n",
            "\u001b[1m319/319\u001b[0m \u001b[32m━━━━━━━━━━━━━━━━━━━━\u001b[0m\u001b[37m\u001b[0m \u001b[1m1s\u001b[0m 3ms/step - loss: 0.0352 - mae: 0.1052 - val_loss: 0.0424 - val_mae: 0.1129\n",
            "Epoch 3/10\n",
            "\u001b[1m319/319\u001b[0m \u001b[32m━━━━━━━━━━━━━━━━━━━━\u001b[0m\u001b[37m\u001b[0m \u001b[1m1s\u001b[0m 3ms/step - loss: 0.0225 - mae: 0.0724 - val_loss: 0.0458 - val_mae: 0.1115\n",
            "Epoch 4/10\n",
            "\u001b[1m319/319\u001b[0m \u001b[32m━━━━━━━━━━━━━━━━━━━━\u001b[0m\u001b[37m\u001b[0m \u001b[1m1s\u001b[0m 3ms/step - loss: 0.0165 - mae: 0.0561 - val_loss: 0.0481 - val_mae: 0.1158\n",
            "Epoch 5/10\n",
            "\u001b[1m319/319\u001b[0m \u001b[32m━━━━━━━━━━━━━━━━━━━━\u001b[0m\u001b[37m\u001b[0m \u001b[1m1s\u001b[0m 3ms/step - loss: 0.0128 - mae: 0.0462 - val_loss: 0.0480 - val_mae: 0.1139\n",
            "\u001b[1m354/354\u001b[0m \u001b[32m━━━━━━━━━━━━━━━━━━━━\u001b[0m\u001b[37m\u001b[0m \u001b[1m1s\u001b[0m 3ms/step\n",
            "MAE: 0.1116, RMSE: 0.1938\n",
            "Testing: {'embed_dim': 16, 'dense_units': 128, 'dropout_rate': 0.3, 'learning_rate': 0.0005}\n",
            "Epoch 1/10\n",
            "\u001b[1m319/319\u001b[0m \u001b[32m━━━━━━━━━━━━━━━━━━━━\u001b[0m\u001b[37m\u001b[0m \u001b[1m8s\u001b[0m 12ms/step - loss: 0.1124 - mae: 0.2051 - val_loss: 0.0424 - val_mae: 0.1213\n",
            "Epoch 2/10\n",
            "\u001b[1m319/319\u001b[0m \u001b[32m━━━━━━━━━━━━━━━━━━━━\u001b[0m\u001b[37m\u001b[0m \u001b[1m1s\u001b[0m 3ms/step - loss: 0.0399 - mae: 0.1149 - val_loss: 0.0410 - val_mae: 0.1180\n",
            "Epoch 3/10\n",
            "\u001b[1m319/319\u001b[0m \u001b[32m━━━━━━━━━━━━━━━━━━━━\u001b[0m\u001b[37m\u001b[0m \u001b[1m1s\u001b[0m 3ms/step - loss: 0.0284 - mae: 0.0900 - val_loss: 0.0456 - val_mae: 0.1229\n",
            "Epoch 4/10\n",
            "\u001b[1m319/319\u001b[0m \u001b[32m━━━━━━━━━━━━━━━━━━━━\u001b[0m\u001b[37m\u001b[0m \u001b[1m1s\u001b[0m 3ms/step - loss: 0.0199 - mae: 0.0678 - val_loss: 0.0473 - val_mae: 0.1151\n",
            "Epoch 5/10\n",
            "\u001b[1m319/319\u001b[0m \u001b[32m━━━━━━━━━━━━━━━━━━━━\u001b[0m\u001b[37m\u001b[0m \u001b[1m1s\u001b[0m 3ms/step - loss: 0.0146 - mae: 0.0547 - val_loss: 0.0476 - val_mae: 0.1146\n",
            "\u001b[1m354/354\u001b[0m \u001b[32m━━━━━━━━━━━━━━━━━━━━\u001b[0m\u001b[37m\u001b[0m \u001b[1m1s\u001b[0m 3ms/step\n",
            "MAE: 0.1163, RMSE: 0.1916\n",
            "Testing: {'embed_dim': 16, 'dense_units': 128, 'dropout_rate': 0.4, 'learning_rate': 0.001}\n",
            "Epoch 1/10\n",
            "\u001b[1m319/319\u001b[0m \u001b[32m━━━━━━━━━━━━━━━━━━━━\u001b[0m\u001b[37m\u001b[0m \u001b[1m8s\u001b[0m 12ms/step - loss: 0.0845 - mae: 0.1598 - val_loss: 0.0409 - val_mae: 0.1342\n",
            "Epoch 2/10\n",
            "\u001b[1m319/319\u001b[0m \u001b[32m━━━━━━━━━━━━━━━━━━━━\u001b[0m\u001b[37m\u001b[0m \u001b[1m1s\u001b[0m 3ms/step - loss: 0.0375 - mae: 0.1113 - val_loss: 0.0413 - val_mae: 0.1208\n",
            "Epoch 3/10\n",
            "\u001b[1m319/319\u001b[0m \u001b[32m━━━━━━━━━━━━━━━━━━━━\u001b[0m\u001b[37m\u001b[0m \u001b[1m1s\u001b[0m 3ms/step - loss: 0.0257 - mae: 0.0781 - val_loss: 0.0459 - val_mae: 0.1131\n",
            "Epoch 4/10\n",
            "\u001b[1m319/319\u001b[0m \u001b[32m━━━━━━━━━━━━━━━━━━━━\u001b[0m\u001b[37m\u001b[0m \u001b[1m1s\u001b[0m 3ms/step - loss: 0.0185 - mae: 0.0598 - val_loss: 0.0497 - val_mae: 0.1184\n",
            "\u001b[1m354/354\u001b[0m \u001b[32m━━━━━━━━━━━━━━━━━━━━\u001b[0m\u001b[37m\u001b[0m \u001b[1m1s\u001b[0m 3ms/step\n",
            "MAE: 0.1349, RMSE: 0.1943\n",
            "Testing: {'embed_dim': 16, 'dense_units': 128, 'dropout_rate': 0.4, 'learning_rate': 0.0005}\n",
            "Epoch 1/10\n",
            "\u001b[1m319/319\u001b[0m \u001b[32m━━━━━━━━━━━━━━━━━━━━\u001b[0m\u001b[37m\u001b[0m \u001b[1m8s\u001b[0m 12ms/step - loss: 0.1468 - mae: 0.2625 - val_loss: 0.0440 - val_mae: 0.1212\n",
            "Epoch 2/10\n",
            "\u001b[1m319/319\u001b[0m \u001b[32m━━━━━━━━━━━━━━━━━━━━\u001b[0m\u001b[37m\u001b[0m \u001b[1m1s\u001b[0m 3ms/step - loss: 0.0432 - mae: 0.1199 - val_loss: 0.0415 - val_mae: 0.1108\n",
            "Epoch 3/10\n",
            "\u001b[1m319/319\u001b[0m \u001b[32m━━━━━━━━━━━━━━━━━━━━\u001b[0m\u001b[37m\u001b[0m \u001b[1m1s\u001b[0m 3ms/step - loss: 0.0305 - mae: 0.0940 - val_loss: 0.0442 - val_mae: 0.1150\n",
            "Epoch 4/10\n",
            "\u001b[1m319/319\u001b[0m \u001b[32m━━━━━━━━━━━━━━━━━━━━\u001b[0m\u001b[37m\u001b[0m \u001b[1m1s\u001b[0m 3ms/step - loss: 0.0211 - mae: 0.0710 - val_loss: 0.0460 - val_mae: 0.1115\n",
            "Epoch 5/10\n",
            "\u001b[1m319/319\u001b[0m \u001b[32m━━━━━━━━━━━━━━━━━━━━\u001b[0m\u001b[37m\u001b[0m \u001b[1m1s\u001b[0m 3ms/step - loss: 0.0165 - mae: 0.0594 - val_loss: 0.0472 - val_mae: 0.1112\n",
            "\u001b[1m354/354\u001b[0m \u001b[32m━━━━━━━━━━━━━━━━━━━━\u001b[0m\u001b[37m\u001b[0m \u001b[1m1s\u001b[0m 3ms/step\n",
            "MAE: 0.1102, RMSE: 0.1945\n",
            "Testing: {'embed_dim': 16, 'dense_units': 256, 'dropout_rate': 0.2, 'learning_rate': 0.001}\n",
            "Epoch 1/10\n",
            "\u001b[1m319/319\u001b[0m \u001b[32m━━━━━━━━━━━━━━━━━━━━\u001b[0m\u001b[37m\u001b[0m \u001b[1m8s\u001b[0m 12ms/step - loss: 0.0850 - mae: 0.1705 - val_loss: 0.0416 - val_mae: 0.1311\n",
            "Epoch 2/10\n",
            "\u001b[1m319/319\u001b[0m \u001b[32m━━━━━━━━━━━━━━━━━━━━\u001b[0m\u001b[37m\u001b[0m \u001b[1m1s\u001b[0m 3ms/step - loss: 0.0326 - mae: 0.1034 - val_loss: 0.0419 - val_mae: 0.1181\n",
            "Epoch 3/10\n",
            "\u001b[1m319/319\u001b[0m \u001b[32m━━━━━━━━━━━━━━━━━━━━\u001b[0m\u001b[37m\u001b[0m \u001b[1m1s\u001b[0m 3ms/step - loss: 0.0212 - mae: 0.0687 - val_loss: 0.0457 - val_mae: 0.1150\n",
            "Epoch 4/10\n",
            "\u001b[1m319/319\u001b[0m \u001b[32m━━━━━━━━━━━━━━━━━━━━\u001b[0m\u001b[37m\u001b[0m \u001b[1m1s\u001b[0m 3ms/step - loss: 0.0148 - mae: 0.0533 - val_loss: 0.0466 - val_mae: 0.1175\n",
            "\u001b[1m354/354\u001b[0m \u001b[32m━━━━━━━━━━━━━━━━━━━━\u001b[0m\u001b[37m\u001b[0m \u001b[1m1s\u001b[0m 3ms/step\n",
            "MAE: 0.1308, RMSE: 0.1964\n",
            "Testing: {'embed_dim': 16, 'dense_units': 256, 'dropout_rate': 0.2, 'learning_rate': 0.0005}\n",
            "Epoch 1/10\n",
            "\u001b[1m319/319\u001b[0m \u001b[32m━━━━━━━━━━━━━━━━━━━━\u001b[0m\u001b[37m\u001b[0m \u001b[1m8s\u001b[0m 12ms/step - loss: 0.1075 - mae: 0.1979 - val_loss: 0.0429 - val_mae: 0.1191\n",
            "Epoch 2/10\n",
            "\u001b[1m319/319\u001b[0m \u001b[32m━━━━━━━━━━━━━━━━━━━━\u001b[0m\u001b[37m\u001b[0m \u001b[1m1s\u001b[0m 3ms/step - loss: 0.0374 - mae: 0.1111 - val_loss: 0.0407 - val_mae: 0.1193\n",
            "Epoch 3/10\n",
            "\u001b[1m319/319\u001b[0m \u001b[32m━━━━━━━━━━━━━━━━━━━━\u001b[0m\u001b[37m\u001b[0m \u001b[1m1s\u001b[0m 3ms/step - loss: 0.0257 - mae: 0.0865 - val_loss: 0.0443 - val_mae: 0.1184\n",
            "Epoch 4/10\n",
            "\u001b[1m319/319\u001b[0m \u001b[32m━━━━━━━━━━━━━━━━━━━━\u001b[0m\u001b[37m\u001b[0m \u001b[1m1s\u001b[0m 3ms/step - loss: 0.0174 - mae: 0.0639 - val_loss: 0.0464 - val_mae: 0.1157\n",
            "Epoch 5/10\n",
            "\u001b[1m319/319\u001b[0m \u001b[32m━━━━━━━━━━━━━━━━━━━━\u001b[0m\u001b[37m\u001b[0m \u001b[1m1s\u001b[0m 3ms/step - loss: 0.0133 - mae: 0.0525 - val_loss: 0.0466 - val_mae: 0.1158\n",
            "\u001b[1m354/354\u001b[0m \u001b[32m━━━━━━━━━━━━━━━━━━━━\u001b[0m\u001b[37m\u001b[0m \u001b[1m1s\u001b[0m 3ms/step\n",
            "MAE: 0.1184, RMSE: 0.1920\n",
            "Testing: {'embed_dim': 16, 'dense_units': 256, 'dropout_rate': 0.3, 'learning_rate': 0.001}\n",
            "Epoch 1/10\n",
            "\u001b[1m319/319\u001b[0m \u001b[32m━━━━━━━━━━━━━━━━━━━━\u001b[0m\u001b[37m\u001b[0m \u001b[1m8s\u001b[0m 12ms/step - loss: 0.0957 - mae: 0.1854 - val_loss: 0.0414 - val_mae: 0.1215\n",
            "Epoch 2/10\n",
            "\u001b[1m319/319\u001b[0m \u001b[32m━━━━━━━━━━━━━━━━━━━━\u001b[0m\u001b[37m\u001b[0m \u001b[1m1s\u001b[0m 3ms/step - loss: 0.0355 - mae: 0.1066 - val_loss: 0.0424 - val_mae: 0.1113\n",
            "Epoch 3/10\n",
            "\u001b[1m319/319\u001b[0m \u001b[32m━━━━━━━━━━━━━━━━━━━━\u001b[0m\u001b[37m\u001b[0m \u001b[1m1s\u001b[0m 3ms/step - loss: 0.0228 - mae: 0.0700 - val_loss: 0.0460 - val_mae: 0.1104\n",
            "Epoch 4/10\n",
            "\u001b[1m319/319\u001b[0m \u001b[32m━━━━━━━━━━━━━━━━━━━━\u001b[0m\u001b[37m\u001b[0m \u001b[1m1s\u001b[0m 3ms/step - loss: 0.0162 - mae: 0.0549 - val_loss: 0.0480 - val_mae: 0.1108\n",
            "\u001b[1m354/354\u001b[0m \u001b[32m━━━━━━━━━━━━━━━━━━━━\u001b[0m\u001b[37m\u001b[0m \u001b[1m1s\u001b[0m 3ms/step\n",
            "MAE: 0.1202, RMSE: 0.1947\n",
            "Testing: {'embed_dim': 16, 'dense_units': 256, 'dropout_rate': 0.3, 'learning_rate': 0.0005}\n",
            "Epoch 1/10\n",
            "\u001b[1m319/319\u001b[0m \u001b[32m━━━━━━━━━━━━━━━━━━━━\u001b[0m\u001b[37m\u001b[0m \u001b[1m8s\u001b[0m 12ms/step - loss: 0.1437 - mae: 0.2609 - val_loss: 0.0441 - val_mae: 0.1193\n",
            "Epoch 2/10\n",
            "\u001b[1m319/319\u001b[0m \u001b[32m━━━━━━━━━━━━━━━━━━━━\u001b[0m\u001b[37m\u001b[0m \u001b[1m1s\u001b[0m 3ms/step - loss: 0.0396 - mae: 0.1143 - val_loss: 0.0416 - val_mae: 0.1131\n",
            "Epoch 3/10\n",
            "\u001b[1m319/319\u001b[0m \u001b[32m━━━━━━━━━━━━━━━━━━━━\u001b[0m\u001b[37m\u001b[0m \u001b[1m1s\u001b[0m 3ms/step - loss: 0.0269 - mae: 0.0856 - val_loss: 0.0456 - val_mae: 0.1149\n",
            "Epoch 4/10\n",
            "\u001b[1m319/319\u001b[0m \u001b[32m━━━━━━━━━━━━━━━━━━━━\u001b[0m\u001b[37m\u001b[0m \u001b[1m1s\u001b[0m 3ms/step - loss: 0.0180 - mae: 0.0636 - val_loss: 0.0458 - val_mae: 0.1124\n",
            "Epoch 5/10\n",
            "\u001b[1m319/319\u001b[0m \u001b[32m━━━━━━━━━━━━━━━━━━━━\u001b[0m\u001b[37m\u001b[0m \u001b[1m1s\u001b[0m 3ms/step - loss: 0.0138 - mae: 0.0530 - val_loss: 0.0479 - val_mae: 0.1132\n",
            "\u001b[1m354/354\u001b[0m \u001b[32m━━━━━━━━━━━━━━━━━━━━\u001b[0m\u001b[37m\u001b[0m \u001b[1m1s\u001b[0m 3ms/step\n",
            "MAE: 0.1121, RMSE: 0.1947\n",
            "Testing: {'embed_dim': 16, 'dense_units': 256, 'dropout_rate': 0.4, 'learning_rate': 0.001}\n",
            "Epoch 1/10\n",
            "\u001b[1m319/319\u001b[0m \u001b[32m━━━━━━━━━━━━━━━━━━━━\u001b[0m\u001b[37m\u001b[0m \u001b[1m8s\u001b[0m 11ms/step - loss: 0.0974 - mae: 0.1860 - val_loss: 0.0408 - val_mae: 0.1205\n",
            "Epoch 2/10\n",
            "\u001b[1m319/319\u001b[0m \u001b[32m━━━━━━━━━━━━━━━━━━━━\u001b[0m\u001b[37m\u001b[0m \u001b[1m1s\u001b[0m 3ms/step - loss: 0.0364 - mae: 0.1067 - val_loss: 0.0415 - val_mae: 0.1125\n",
            "Epoch 3/10\n",
            "\u001b[1m319/319\u001b[0m \u001b[32m━━━━━━━━━━━━━━━━━━━━\u001b[0m\u001b[37m\u001b[0m \u001b[1m1s\u001b[0m 3ms/step - loss: 0.0236 - mae: 0.0736 - val_loss: 0.0468 - val_mae: 0.1139\n",
            "Epoch 4/10\n",
            "\u001b[1m319/319\u001b[0m \u001b[32m━━━━━━━━━━━━━━━━━━━━\u001b[0m\u001b[37m\u001b[0m \u001b[1m1s\u001b[0m 3ms/step - loss: 0.0175 - mae: 0.0580 - val_loss: 0.0482 - val_mae: 0.1148\n",
            "\u001b[1m354/354\u001b[0m \u001b[32m━━━━━━━━━━━━━━━━━━━━\u001b[0m\u001b[37m\u001b[0m \u001b[1m1s\u001b[0m 3ms/step\n",
            "MAE: 0.1199, RMSE: 0.1938\n",
            "Testing: {'embed_dim': 16, 'dense_units': 256, 'dropout_rate': 0.4, 'learning_rate': 0.0005}\n",
            "Epoch 1/10\n",
            "\u001b[1m319/319\u001b[0m \u001b[32m━━━━━━━━━━━━━━━━━━━━\u001b[0m\u001b[37m\u001b[0m \u001b[1m8s\u001b[0m 12ms/step - loss: 0.1374 - mae: 0.2392 - val_loss: 0.0459 - val_mae: 0.1159\n",
            "Epoch 2/10\n",
            "\u001b[1m319/319\u001b[0m \u001b[32m━━━━━━━━━━━━━━━━━━━━\u001b[0m\u001b[37m\u001b[0m \u001b[1m1s\u001b[0m 3ms/step - loss: 0.0421 - mae: 0.1155 - val_loss: 0.0416 - val_mae: 0.1107\n",
            "Epoch 3/10\n",
            "\u001b[1m319/319\u001b[0m \u001b[32m━━━━━━━━━━━━━━━━━━━━\u001b[0m\u001b[37m\u001b[0m \u001b[1m1s\u001b[0m 3ms/step - loss: 0.0327 - mae: 0.0971 - val_loss: 0.0445 - val_mae: 0.1129\n",
            "Epoch 4/10\n",
            "\u001b[1m319/319\u001b[0m \u001b[32m━━━━━━━━━━━━━━━━━━━━\u001b[0m\u001b[37m\u001b[0m \u001b[1m1s\u001b[0m 3ms/step - loss: 0.0219 - mae: 0.0714 - val_loss: 0.0463 - val_mae: 0.1127\n",
            "Epoch 5/10\n",
            "\u001b[1m319/319\u001b[0m \u001b[32m━━━━━━━━━━━━━━━━━━━━\u001b[0m\u001b[37m\u001b[0m \u001b[1m1s\u001b[0m 3ms/step - loss: 0.0163 - mae: 0.0592 - val_loss: 0.0467 - val_mae: 0.1130\n",
            "\u001b[1m354/354\u001b[0m \u001b[32m━━━━━━━━━━━━━━━━━━━━\u001b[0m\u001b[37m\u001b[0m \u001b[1m1s\u001b[0m 3ms/step\n",
            "MAE: 0.1092, RMSE: 0.1950\n",
            "Testing: {'embed_dim': 32, 'dense_units': 128, 'dropout_rate': 0.2, 'learning_rate': 0.001}\n",
            "Epoch 1/10\n",
            "\u001b[1m319/319\u001b[0m \u001b[32m━━━━━━━━━━━━━━━━━━━━\u001b[0m\u001b[37m\u001b[0m \u001b[1m9s\u001b[0m 14ms/step - loss: 0.1205 - mae: 0.2000 - val_loss: 0.0418 - val_mae: 0.1268\n",
            "Epoch 2/10\n",
            "\u001b[1m319/319\u001b[0m \u001b[32m━━━━━━━━━━━━━━━━━━━━\u001b[0m\u001b[37m\u001b[0m \u001b[1m1s\u001b[0m 3ms/step - loss: 0.0326 - mae: 0.0973 - val_loss: 0.0448 - val_mae: 0.1184\n",
            "Epoch 3/10\n",
            "\u001b[1m319/319\u001b[0m \u001b[32m━━━━━━━━━━━━━━━━━━━━\u001b[0m\u001b[37m\u001b[0m \u001b[1m1s\u001b[0m 3ms/step - loss: 0.0215 - mae: 0.0669 - val_loss: 0.0479 - val_mae: 0.1158\n",
            "Epoch 4/10\n",
            "\u001b[1m319/319\u001b[0m \u001b[32m━━━━━━━━━━━━━━━━━━━━\u001b[0m\u001b[37m\u001b[0m \u001b[1m1s\u001b[0m 3ms/step - loss: 0.0158 - mae: 0.0520 - val_loss: 0.0486 - val_mae: 0.1119\n",
            "\u001b[1m354/354\u001b[0m \u001b[32m━━━━━━━━━━━━━━━━━━━━\u001b[0m\u001b[37m\u001b[0m \u001b[1m1s\u001b[0m 3ms/step\n",
            "MAE: 0.1266, RMSE: 0.1933\n",
            "Testing: {'embed_dim': 32, 'dense_units': 128, 'dropout_rate': 0.2, 'learning_rate': 0.0005}\n",
            "Epoch 1/10\n",
            "\u001b[1m319/319\u001b[0m \u001b[32m━━━━━━━━━━━━━━━━━━━━\u001b[0m\u001b[37m\u001b[0m \u001b[1m9s\u001b[0m 13ms/step - loss: 0.1270 - mae: 0.1853 - val_loss: 0.0445 - val_mae: 0.1245\n",
            "Epoch 2/10\n",
            "\u001b[1m319/319\u001b[0m \u001b[32m━━━━━━━━━━━━━━━━━━━━\u001b[0m\u001b[37m\u001b[0m \u001b[1m1s\u001b[0m 3ms/step - loss: 0.0358 - mae: 0.1065 - val_loss: 0.0430 - val_mae: 0.1191\n",
            "Epoch 3/10\n",
            "\u001b[1m319/319\u001b[0m \u001b[32m━━━━━━━━━━━━━━━━━━━━\u001b[0m\u001b[37m\u001b[0m \u001b[1m1s\u001b[0m 3ms/step - loss: 0.0227 - mae: 0.0741 - val_loss: 0.0479 - val_mae: 0.1218\n",
            "Epoch 4/10\n",
            "\u001b[1m319/319\u001b[0m \u001b[32m━━━━━━━━━━━━━━━━━━━━\u001b[0m\u001b[37m\u001b[0m \u001b[1m1s\u001b[0m 3ms/step - loss: 0.0166 - mae: 0.0582 - val_loss: 0.0480 - val_mae: 0.1197\n",
            "Epoch 5/10\n",
            "\u001b[1m319/319\u001b[0m \u001b[32m━━━━━━━━━━━━━━━━━━━━\u001b[0m\u001b[37m\u001b[0m \u001b[1m1s\u001b[0m 3ms/step - loss: 0.0132 - mae: 0.0490 - val_loss: 0.0476 - val_mae: 0.1164\n",
            "\u001b[1m354/354\u001b[0m \u001b[32m━━━━━━━━━━━━━━━━━━━━\u001b[0m\u001b[37m\u001b[0m \u001b[1m1s\u001b[0m 3ms/step\n",
            "MAE: 0.1187, RMSE: 0.1947\n",
            "Testing: {'embed_dim': 32, 'dense_units': 128, 'dropout_rate': 0.3, 'learning_rate': 0.001}\n",
            "Epoch 1/10\n",
            "\u001b[1m319/319\u001b[0m \u001b[32m━━━━━━━━━━━━━━━━━━━━\u001b[0m\u001b[37m\u001b[0m \u001b[1m9s\u001b[0m 13ms/step - loss: 0.1133 - mae: 0.1824 - val_loss: 0.0425 - val_mae: 0.1202\n",
            "Epoch 2/10\n",
            "\u001b[1m319/319\u001b[0m \u001b[32m━━━━━━━━━━━━━━━━━━━━\u001b[0m\u001b[37m\u001b[0m \u001b[1m1s\u001b[0m 3ms/step - loss: 0.0339 - mae: 0.0981 - val_loss: 0.0442 - val_mae: 0.1147\n",
            "Epoch 3/10\n",
            "\u001b[1m319/319\u001b[0m \u001b[32m━━━━━━━━━━━━━━━━━━━━\u001b[0m\u001b[37m\u001b[0m \u001b[1m1s\u001b[0m 3ms/step - loss: 0.0231 - mae: 0.0680 - val_loss: 0.0486 - val_mae: 0.1162\n",
            "Epoch 4/10\n",
            "\u001b[1m319/319\u001b[0m \u001b[32m━━━━━━━━━━━━━━━━━━━━\u001b[0m\u001b[37m\u001b[0m \u001b[1m1s\u001b[0m 3ms/step - loss: 0.0172 - mae: 0.0533 - val_loss: 0.0487 - val_mae: 0.1130\n",
            "\u001b[1m354/354\u001b[0m \u001b[32m━━━━━━━━━━━━━━━━━━━━\u001b[0m\u001b[37m\u001b[0m \u001b[1m1s\u001b[0m 3ms/step\n",
            "MAE: 0.1195, RMSE: 0.1941\n",
            "Testing: {'embed_dim': 32, 'dense_units': 128, 'dropout_rate': 0.3, 'learning_rate': 0.0005}\n",
            "Epoch 1/10\n",
            "\u001b[1m319/319\u001b[0m \u001b[32m━━━━━━━━━━━━━━━━━━━━\u001b[0m\u001b[37m\u001b[0m \u001b[1m9s\u001b[0m 13ms/step - loss: 0.1322 - mae: 0.1915 - val_loss: 0.0435 - val_mae: 0.1212\n",
            "Epoch 2/10\n",
            "\u001b[1m319/319\u001b[0m \u001b[32m━━━━━━━━━━━━━━━━━━━━\u001b[0m\u001b[37m\u001b[0m \u001b[1m1s\u001b[0m 3ms/step - loss: 0.0395 - mae: 0.1117 - val_loss: 0.0432 - val_mae: 0.1149\n",
            "Epoch 3/10\n",
            "\u001b[1m319/319\u001b[0m \u001b[32m━━━━━━━━━━━━━━━━━━━━\u001b[0m\u001b[37m\u001b[0m \u001b[1m1s\u001b[0m 3ms/step - loss: 0.0259 - mae: 0.0809 - val_loss: 0.0467 - val_mae: 0.1148\n",
            "Epoch 4/10\n",
            "\u001b[1m319/319\u001b[0m \u001b[32m━━━━━━━━━━━━━━━━━━━━\u001b[0m\u001b[37m\u001b[0m \u001b[1m1s\u001b[0m 3ms/step - loss: 0.0187 - mae: 0.0619 - val_loss: 0.0482 - val_mae: 0.1140\n",
            "Epoch 5/10\n",
            "\u001b[1m319/319\u001b[0m \u001b[32m━━━━━━━━━━━━━━━━━━━━\u001b[0m\u001b[37m\u001b[0m \u001b[1m1s\u001b[0m 3ms/step - loss: 0.0147 - mae: 0.0511 - val_loss: 0.0487 - val_mae: 0.1167\n",
            "\u001b[1m354/354\u001b[0m \u001b[32m━━━━━━━━━━━━━━━━━━━━\u001b[0m\u001b[37m\u001b[0m \u001b[1m1s\u001b[0m 3ms/step\n",
            "MAE: 0.1147, RMSE: 0.1948\n",
            "Testing: {'embed_dim': 32, 'dense_units': 128, 'dropout_rate': 0.4, 'learning_rate': 0.001}\n",
            "Epoch 1/10\n",
            "\u001b[1m319/319\u001b[0m \u001b[32m━━━━━━━━━━━━━━━━━━━━\u001b[0m\u001b[37m\u001b[0m \u001b[1m8s\u001b[0m 13ms/step - loss: 0.1067 - mae: 0.1669 - val_loss: 0.0425 - val_mae: 0.1263\n",
            "Epoch 2/10\n",
            "\u001b[1m319/319\u001b[0m \u001b[32m━━━━━━━━━━━━━━━━━━━━\u001b[0m\u001b[37m\u001b[0m \u001b[1m1s\u001b[0m 3ms/step - loss: 0.0359 - mae: 0.1033 - val_loss: 0.0439 - val_mae: 0.1218\n",
            "Epoch 3/10\n",
            "\u001b[1m319/319\u001b[0m \u001b[32m━━━━━━━━━━━━━━━━━━━━\u001b[0m\u001b[37m\u001b[0m \u001b[1m1s\u001b[0m 3ms/step - loss: 0.0248 - mae: 0.0696 - val_loss: 0.0496 - val_mae: 0.1163\n",
            "Epoch 4/10\n",
            "\u001b[1m319/319\u001b[0m \u001b[32m━━━━━━━━━━━━━━━━━━━━\u001b[0m\u001b[37m\u001b[0m \u001b[1m1s\u001b[0m 3ms/step - loss: 0.0189 - mae: 0.0564 - val_loss: 0.0502 - val_mae: 0.1192\n",
            "\u001b[1m354/354\u001b[0m \u001b[32m━━━━━━━━━━━━━━━━━━━━\u001b[0m\u001b[37m\u001b[0m \u001b[1m1s\u001b[0m 3ms/step\n",
            "MAE: 0.1259, RMSE: 0.1943\n",
            "Testing: {'embed_dim': 32, 'dense_units': 128, 'dropout_rate': 0.4, 'learning_rate': 0.0005}\n",
            "Epoch 1/10\n",
            "\u001b[1m319/319\u001b[0m \u001b[32m━━━━━━━━━━━━━━━━━━━━\u001b[0m\u001b[37m\u001b[0m \u001b[1m10s\u001b[0m 13ms/step - loss: 0.1349 - mae: 0.1899 - val_loss: 0.0453 - val_mae: 0.1199\n",
            "Epoch 2/10\n",
            "\u001b[1m319/319\u001b[0m \u001b[32m━━━━━━━━━━━━━━━━━━━━\u001b[0m\u001b[37m\u001b[0m \u001b[1m1s\u001b[0m 3ms/step - loss: 0.0410 - mae: 0.1129 - val_loss: 0.0430 - val_mae: 0.1248\n",
            "Epoch 3/10\n",
            "\u001b[1m319/319\u001b[0m \u001b[32m━━━━━━━━━━━━━━━━━━━━\u001b[0m\u001b[37m\u001b[0m \u001b[1m1s\u001b[0m 3ms/step - loss: 0.0278 - mae: 0.0843 - val_loss: 0.0476 - val_mae: 0.1204\n",
            "Epoch 4/10\n",
            "\u001b[1m319/319\u001b[0m \u001b[32m━━━━━━━━━━━━━━━━━━━━\u001b[0m\u001b[37m\u001b[0m \u001b[1m1s\u001b[0m 3ms/step - loss: 0.0200 - mae: 0.0643 - val_loss: 0.0491 - val_mae: 0.1209\n",
            "Epoch 5/10\n",
            "\u001b[1m319/319\u001b[0m \u001b[32m━━━━━━━━━━━━━━━━━━━━\u001b[0m\u001b[37m\u001b[0m \u001b[1m1s\u001b[0m 3ms/step - loss: 0.0161 - mae: 0.0547 - val_loss: 0.0486 - val_mae: 0.1179\n",
            "\u001b[1m354/354\u001b[0m \u001b[32m━━━━━━━━━━━━━━━━━━━━\u001b[0m\u001b[37m\u001b[0m \u001b[1m1s\u001b[0m 3ms/step\n",
            "MAE: 0.1256, RMSE: 0.1953\n",
            "Testing: {'embed_dim': 32, 'dense_units': 256, 'dropout_rate': 0.2, 'learning_rate': 0.001}\n",
            "Epoch 1/10\n",
            "\u001b[1m319/319\u001b[0m \u001b[32m━━━━━━━━━━━━━━━━━━━━\u001b[0m\u001b[37m\u001b[0m \u001b[1m8s\u001b[0m 13ms/step - loss: 0.1072 - mae: 0.1743 - val_loss: 0.0425 - val_mae: 0.1363\n",
            "Epoch 2/10\n",
            "\u001b[1m319/319\u001b[0m \u001b[32m━━━━━━━━━━━━━━━━━━━━\u001b[0m\u001b[37m\u001b[0m \u001b[1m1s\u001b[0m 3ms/step - loss: 0.0314 - mae: 0.0948 - val_loss: 0.0438 - val_mae: 0.1122\n",
            "Epoch 3/10\n",
            "\u001b[1m319/319\u001b[0m \u001b[32m━━━━━━━━━━━━━━━━━━━━\u001b[0m\u001b[37m\u001b[0m \u001b[1m1s\u001b[0m 3ms/step - loss: 0.0203 - mae: 0.0611 - val_loss: 0.0487 - val_mae: 0.1164\n",
            "Epoch 4/10\n",
            "\u001b[1m319/319\u001b[0m \u001b[32m━━━━━━━━━━━━━━━━━━━━\u001b[0m\u001b[37m\u001b[0m \u001b[1m1s\u001b[0m 3ms/step - loss: 0.0164 - mae: 0.0516 - val_loss: 0.0486 - val_mae: 0.1147\n",
            "\u001b[1m354/354\u001b[0m \u001b[32m━━━━━━━━━━━━━━━━━━━━\u001b[0m\u001b[37m\u001b[0m \u001b[1m1s\u001b[0m 3ms/step\n",
            "MAE: 0.1371, RMSE: 0.1957\n",
            "Testing: {'embed_dim': 32, 'dense_units': 256, 'dropout_rate': 0.2, 'learning_rate': 0.0005}\n",
            "Epoch 1/10\n",
            "\u001b[1m319/319\u001b[0m \u001b[32m━━━━━━━━━━━━━━━━━━━━\u001b[0m\u001b[37m\u001b[0m \u001b[1m9s\u001b[0m 13ms/step - loss: 0.1432 - mae: 0.2176 - val_loss: 0.0455 - val_mae: 0.1209\n",
            "Epoch 2/10\n",
            "\u001b[1m319/319\u001b[0m \u001b[32m━━━━━━━━━━━━━━━━━━━━\u001b[0m\u001b[37m\u001b[0m \u001b[1m1s\u001b[0m 3ms/step - loss: 0.0359 - mae: 0.1055 - val_loss: 0.0431 - val_mae: 0.1241\n",
            "Epoch 3/10\n",
            "\u001b[1m319/319\u001b[0m \u001b[32m━━━━━━━━━━━━━━━━━━━━\u001b[0m\u001b[37m\u001b[0m \u001b[1m1s\u001b[0m 3ms/step - loss: 0.0227 - mae: 0.0750 - val_loss: 0.0464 - val_mae: 0.1178\n",
            "Epoch 4/10\n",
            "\u001b[1m319/319\u001b[0m \u001b[32m━━━━━━━━━━━━━━━━━━━━\u001b[0m\u001b[37m\u001b[0m \u001b[1m1s\u001b[0m 3ms/step - loss: 0.0163 - mae: 0.0578 - val_loss: 0.0468 - val_mae: 0.1172\n",
            "Epoch 5/10\n",
            "\u001b[1m319/319\u001b[0m \u001b[32m━━━━━━━━━━━━━━━━━━━━\u001b[0m\u001b[37m\u001b[0m \u001b[1m1s\u001b[0m 3ms/step - loss: 0.0125 - mae: 0.0480 - val_loss: 0.0477 - val_mae: 0.1163\n",
            "\u001b[1m354/354\u001b[0m \u001b[32m━━━━━━━━━━━━━━━━━━━━\u001b[0m\u001b[37m\u001b[0m \u001b[1m1s\u001b[0m 3ms/step\n",
            "MAE: 0.1228, RMSE: 0.1946\n",
            "Testing: {'embed_dim': 32, 'dense_units': 256, 'dropout_rate': 0.3, 'learning_rate': 0.001}\n",
            "Epoch 1/10\n",
            "\u001b[1m319/319\u001b[0m \u001b[32m━━━━━━━━━━━━━━━━━━━━\u001b[0m\u001b[37m\u001b[0m \u001b[1m8s\u001b[0m 13ms/step - loss: 0.1132 - mae: 0.1831 - val_loss: 0.0422 - val_mae: 0.1234\n",
            "Epoch 2/10\n",
            "\u001b[1m319/319\u001b[0m \u001b[32m━━━━━━━━━━━━━━━━━━━━\u001b[0m\u001b[37m\u001b[0m \u001b[1m1s\u001b[0m 3ms/step - loss: 0.0330 - mae: 0.0962 - val_loss: 0.0456 - val_mae: 0.1262\n",
            "Epoch 3/10\n",
            "\u001b[1m319/319\u001b[0m \u001b[32m━━━━━━━━━━━━━━━━━━━━\u001b[0m\u001b[37m\u001b[0m \u001b[1m1s\u001b[0m 3ms/step - loss: 0.0232 - mae: 0.0683 - val_loss: 0.0490 - val_mae: 0.1173\n",
            "Epoch 4/10\n",
            "\u001b[1m319/319\u001b[0m \u001b[32m━━━━━━━━━━━━━━━━━━━━\u001b[0m\u001b[37m\u001b[0m \u001b[1m1s\u001b[0m 3ms/step - loss: 0.0176 - mae: 0.0543 - val_loss: 0.0487 - val_mae: 0.1086\n",
            "\u001b[1m354/354\u001b[0m \u001b[32m━━━━━━━━━━━━━━━━━━━━\u001b[0m\u001b[37m\u001b[0m \u001b[1m1s\u001b[0m 3ms/step\n",
            "MAE: 0.1224, RMSE: 0.1929\n",
            "Testing: {'embed_dim': 32, 'dense_units': 256, 'dropout_rate': 0.3, 'learning_rate': 0.0005}\n",
            "Epoch 1/10\n",
            "\u001b[1m319/319\u001b[0m \u001b[32m━━━━━━━━━━━━━━━━━━━━\u001b[0m\u001b[37m\u001b[0m \u001b[1m9s\u001b[0m 13ms/step - loss: 0.1310 - mae: 0.1893 - val_loss: 0.0454 - val_mae: 0.1172\n",
            "Epoch 2/10\n",
            "\u001b[1m319/319\u001b[0m \u001b[32m━━━━━━━━━━━━━━━━━━━━\u001b[0m\u001b[37m\u001b[0m \u001b[1m1s\u001b[0m 3ms/step - loss: 0.0396 - mae: 0.1105 - val_loss: 0.0426 - val_mae: 0.1173\n",
            "Epoch 3/10\n",
            "\u001b[1m319/319\u001b[0m \u001b[32m━━━━━━━━━━━━━━━━━━━━\u001b[0m\u001b[37m\u001b[0m \u001b[1m1s\u001b[0m 3ms/step - loss: 0.0257 - mae: 0.0817 - val_loss: 0.0466 - val_mae: 0.1209\n",
            "Epoch 4/10\n",
            "\u001b[1m319/319\u001b[0m \u001b[32m━━━━━━━━━━━━━━━━━━━━\u001b[0m\u001b[37m\u001b[0m \u001b[1m1s\u001b[0m 3ms/step - loss: 0.0197 - mae: 0.0654 - val_loss: 0.0480 - val_mae: 0.1167\n",
            "Epoch 5/10\n",
            "\u001b[1m319/319\u001b[0m \u001b[32m━━━━━━━━━━━━━━━━━━━━\u001b[0m\u001b[37m\u001b[0m \u001b[1m1s\u001b[0m 3ms/step - loss: 0.0150 - mae: 0.0544 - val_loss: 0.0479 - val_mae: 0.1157\n",
            "\u001b[1m354/354\u001b[0m \u001b[32m━━━━━━━━━━━━━━━━━━━━\u001b[0m\u001b[37m\u001b[0m \u001b[1m1s\u001b[0m 3ms/step\n",
            "MAE: 0.1163, RMSE: 0.1932\n",
            "Testing: {'embed_dim': 32, 'dense_units': 256, 'dropout_rate': 0.4, 'learning_rate': 0.001}\n",
            "Epoch 1/10\n",
            "\u001b[1m319/319\u001b[0m \u001b[32m━━━━━━━━━━━━━━━━━━━━\u001b[0m\u001b[37m\u001b[0m \u001b[1m8s\u001b[0m 13ms/step - loss: 0.1201 - mae: 0.1922 - val_loss: 0.0427 - val_mae: 0.1230\n",
            "Epoch 2/10\n",
            "\u001b[1m319/319\u001b[0m \u001b[32m━━━━━━━━━━━━━━━━━━━━\u001b[0m\u001b[37m\u001b[0m \u001b[1m1s\u001b[0m 3ms/step - loss: 0.0363 - mae: 0.1028 - val_loss: 0.0447 - val_mae: 0.1167\n",
            "Epoch 3/10\n",
            "\u001b[1m319/319\u001b[0m \u001b[32m━━━━━━━━━━━━━━━━━━━━\u001b[0m\u001b[37m\u001b[0m \u001b[1m1s\u001b[0m 3ms/step - loss: 0.0251 - mae: 0.0721 - val_loss: 0.0491 - val_mae: 0.1159\n",
            "Epoch 4/10\n",
            "\u001b[1m319/319\u001b[0m \u001b[32m━━━━━━━━━━━━━━━━━━━━\u001b[0m\u001b[37m\u001b[0m \u001b[1m1s\u001b[0m 3ms/step - loss: 0.0188 - mae: 0.0559 - val_loss: 0.0493 - val_mae: 0.1099\n",
            "\u001b[1m354/354\u001b[0m \u001b[32m━━━━━━━━━━━━━━━━━━━━\u001b[0m\u001b[37m\u001b[0m \u001b[1m1s\u001b[0m 3ms/step\n",
            "MAE: 0.1216, RMSE: 0.1938\n",
            "Testing: {'embed_dim': 32, 'dense_units': 256, 'dropout_rate': 0.4, 'learning_rate': 0.0005}\n",
            "Epoch 1/10\n",
            "\u001b[1m319/319\u001b[0m \u001b[32m━━━━━━━━━━━━━━━━━━━━\u001b[0m\u001b[37m\u001b[0m \u001b[1m9s\u001b[0m 13ms/step - loss: 0.1517 - mae: 0.2247 - val_loss: 0.0474 - val_mae: 0.1189\n",
            "Epoch 2/10\n",
            "\u001b[1m319/319\u001b[0m \u001b[32m━━━━━━━━━━━━━━━━━━━━\u001b[0m\u001b[37m\u001b[0m \u001b[1m1s\u001b[0m 3ms/step - loss: 0.0429 - mae: 0.1143 - val_loss: 0.0433 - val_mae: 0.1099\n",
            "Epoch 3/10\n",
            "\u001b[1m319/319\u001b[0m \u001b[32m━━━━━━━━━━━━━━━━━━━━\u001b[0m\u001b[37m\u001b[0m \u001b[1m1s\u001b[0m 3ms/step - loss: 0.0286 - mae: 0.0860 - val_loss: 0.0468 - val_mae: 0.1153\n",
            "Epoch 4/10\n",
            "\u001b[1m319/319\u001b[0m \u001b[32m━━━━━━━━━━━━━━━━━━━━\u001b[0m\u001b[37m\u001b[0m \u001b[1m1s\u001b[0m 3ms/step - loss: 0.0212 - mae: 0.0669 - val_loss: 0.0473 - val_mae: 0.1114\n",
            "Epoch 5/10\n",
            "\u001b[1m319/319\u001b[0m \u001b[32m━━━━━━━━━━━━━━━━━━━━\u001b[0m\u001b[37m\u001b[0m \u001b[1m1s\u001b[0m 3ms/step - loss: 0.0165 - mae: 0.0557 - val_loss: 0.0491 - val_mae: 0.1160\n",
            "\u001b[1m354/354\u001b[0m \u001b[32m━━━━━━━━━━━━━━━━━━━━\u001b[0m\u001b[37m\u001b[0m \u001b[1m1s\u001b[0m 3ms/step\n",
            "MAE: 0.1093, RMSE: 0.1948\n"
          ]
        }
      ],
      "source": [
        "results, best_params = find_best_hyperparams(\n",
        "    model_function=build_hybrid_ncf_model,\n",
        "    X=[user_ids, recipe_ids, user_features, recipe_features],\n",
        "    y=ratings,\n",
        "    param_grid=hybrid_param_grid,\n",
        "    base_kwargs=hybrid_base_kwargs\n",
        ")"
      ]
    },
    {
      "cell_type": "code",
      "execution_count": 42,
      "metadata": {
        "colab": {
          "base_uri": "https://localhost:8080/"
        },
        "id": "_KKqAH1aXzGM",
        "outputId": "169364a1-a028-4c61-8473-12cc66f57cf0"
      },
      "outputs": [
        {
          "name": "stdout",
          "output_type": "stream",
          "text": [
            "Best learning rate: 0.001\n",
            "Best dropout: 0.2\n",
            "Best embed_dim: 16.0\n",
            "Best dense_units: 128.0\n"
          ]
        }
      ],
      "source": [
        "print(\"Best learning rate:\", best_params['learning_rate'])\n",
        "print(\"Best dropout:\", best_params['dropout_rate'])\n",
        "print(\"Best embed_dim:\", best_params['embed_dim'])\n",
        "print(\"Best dense_units:\", best_params['dense_units'])"
      ]
    },
    {
      "cell_type": "markdown",
      "metadata": {
        "id": "_6Y_XV4LXzGM"
      },
      "source": [
        "### Train and evaluate"
      ]
    },
    {
      "cell_type": "code",
      "execution_count": 43,
      "metadata": {
        "id": "PQffM3XOXzGM"
      },
      "outputs": [],
      "source": [
        "best_params = best_params.drop('val_loss').to_dict()\n",
        "best_params[\"embed_dim\"] = int(best_params[\"embed_dim\"])\n",
        "best_params[\"dense_units\"] = int(best_params[\"dense_units\"])"
      ]
    },
    {
      "cell_type": "code",
      "execution_count": 44,
      "metadata": {
        "colab": {
          "base_uri": "https://localhost:8080/"
        },
        "id": "Wv-lM5e8XzGM",
        "outputId": "9407a699-7650-40aa-cdd9-a55014a72aea"
      },
      "outputs": [
        {
          "name": "stdout",
          "output_type": "stream",
          "text": [
            "Epoch 1/10\n",
            "\u001b[1m6370/6370\u001b[0m \u001b[32m━━━━━━━━━━━━━━━━━━━━\u001b[0m\u001b[37m\u001b[0m \u001b[1m24s\u001b[0m 3ms/step - loss: 0.0455 - mae: 0.1235 - val_loss: 0.0376 - val_mae: 0.1076\n",
            "Epoch 2/10\n",
            "\u001b[1m6370/6370\u001b[0m \u001b[32m━━━━━━━━━━━━━━━━━━━━\u001b[0m\u001b[37m\u001b[0m \u001b[1m17s\u001b[0m 3ms/step - loss: 0.0378 - mae: 0.1081 - val_loss: 0.0370 - val_mae: 0.1184\n",
            "Epoch 3/10\n",
            "\u001b[1m6370/6370\u001b[0m \u001b[32m━━━━━━━━━━━━━━━━━━━━\u001b[0m\u001b[37m\u001b[0m \u001b[1m17s\u001b[0m 3ms/step - loss: 0.0363 - mae: 0.1050 - val_loss: 0.0376 - val_mae: 0.1214\n",
            "Epoch 4/10\n",
            "\u001b[1m6370/6370\u001b[0m \u001b[32m━━━━━━━━━━━━━━━━━━━━\u001b[0m\u001b[37m\u001b[0m \u001b[1m17s\u001b[0m 3ms/step - loss: 0.0362 - mae: 0.1029 - val_loss: 0.0383 - val_mae: 0.1144\n",
            "Epoch 5/10\n",
            "\u001b[1m6370/6370\u001b[0m \u001b[32m━━━━━━━━━━━━━━━━━━━━\u001b[0m\u001b[37m\u001b[0m \u001b[1m17s\u001b[0m 3ms/step - loss: 0.0367 - mae: 0.1023 - val_loss: 0.0387 - val_mae: 0.1103\n",
            "\u001b[1m7078/7078\u001b[0m \u001b[32m━━━━━━━━━━━━━━━━━━━━\u001b[0m\u001b[37m\u001b[0m \u001b[1m12s\u001b[0m 2ms/step\n",
            "MAE: 0.1184, RMSE: 0.1861\n"
          ]
        }
      ],
      "source": [
        "best_model_hybrid_ncf = build_hybrid_ncf_model(\n",
        "    **hybrid_base_kwargs,\n",
        "    **best_params\n",
        ")\n",
        "\n",
        "#Full train-test split on all data\n",
        "X = [user_ids, recipe_ids, user_features, recipe_features]\n",
        "X_train, X_test, y_train, y_test = split_inputs(X, ratings)\n",
        "\n",
        "best_model_hybrid_ncf, history_hybrid_ncf = train_and_evaluate(best_model_hybrid_ncf, X_train, y_train, X_test, y_test)"
      ]
    },
    {
      "cell_type": "markdown",
      "metadata": {
        "id": "9B7wiMcoXzGM"
      },
      "source": [
        "### Plotting results"
      ]
    },
    {
      "cell_type": "code",
      "execution_count": 45,
      "metadata": {
        "colab": {
          "base_uri": "https://localhost:8080/",
          "height": 472
        },
        "id": "27RNJahRXzGN",
        "outputId": "b0e3b745-f9f2-47b2-d0be-1ea558328e80"
      },
      "outputs": [
        {
          "data": {
            "image/png": "[encoded data removed]",
            "text/plain": [
              "<Figure size 640x480 with 1 Axes>"
            ]
          },
          "metadata": {},
          "output_type": "display_data"
        }
      ],
      "source": [
        "plot_training(history_hybrid_ncf)"
      ]
    },
    {
      "cell_type": "code",
      "execution_count": 46,
      "metadata": {
        "colab": {
          "base_uri": "https://localhost:8080/",
          "height": 474
        },
        "id": "Tq2pvr37opFk",
        "outputId": "ea1ddc44-c769-422a-b304-48f4265424f8"
      },
      "outputs": [
        {
          "data": {
            "image/png": "[encoded data removed]",
            "text/plain": [
              "<Figure size 1800x500 with 3 Axes>"
            ]
          },
          "metadata": {},
          "output_type": "display_data"
        }
      ],
      "source": [
        "\n",
        "histories = [history_basic_ncf, history_ncf, history_hybrid_ncf]\n",
        "labels = ['Basic NCF', 'Tuned NCF', 'Hybrid NCF']\n",
        "metric='mae'\n",
        "fig, axes = plt.subplots(1, 3, figsize=(18, 5), sharey=True)\n",
        "\n",
        "for ax, history, label in zip(axes, histories, labels):\n",
        "    ax.plot(history.history[metric], label='Train')\n",
        "    if f'val_{metric}' in history.history:\n",
        "        ax.plot(history.history[f'val_{metric}'], linestyle='--', label='Val')\n",
        "    ax.set_title(label)\n",
        "    ax.set_xlabel('Epoch')\n",
        "    ax.set_ylabel(metric.capitalize())\n",
        "    ax.grid(True)\n",
        "    ax.legend()\n",
        "\n",
        "fig.suptitle(f'{metric.capitalize()} Curve for Each Model', fontsize=16)\n",
        "plt.tight_layout(rect=[0, 0, 1, 0.95])\n",
        "plt.show()"
      ]
    },
    {
      "cell_type": "markdown",
      "metadata": {
        "id": "W0aPou1YXzGN"
      },
      "source": [
        "## Final recommendations"
      ]
    },
    {
      "cell_type": "code",
      "execution_count": 47,
      "metadata": {
        "id": "8UsFkCEcXzGN"
      },
      "outputs": [],
      "source": [
        "def get_top_n_hybrid_recommendations(user_id, ncf_model, preferences=None, top_n=10):\n",
        "\n",
        "    user_idx = user_encoder.transform([user_id])[0]\n",
        "\n",
        "    # Get all recipe indices\n",
        "    recipe_indices = np.arange(num_recipes)\n",
        "    user_array = np.full(recipe_indices.shape, fill_value=user_idx)\n",
        "\n",
        "    user_features = users_selected_features[user_idx].reshape(1, -1)\n",
        "    user_features_array = np.repeat(user_features, recipe_indices.shape[0], axis=0)\n",
        "    recipe_features_array = recipes_selected_features\n",
        "\n",
        "    filtered_recipe_df = extended_recipes.copy()\n",
        "\n",
        "    if preferences:\n",
        "        for tag in recipe_tag_columns:\n",
        "            if preferences.get(tag, 0) == 1:\n",
        "                if tag in filtered_recipe_df.columns:\n",
        "                    filtered_recipe_df = filtered_recipe_df[filtered_recipe_df[tag] == 1]\n",
        "\n",
        "    filtered_recipe_indices = filtered_recipe_df['recipe_idx'].values\n",
        "    if len(filtered_recipe_indices) == 0:\n",
        "        return pd.DataFrame(columns=['recipe_idx', 'id', 'name', 'predicted_score'])\n",
        "\n",
        "    user_array_filtered = np.full(filtered_recipe_indices.shape, fill_value=user_idx)\n",
        "    user_features_array_filtered = np.repeat(user_features, filtered_recipe_indices.shape[0], axis=0)\n",
        "    recipe_features_array_filtered = recipe_features_array[filtered_recipe_indices]\n",
        "\n",
        "    predictions = ncf_model.predict([\n",
        "        user_array_filtered,\n",
        "        filtered_recipe_indices,\n",
        "        user_features_array_filtered,\n",
        "        recipe_features_array_filtered\n",
        "    ], verbose=0).flatten()\n",
        "\n",
        "    top_indices = predictions.argsort()[-top_n:][::-1]\n",
        "    top_recipe_idxs = filtered_recipe_indices[top_indices]\n",
        "    top_scores = predictions[top_indices]\n",
        "\n",
        "\n",
        "    results = pd.DataFrame({\n",
        "        'recipe_idx': top_recipe_idxs,\n",
        "        'predicted_score': top_scores\n",
        "    })\n",
        "\n",
        "    recommended_recipes = results.merge(\n",
        "        extended_recipes[['recipe_idx', 'id', 'name', 'tags']],\n",
        "        on='recipe_idx',\n",
        "        how='left'\n",
        "    )\n",
        "\n",
        "    recommended_recipes['predicted_score'] = pd.to_numeric(recommended_recipes['predicted_score'], errors='coerce')\n",
        "    recommended_recipes = recommended_recipes.dropna(subset=['predicted_score'])\n",
        "    return recommended_recipes.sort_values(by='predicted_score', ascending=False).reset_index(drop=True)\n"
      ]
    },
    {
      "cell_type": "code",
      "execution_count": 48,
      "metadata": {
        "id": "mEaYwT8NXzGN"
      },
      "outputs": [],
      "source": [
        "def print_user_recommendations(user_id, recommendations, recipes_df):\n",
        "    print(f\"\\nTop Recommendations for User {user_id}:\\n\")\n",
        "\n",
        "    for _, row in recommendations.iterrows():\n",
        "        recipe_id = row['id']\n",
        "        predicted_score = float(row['predicted_score'])\n",
        "\n",
        "        recipe_row = recipes_df[recipes_df['id'] == recipe_id]\n",
        "        if not recipe_row.empty:\n",
        "            recipe_name = recipe_row['name'].values[0]\n",
        "            recipe_tags = recipe_row['tags'].values[0]\n",
        "        else:\n",
        "            recipe_name = \"(Unknown Recipe)\"\n",
        "            recipe_tags = []\n",
        "\n",
        "        print(f\"  User: {user_id} | Recipe: {recipe_id} ({recipe_name}) | Tags: {recipe_tags} | Predicted Score: {predicted_score:.2f}\")\n"
      ]
    },
    {
      "cell_type": "code",
      "execution_count": 49,
      "metadata": {
        "id": "YkyacO-6XzGN"
      },
      "outputs": [],
      "source": [
        "user_interaction_counts = extended_interactions['user_id'].value_counts()\n",
        "np.random.seed(999)\n",
        "\n",
        "# User with more than 10\n",
        "random_user_candidates = user_interaction_counts[user_interaction_counts > 10].index.tolist()\n",
        "random_user = np.random.choice(random_user_candidates)"
      ]
    },
    {
      "cell_type": "code",
      "execution_count": 50,
      "metadata": {
        "colab": {
          "base_uri": "https://localhost:8080/"
        },
        "id": "_iVoLOn6XzGN",
        "outputId": "5092ae3b-72df-479c-caaf-10e3c5dcac6f"
      },
      "outputs": [
        {
          "name": "stdout",
          "output_type": "stream",
          "text": [
            "\n",
            "Top Recommendations for User 54697:\n",
            "\n",
            "  User: 54697 | Recipe: 431118 (tomato soup with artichokes  white beans  and roasted peppers) | Tags: ['time_to_make', 'cuisine', 'soups_stews', 'easy', 'european', '4_hours_or_less'] | Predicted Score: 1.00\n",
            "  User: 54697 | Recipe: 401016 (grilled lamb shoulder chops with fresh mint sauce) | Tags: ['time_to_make', 'for_1_or_2', 'lamb_sheep', 'barbecue', 'dinner_party', 'meat', 'grilling', 'number_of_servings', '4_hours_or_less'] | Predicted Score: 0.98\n",
            "  User: 54697 | Recipe: 357288 (weekend chicken and cheese enchiladas in green sauce) | Tags: ['time_to_make', 'cuisine', 'north_american', 'main_dish', 'poultry', 'mexican', 'chicken', 'one_dish_meal', 'inexpensive', 'meat', '4_hours_or_less'] | Predicted Score: 0.97\n",
            "  User: 54697 | Recipe: 10744 (delicious chicken pot pie) | Tags: ['weeknight', 'time_to_make', 'cuisine', 'north_american', 'savory_pies', 'main_dish', 'potatoes', 'poultry', 'vegetables', 'american', 'oven', 'easy', 'potluck', 'dinner_party', 'winter', 'chicken', 'one_dish_meal', 'seasonal', 'meat', 'to_go', '4_hours_or_less'] | Predicted Score: 0.96\n",
            "  User: 54697 | Recipe: 23480 (jello cake) | Tags: ['weeknight', 'time_to_make', 'gelatin', 'desserts', 'fruit', 'oven', 'easy', 'holiday_event', 'cakes', 'number_of_servings'] | Predicted Score: 0.96\n"
          ]
        }
      ],
      "source": [
        "top_5 = get_top_n_hybrid_recommendations(random_user, best_model_hybrid_ncf, preferences=None,top_n=5)\n",
        "print_user_recommendations(random_user, top_5, extended_recipes)"
      ]
    }
  ],
  "metadata": {
    "accelerator": "GPU",
    "colab": {
      "gpuType": "A100",
      "machine_shape": "hm",
      "provenance": []
    },
    "kernelspec": {
      "display_name": ".venv",
      "language": "python",
      "name": "python3"
    },
    "language_info": {
      "codemirror_mode": {
        "name": "ipython",
        "version": 3
      },
      "file_extension": ".py",
      "mimetype": "text/x-python",
      "name": "python",
      "nbconvert_exporter": "python",
      "pygments_lexer": "ipython3",
      "version": "3.11.6"
    }
  },
  "nbformat": 4,
  "nbformat_minor": 0
}
