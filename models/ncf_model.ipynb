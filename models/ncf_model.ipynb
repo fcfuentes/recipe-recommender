{
  "cells": [
    {
      "cell_type": "markdown",
      "metadata": {
        "id": "581uS24lXzF2"
      },
      "source": [
        "## Neural Collaborative Filtering Model"
      ]
    },
    {
      "cell_type": "code",
      "execution_count": 1,
      "metadata": {
        "id": "MkY0iPEiXzF4"
      },
      "outputs": [],
      "source": [
        "import numpy as np\n",
        "import pandas as pd\n",
        "import tensorflow as tf\n",
        "import matplotlib.pyplot as plt\n",
        "from functools import reduce\n",
        "from itertools import product\n",
        "from sklearn.model_selection import train_test_split\n",
        "from itertools import product\n",
        "from tensorflow.keras.models import Model\n",
        "from tensorflow.keras.layers import (Input,Embedding,Flatten,Dense,Concatenate,Dropout,BatchNormalization)\n",
        "from tensorflow.keras.callbacks import EarlyStopping\n",
        "from sklearn.metrics import mean_absolute_error, root_mean_squared_error, mean_squared_error\n",
        "from sklearn.preprocessing import LabelEncoder\n",
        "from sklearn.preprocessing import MinMaxScaler"
      ]
    },
    {
      "cell_type": "code",
      "execution_count": null,
      "metadata": {
        "colab": {
          "base_uri": "https://localhost:8080/"
        },
        "id": "s_o-2VtrXzF4",
        "outputId": "718448c9-72be-434f-e457-33d1f3973b09"
      },
      "outputs": [
        {
          "name": "stdout",
          "output_type": "stream",
          "text": [
            "Drive already mounted at /content/drive; to attempt to forcibly remount, call drive.mount(\"/content/drive\", force_remount=True).\n"
          ]
        }
      ],
      "source": [
        "# from google.colab import drive\n",
        "# drive.mount('/content/drive')\n",
        "# data_dir = \"/content/drive/MyDrive/Data\"\n",
        "# extended_interactions = pd.read_pickle(f'{data_dir}/interactions_extended.pkl')\n",
        "# extended_recipes = pd.read_pickle(f'{data_dir}/recipes_extended.pkl')\n",
        "data_dir = \"../data\"\n",
        "extended_interactions = pd.read_pickle(f'{data_dir}/interactions_extended.pkl')\n",
        "extended_recipes = pd.read_pickle(f'{data_dir}/recipes_extended.pkl')"
      ]
    },
    {
      "cell_type": "code",
      "execution_count": 3,
      "metadata": {
        "colab": {
          "base_uri": "https://localhost:8080/"
        },
        "collapsed": true,
        "id": "FsyHG2SFXzF5",
        "outputId": "84a0bebd-fed7-4419-fcbb-c08ee3baa668"
      },
      "outputs": [
        {
          "name": "stdout",
          "output_type": "stream",
          "text": [
            "<class 'pandas.core.frame.DataFrame'>\n",
            "RangeIndex: 1132367 entries, 0 to 1132366\n",
            "Data columns (total 15 columns):\n",
            " #   Column                  Non-Null Count    Dtype         \n",
            "---  ------                  --------------    -----         \n",
            " 0   user_id                 1132367 non-null  int64         \n",
            " 1   recipe_id               1132367 non-null  int64         \n",
            " 2   date                    1132367 non-null  datetime64[ns]\n",
            " 3   rating                  1132367 non-null  int64         \n",
            " 4   review                  1132367 non-null  object        \n",
            " 5   year                    1132367 non-null  int32         \n",
            " 6   month                   1132367 non-null  int32         \n",
            " 7   day_of_week             1132367 non-null  int32         \n",
            " 8   days_since              1132367 non-null  int64         \n",
            " 9   interaction_count       1132367 non-null  int64         \n",
            " 10  rating_scaled           1132367 non-null  float64       \n",
            " 11  user_avg_rating_scaled  1132367 non-null  float64       \n",
            " 12  review_length           1132367 non-null  int64         \n",
            " 13  polarity                1132367 non-null  float64       \n",
            " 14  subjectivity            1132367 non-null  float64       \n",
            "dtypes: datetime64[ns](1), float64(4), int32(3), int64(6), object(1)\n",
            "memory usage: 116.6+ MB\n"
          ]
        }
      ],
      "source": [
        "extended_interactions.info()"
      ]
    },
    {
      "cell_type": "code",
      "execution_count": 4,
      "metadata": {
        "colab": {
          "base_uri": "https://localhost:8080/"
        },
        "collapsed": true,
        "id": "WHj-4sXUXzF5",
        "outputId": "cfdc341f-6d1a-4c0b-96cd-be193400aae5"
      },
      "outputs": [
        {
          "name": "stdout",
          "output_type": "stream",
          "text": [
            "<class 'pandas.core.frame.DataFrame'>\n",
            "Index: 231636 entries, 0 to 231636\n",
            "Data columns (total 86 columns):\n",
            " #   Column                  Non-Null Count   Dtype         \n",
            "---  ------                  --------------   -----         \n",
            " 0   name                    231636 non-null  object        \n",
            " 1   id                      231636 non-null  int64         \n",
            " 2   minutes                 231636 non-null  int64         \n",
            " 3   contributor_id          231636 non-null  int64         \n",
            " 4   submitted               231636 non-null  datetime64[ns]\n",
            " 5   tags                    231636 non-null  object        \n",
            " 6   nutrition               231636 non-null  object        \n",
            " 7   n_steps                 231636 non-null  int64         \n",
            " 8   steps                   231636 non-null  object        \n",
            " 9   description             231636 non-null  object        \n",
            " 10  ingredients             231636 non-null  object        \n",
            " 11  n_ingredients           231636 non-null  int64         \n",
            " 12  calories                231636 non-null  float64       \n",
            " 13  total_fat_pdv           231636 non-null  float64       \n",
            " 14  sugar_pdv               231636 non-null  float64       \n",
            " 15  sodium_pdv              231636 non-null  float64       \n",
            " 16  protein_pdv             231636 non-null  float64       \n",
            " 17  saturated_fat_pdv       231636 non-null  float64       \n",
            " 18  carbs_pdv               231636 non-null  float64       \n",
            " 19  total_fat_pdv_norm      231636 non-null  float64       \n",
            " 20  sugar_pdv_norm          231636 non-null  float64       \n",
            " 21  sodium_pdv_norm         231636 non-null  float64       \n",
            " 22  protein_pdv_norm        231636 non-null  float64       \n",
            " 23  saturated_fat_pdv_norm  231636 non-null  float64       \n",
            " 24  carbs_pdv_norm          231636 non-null  float64       \n",
            " 25  minutes_normalized      231636 non-null  float64       \n",
            " 26  n_steps_norm            231636 non-null  float64       \n",
            " 27  cleaned_ingredients     231636 non-null  object        \n",
            " 28  year                    231636 non-null  int32         \n",
            " 29  month                   231636 non-null  int32         \n",
            " 30  weekday                 231636 non-null  int32         \n",
            " 31  time_bin                230542 non-null  category      \n",
            " 32  complexity              231636 non-null  int64         \n",
            " 33  n_ingredients_norm      231636 non-null  float64       \n",
            " 34  vegan                   231636 non-null  int64         \n",
            " 35  vegetarian              231636 non-null  int64         \n",
            " 36  pescatarian             231636 non-null  int64         \n",
            " 37  flexitarian             231636 non-null  int64         \n",
            " 38  raw                     231636 non-null  int64         \n",
            " 39  paleo                   231636 non-null  int64         \n",
            " 40  keto                    231636 non-null  int64         \n",
            " 41  mediterranean           231636 non-null  int64         \n",
            " 42  macrobiotic             231636 non-null  int64         \n",
            " 43  zone_diet               231636 non-null  int64         \n",
            " 44  carnivore_diet          231636 non-null  int64         \n",
            " 45  alkaline_diet           231636 non-null  int64         \n",
            " 46  whole30                 231636 non-null  int64         \n",
            " 47  dash_diet               231636 non-null  int64         \n",
            " 48  low_carb                231636 non-null  int64         \n",
            " 49  high_protein            231636 non-null  int64         \n",
            " 50  low_fat                 231636 non-null  int64         \n",
            " 51  fat_free                231636 non-null  int64         \n",
            " 52  clean_eating            231636 non-null  int64         \n",
            " 53  plant_based             231636 non-null  int64         \n",
            " 54  diabetic_friendly       231636 non-null  int64         \n",
            " 55  heart_healthy           231636 non-null  int64         \n",
            " 56  renal_diet              231636 non-null  int64         \n",
            " 57  anti_inflammatory       231636 non-null  int64         \n",
            " 58  low_fodmap              231636 non-null  int64         \n",
            " 59  cholesterol_free        231636 non-null  int64         \n",
            " 60  low_sodium              231636 non-null  int64         \n",
            " 61  salt_free               231636 non-null  int64         \n",
            " 62  weight_watchers         231636 non-null  int64         \n",
            " 63  pcos_friendly           231636 non-null  int64         \n",
            " 64  gallbladder_friendly    231636 non-null  int64         \n",
            " 65  thyroid_friendly        231636 non-null  int64         \n",
            " 66  gluten_free             231636 non-null  int64         \n",
            " 67  wheat_free              231636 non-null  int64         \n",
            " 68  nut_free                231636 non-null  int64         \n",
            " 69  peanut_free             231636 non-null  int64         \n",
            " 70  dairy_free              231636 non-null  int64         \n",
            " 71  lactose_free            231636 non-null  int64         \n",
            " 72  soy_free                231636 non-null  int64         \n",
            " 73  egg_free                231636 non-null  int64         \n",
            " 74  sesame_free             231636 non-null  int64         \n",
            " 75  corn_free               231636 non-null  int64         \n",
            " 76  shellfish_free          231636 non-null  int64         \n",
            " 77  seafood_free            231636 non-null  int64         \n",
            " 78  sulfite_free            231636 non-null  int64         \n",
            " 79  kosher                  231636 non-null  int64         \n",
            " 80  halal                   231636 non-null  int64         \n",
            " 81  jain                    231636 non-null  int64         \n",
            " 82  lacto_vegetarian        231636 non-null  int64         \n",
            " 83  ovo_vegetarian          231636 non-null  int64         \n",
            " 84  sugar_free              231636 non-null  int64         \n",
            " 85  low_sugar               231636 non-null  int64         \n",
            "dtypes: category(1), datetime64[ns](1), float64(16), int32(3), int64(58), object(7)\n",
            "memory usage: 149.6+ MB\n"
          ]
        }
      ],
      "source": [
        "extended_recipes.info()"
      ]
    },
    {
      "cell_type": "markdown",
      "metadata": {
        "id": "hBlMAntPXzF6"
      },
      "source": [
        "### Preparing data - Encode user_id and recipe_id"
      ]
    },
    {
      "cell_type": "markdown",
      "metadata": {
        "id": "mQW--kTVXzF6"
      },
      "source": [
        "Some interactions might reference recipes that are missing from the recipe dataset. Let’s remove any interactions where the recipe is not present in the recipe data."
      ]
    },
    {
      "cell_type": "code",
      "execution_count": 5,
      "metadata": {
        "id": "Gk1nXgXDXzF6"
      },
      "outputs": [],
      "source": [
        "valid_recipes_ids = set(extended_recipes['id'])\n",
        "extended_interactions = extended_interactions[ extended_interactions['recipe_id'].isin(valid_recipes_ids)].reset_index(drop=True)"
      ]
    },
    {
      "cell_type": "code",
      "execution_count": 6,
      "metadata": {
        "id": "1L6GaNICXzF6"
      },
      "outputs": [],
      "source": [
        "recipe_encoder = LabelEncoder()\n",
        "user_encoder = LabelEncoder()\n",
        "recipe_encoder.fit(extended_recipes['id'])\n",
        "\n",
        "extended_recipes['recipe_idx'] = recipe_encoder.transform(extended_recipes['id'])\n",
        "extended_interactions['recipe_idx'] = recipe_encoder.transform(extended_interactions['recipe_id'])\n",
        "extended_interactions['user_idx'] = user_encoder.fit_transform(extended_interactions['user_id'])"
      ]
    },
    {
      "cell_type": "markdown",
      "metadata": {
        "id": "IT_XPFZCXzF7"
      },
      "source": [
        "Just to be sure, we check that no encoded index exceeds the embedding size"
      ]
    },
    {
      "cell_type": "code",
      "execution_count": 7,
      "metadata": {
        "id": "s-OzH9jkXzF7"
      },
      "outputs": [],
      "source": [
        "assert extended_interactions['recipe_idx'].max() < recipe_encoder.classes_.shape[0]\n",
        "assert extended_interactions['user_idx'].max() < user_encoder.classes_.shape[0]"
      ]
    },
    {
      "cell_type": "code",
      "execution_count": 8,
      "metadata": {
        "colab": {
          "base_uri": "https://localhost:8080/"
        },
        "id": "deAM8RuXXzF7",
        "outputId": "c2747d84-a371-47a0-b03a-0555c996d4ae"
      },
      "outputs": [
        {
          "name": "stdout",
          "output_type": "stream",
          "text": [
            "interactions_idx min (interactions): 0\n",
            "interactions_idx max (interactions): 231635\n",
            "recipe_idx min (recipes): 0\n",
            "recipe_idx max (recipes): 231635\n",
            "user_idx min: 0\n",
            "user_idx max: 226568\n"
          ]
        }
      ],
      "source": [
        "print(\"interactions_idx min (interactions):\", extended_interactions['recipe_idx'].min())\n",
        "print(\"interactions_idx max (interactions):\", extended_interactions['recipe_idx'].max())\n",
        "print(\"recipe_idx min (recipes):\", extended_recipes['recipe_idx'].min())\n",
        "print(\"recipe_idx max (recipes):\", extended_recipes['recipe_idx'].max())\n",
        "print(\"user_idx min:\", extended_interactions['user_idx'].min())\n",
        "print(\"user_idx max:\", extended_interactions['user_idx'].max())"
      ]
    },
    {
      "cell_type": "markdown",
      "metadata": {
        "id": "JAOq8pg6XzF7"
      },
      "source": [
        "### Prepare train and test datasets for modeling"
      ]
    },
    {
      "cell_type": "code",
      "execution_count": 9,
      "metadata": {
        "id": "aBlHwF4NXzF7"
      },
      "outputs": [],
      "source": [
        "user_ids = extended_interactions['user_idx'].values\n",
        "recipe_ids = extended_interactions['recipe_idx'].values\n",
        "ratings = extended_interactions['rating_scaled'].values\n",
        "num_users = extended_interactions['user_idx'].nunique()\n",
        "num_recipes = extended_recipes['recipe_idx'].nunique()"
      ]
    },
    {
      "cell_type": "code",
      "execution_count": 10,
      "metadata": {
        "id": "KBCrxTObXzF7"
      },
      "outputs": [],
      "source": [
        "X_train_ids, X_test_ids, y_train, y_test = train_test_split(np.arange(len(user_ids)), ratings, test_size=0.2, random_state=999)\n",
        "\n",
        "X_train = [user_ids[X_train_ids], recipe_ids[X_train_ids]]\n",
        "X_test = [user_ids[X_test_ids], recipe_ids[X_test_ids]]\n"
      ]
    },
    {
      "cell_type": "code",
      "execution_count": 11,
      "metadata": {
        "id": "FNUhjWFOXzF8"
      },
      "outputs": [],
      "source": [
        "def train_and_evaluate(model, X_train, y_train, X_test, y_test, epochs=10, batch_size=128):\n",
        "    early_stop = EarlyStopping(monitor='val_loss', patience=3, restore_best_weights=True)\n",
        "    history = model.fit(X_train, y_train, validation_split=0.1, epochs=epochs, batch_size=batch_size, callbacks=[early_stop],verbose=1)\n",
        "\n",
        "    y_pred = model.predict(X_test).flatten()\n",
        "    mae = mean_absolute_error(y_test, y_pred)\n",
        "    rmse = np.sqrt(mean_squared_error(y_test, y_pred))\n",
        "\n",
        "    print(f\"MAE: {mae:.4f}, RMSE: {rmse:.4f}\")\n",
        "    return model, history"
      ]
    },
    {
      "cell_type": "code",
      "execution_count": 12,
      "metadata": {
        "id": "ND8ioRCfXzF8"
      },
      "outputs": [],
      "source": [
        "def plot_training(history):\n",
        "    plt.plot(history.history['loss'], label='Train Loss')\n",
        "    plt.plot(history.history['val_loss'], label='Val Loss')\n",
        "    plt.title('Loss Curve')\n",
        "    plt.xlabel('Epoch')\n",
        "    plt.ylabel('Loss')\n",
        "    plt.legend()\n",
        "    plt.grid(True)\n",
        "    plt.show()"
      ]
    },
    {
      "cell_type": "markdown",
      "metadata": {
        "id": "Szq7hsUuXzF8"
      },
      "source": [
        "## Model 1. Basic Neural Collaborative Filtering"
      ]
    },
    {
      "cell_type": "markdown",
      "metadata": {},
      "source": [
        "Neural Collaborative Filtering (NCF) uses embedding layers for users and items, and then combines those embeddings using a fully connected neural network."
      ]
    },
    {
      "cell_type": "code",
      "execution_count": 13,
      "metadata": {
        "id": "4_2JkwfrXzF8"
      },
      "outputs": [],
      "source": [
        "def build_basic_ncf(num_users, num_recipes, embed_dim, dense_units, dropout_rate, learning_rate):\n",
        "    # === Optimizer ===\n",
        "    optimizer = tf.keras.optimizers.Adam(learning_rate=learning_rate)\n",
        "    # === Inputs ===\n",
        "    user_input = Input(shape=(1,), name='user')\n",
        "    recipe_input = Input(shape=(1,), name='recipe')\n",
        "    # === Embeddings ===\n",
        "    user_embedding = Embedding(input_dim=num_users, output_dim=embed_dim)(user_input)\n",
        "    recipe_embedding = Embedding(input_dim=num_recipes, output_dim=embed_dim)(recipe_input)\n",
        "    # === Flatten embeddings ===\n",
        "    user_vec = Flatten()(user_embedding)\n",
        "    recipe_vec = Flatten()(recipe_embedding)\n",
        "    # === Concatenate embeddings ===\n",
        "    x = Concatenate()([user_vec, recipe_vec])\n",
        "    # === Dense layers ===\n",
        "    x = Dense(dense_units, activation='relu')(x)\n",
        "    x = Dropout(dropout_rate)(x)\n",
        "    x = Dense(dense_units // 2, activation='relu')(x)\n",
        "    x = Dropout(dropout_rate)(x)\n",
        "\n",
        "    output = Dense(1, activation='sigmoid')(x)\n",
        "\n",
        "    model = Model(inputs=[user_input, recipe_input], outputs=output)\n",
        "    model.compile(optimizer=optimizer,loss='mse', metrics=['mae'])\n",
        "    return model"
      ]
    },
    {
      "cell_type": "markdown",
      "metadata": {
        "id": "M5tKzq5sXzF8"
      },
      "source": [
        "### Train and evaluate"
      ]
    },
    {
      "cell_type": "code",
      "execution_count": 14,
      "metadata": {
        "colab": {
          "base_uri": "https://localhost:8080/"
        },
        "id": "bnDAOg1BXzF8",
        "outputId": "798e046b-f2ff-40a7-a740-110d59944582"
      },
      "outputs": [
        {
          "name": "stdout",
          "output_type": "stream",
          "text": [
            "Epoch 1/10\n",
            "\u001b[1m6370/6370\u001b[0m \u001b[32m━━━━━━━━━━━━━━━━━━━━\u001b[0m\u001b[37m\u001b[0m \u001b[1m21s\u001b[0m 3ms/step - loss: 0.0741 - mae: 0.1895 - val_loss: 0.0654 - val_mae: 0.1698\n",
            "Epoch 2/10\n",
            "\u001b[1m6370/6370\u001b[0m \u001b[32m━━━━━━━━━━━━━━━━━━━━\u001b[0m\u001b[37m\u001b[0m \u001b[1m14s\u001b[0m 2ms/step - loss: 0.0465 - mae: 0.1314 - val_loss: 0.0721 - val_mae: 0.1708\n",
            "Epoch 3/10\n",
            "\u001b[1m6370/6370\u001b[0m \u001b[32m━━━━━━━━━━━━━━━━━━━━\u001b[0m\u001b[37m\u001b[0m \u001b[1m14s\u001b[0m 2ms/step - loss: 0.0328 - mae: 0.1012 - val_loss: 0.0724 - val_mae: 0.1582\n",
            "Epoch 4/10\n",
            "\u001b[1m6370/6370\u001b[0m \u001b[32m━━━━━━━━━━━━━━━━━━━━\u001b[0m\u001b[37m\u001b[0m \u001b[1m14s\u001b[0m 2ms/step - loss: 0.0275 - mae: 0.0881 - val_loss: 0.0737 - val_mae: 0.1630\n",
            "\u001b[1m7078/7078\u001b[0m \u001b[32m━━━━━━━━━━━━━━━━━━━━\u001b[0m\u001b[37m\u001b[0m \u001b[1m11s\u001b[0m 1ms/step\n",
            "MAE: 0.1691, RMSE: 0.2550\n"
          ]
        }
      ],
      "source": [
        "model_basic_ncf = build_basic_ncf(\n",
        "    num_users=num_users,\n",
        "    num_recipes=num_recipes,\n",
        "    embed_dim=16,\n",
        "    dense_units=128,\n",
        "    dropout_rate=0.3,\n",
        "    learning_rate=0.0005\n",
        ")\n",
        "\n",
        "model_basic_ncf, history_basic_ncf = train_and_evaluate(model_basic_ncf, X_train, y_train, X_test, y_test)"
      ]
    },
    {
      "cell_type": "markdown",
      "metadata": {
        "id": "QwzV0lqIXzF9"
      },
      "source": [
        "### Plotting results"
      ]
    },
    {
      "cell_type": "code",
      "execution_count": 15,
      "metadata": {
        "colab": {
          "base_uri": "https://localhost:8080/",
          "height": 472
        },
        "id": "6WLrWQe0XzF9",
        "outputId": "7dbc5ff6-d0a6-4edf-d715-fa30a6fc3ccb"
      },
      "outputs": [
        {
          "data": {
            "image/png": "[encoded data removed]",
            "text/plain": [
              "<Figure size 640x480 with 1 Axes>"
            ]
          },
          "metadata": {},
          "output_type": "display_data"
        }
      ],
      "source": [
        "plot_training(history_basic_ncf)"
      ]
    },
    {
      "cell_type": "markdown",
      "metadata": {
        "id": "p4IBX0CZXzF9"
      },
      "source": [
        "## Model 2. Improved Neural Collaborative Filtering"
      ]
    },
    {
      "cell_type": "code",
      "execution_count": 16,
      "metadata": {
        "id": "JS-Jewu0XzF9"
      },
      "outputs": [],
      "source": [
        " #Randomly sample a fraction of X and y, maintaining alignment.\n",
        "def sample_dataset(X, y, fraction=0.05, random_state=999):\n",
        "    total_samples = len(y)\n",
        "    sample_size = int(total_samples * fraction)\n",
        "\n",
        "    rng = np.random.RandomState(seed=random_state)\n",
        "    indices = rng.choice(total_samples, size=sample_size, replace=False)\n",
        "\n",
        "    if isinstance(X, list):\n",
        "        X_sampled = [np.array(x)[indices] for x in X]\n",
        "    else:\n",
        "        X_sampled = np.array(X)[indices]\n",
        "\n",
        "    y_sampled = np.array(y)[indices]\n",
        "    return X_sampled, y_sampled"
      ]
    },
    {
      "cell_type": "code",
      "execution_count": 17,
      "metadata": {
        "id": "QD_Ib-JMXzF9"
      },
      "outputs": [],
      "source": [
        "def split_inputs(X, y, test_size=0.2, random_state=999):\n",
        "    total = len(y)\n",
        "    indices = np.arange(total)\n",
        "    train_idx, test_idx = train_test_split(indices, test_size=test_size, random_state=random_state)\n",
        "\n",
        "    if isinstance(X, list):\n",
        "        X_train = [x[train_idx] for x in X]\n",
        "        X_test = [x[test_idx] for x in X]\n",
        "    else:\n",
        "        X_train = X[train_idx]\n",
        "        X_test = X[test_idx]\n",
        "\n",
        "    return X_train, X_test, y[train_idx], y[test_idx]"
      ]
    },
    {
      "cell_type": "code",
      "execution_count": 18,
      "metadata": {
        "id": "YtaaYCE-XzF9"
      },
      "outputs": [],
      "source": [
        "def test_parameters(model_function, X, y, model_kwargs={}, sample_frac=0.05, epochs=10, batch_size=128, verbose=1):\n",
        "\n",
        "    X_sampled, y_sampled = sample_dataset(X, y, fraction=sample_frac)\n",
        "    X_train, X_test, y_train, y_test = split_inputs(X_sampled, y_sampled)\n",
        "\n",
        "    model = model_function(**model_kwargs)\n",
        "    model, history = train_and_evaluate(model, X_train, y_train, X_test, y_test, epochs=epochs, batch_size=batch_size)\n",
        "    return model, history\n"
      ]
    },
    {
      "cell_type": "code",
      "execution_count": 19,
      "metadata": {
        "id": "JeoSadSrXzF9"
      },
      "outputs": [],
      "source": [
        "def expand_grid(param_grid):\n",
        "    keys = list(param_grid.keys())\n",
        "    values = list(param_grid.values())\n",
        "    for combo in product(*values):\n",
        "        yield dict(zip(keys, combo))"
      ]
    },
    {
      "cell_type": "code",
      "execution_count": 20,
      "metadata": {
        "id": "XfmEexHCXzF9"
      },
      "outputs": [],
      "source": [
        "def find_best_hyperparams(model_function, X, y, param_grid, base_kwargs={}, sample_frac=0.05, epochs=10, batch_size=128):\n",
        "    records = []\n",
        "\n",
        "    for params in expand_grid(param_grid):\n",
        "        print(\"Testing:\", params)\n",
        "        model, history = test_parameters(\n",
        "            model_function=model_function,\n",
        "            X=X,\n",
        "            y=y,\n",
        "            model_kwargs={**base_kwargs, **params},\n",
        "            sample_frac=sample_frac,\n",
        "            epochs=epochs,\n",
        "            batch_size=batch_size,\n",
        "            verbose=1\n",
        "        )\n",
        "        final_val_loss = history.history['val_loss'][-1]\n",
        "        records.append({**params, 'val_loss': final_val_loss})\n",
        "\n",
        "    df = pd.DataFrame(records)\n",
        "    df_sorted = df.sort_values(by='val_loss').reset_index(drop=True)\n",
        "\n",
        "    best_params = df_sorted.iloc[0]  # returns a Series\n",
        "    return df_sorted, best_params"
      ]
    },
    {
      "cell_type": "code",
      "execution_count": 21,
      "metadata": {
        "id": "f_-keeynXzF-"
      },
      "outputs": [],
      "source": [
        "def build_ncf(num_users, num_recipes, embed_dim, dense_units, dropout_rate, learning_rate, l2_reg=1e-5):\n",
        "    # === Optimizer ===\n",
        "    optimizer = tf.keras.optimizers.Adam(learning_rate=learning_rate)\n",
        "    # === Regulizer ===\n",
        "    regularizer=tf.keras.regularizers.l2(l2_reg)\n",
        "    # === Inputs ===\n",
        "    user_input = Input(shape=(1,), name='user')\n",
        "    recipe_input = Input(shape=(1,), name='recipe')\n",
        "    # === Embeddings ===\n",
        "    user_embedding = Embedding(input_dim=num_users, output_dim=embed_dim, embeddings_regularizer=regularizer )(user_input)\n",
        "    recipe_embedding = Embedding(input_dim=num_recipes, output_dim=embed_dim, embeddings_regularizer=regularizer)(recipe_input)\n",
        "    # === Flatten embeddings ===\n",
        "    user_vec = Flatten()(user_embedding)\n",
        "    recipe_vec = Flatten()(recipe_embedding)\n",
        "    # === Concatenate embeddings ===\n",
        "    x = Concatenate()([user_vec, recipe_vec])\n",
        "    x = BatchNormalization()(x)\n",
        "    # === Dense layers ===\n",
        "    x = Dense(dense_units, activation='relu', kernel_regularizer=regularizer)(x)\n",
        "    x = Dropout(dropout_rate)(x)\n",
        "    x = Dense(dense_units // 2, activation='relu', kernel_regularizer=regularizer)(x)\n",
        "    x = Dropout(dropout_rate)(x)\n",
        "\n",
        "    output = Dense(1, activation='sigmoid')(x)\n",
        "\n",
        "    model = Model(inputs=[user_input, recipe_input], outputs=output)\n",
        "    model.compile(optimizer=optimizer,\n",
        "                  loss='mse', metrics=['mae'])\n",
        "    return model"
      ]
    },
    {
      "cell_type": "markdown",
      "metadata": {
        "id": "BR2UNw-kXzF-"
      },
      "source": [
        "### Finding best parameters"
      ]
    },
    {
      "cell_type": "code",
      "execution_count": 22,
      "metadata": {
        "id": "Bk8j6jlAXzF-"
      },
      "outputs": [],
      "source": [
        "param_grid = {\n",
        "    'embed_dim': [16, 32],\n",
        "    'dense_units': [64, 128, 256],\n",
        "    'dropout_rate': [0.3, 0.4],\n",
        "    'learning_rate': [0.001, 0.0005]\n",
        "}"
      ]
    },
    {
      "cell_type": "code",
      "execution_count": 23,
      "metadata": {
        "id": "arewCB5fXzF-"
      },
      "outputs": [],
      "source": [
        "base_kwargs = {\n",
        "    'num_users': num_users,\n",
        "    'num_recipes': num_recipes\n",
        "}"
      ]
    },
    {
      "cell_type": "code",
      "execution_count": 24,
      "metadata": {
        "colab": {
          "base_uri": "https://localhost:8080/"
        },
        "id": "H_5OZZkrXzF-",
        "outputId": "6ed02345-149a-476a-87f0-e17c7cdbe86c"
      },
      "outputs": [
        {
          "name": "stdout",
          "output_type": "stream",
          "text": [
            "Testing: {'embed_dim': 16, 'dense_units': 64, 'dropout_rate': 0.3, 'learning_rate': 0.001}\n",
            "Epoch 1/10\n",
            "\u001b[1m319/319\u001b[0m \u001b[32m━━━━━━━━━━━━━━━━━━━━\u001b[0m\u001b[37m\u001b[0m \u001b[1m8s\u001b[0m 14ms/step - loss: 0.1368 - mae: 0.2721 - val_loss: 0.0805 - val_mae: 0.2180\n",
            "Epoch 2/10\n",
            "\u001b[1m319/319\u001b[0m \u001b[32m━━━━━━━━━━━━━━━━━━━━\u001b[0m\u001b[37m\u001b[0m \u001b[1m1s\u001b[0m 2ms/step - loss: 0.0537 - mae: 0.1311 - val_loss: 0.0865 - val_mae: 0.1949\n",
            "Epoch 3/10\n",
            "\u001b[1m319/319\u001b[0m \u001b[32m━━━━━━━━━━━━━━━━━━━━\u001b[0m\u001b[37m\u001b[0m \u001b[1m1s\u001b[0m 3ms/step - loss: 0.0308 - mae: 0.0882 - val_loss: 0.0956 - val_mae: 0.1989\n",
            "Epoch 4/10\n",
            "\u001b[1m319/319\u001b[0m \u001b[32m━━━━━━━━━━━━━━━━━━━━\u001b[0m\u001b[37m\u001b[0m \u001b[1m1s\u001b[0m 3ms/step - loss: 0.0220 - mae: 0.0697 - val_loss: 0.0912 - val_mae: 0.1850\n",
            "\u001b[1m354/354\u001b[0m \u001b[32m━━━━━━━━━━━━━━━━━━━━\u001b[0m\u001b[37m\u001b[0m \u001b[1m2s\u001b[0m 3ms/step\n",
            "MAE: 0.2191, RMSE: 0.2777\n",
            "Testing: {'embed_dim': 16, 'dense_units': 64, 'dropout_rate': 0.3, 'learning_rate': 0.0005}\n",
            "Epoch 1/10\n",
            "\u001b[1m319/319\u001b[0m \u001b[32m━━━━━━━━━━━━━━━━━━━━\u001b[0m\u001b[37m\u001b[0m \u001b[1m7s\u001b[0m 11ms/step - loss: 0.1566 - mae: 0.2941 - val_loss: 0.0807 - val_mae: 0.2189\n",
            "Epoch 2/10\n",
            "\u001b[1m319/319\u001b[0m \u001b[32m━━━━━━━━━━━━━━━━━━━━\u001b[0m\u001b[37m\u001b[0m \u001b[1m1s\u001b[0m 3ms/step - loss: 0.0603 - mae: 0.1448 - val_loss: 0.0810 - val_mae: 0.1981\n",
            "Epoch 3/10\n",
            "\u001b[1m319/319\u001b[0m \u001b[32m━━━━━━━━━━━━━━━━━━━━\u001b[0m\u001b[37m\u001b[0m \u001b[1m1s\u001b[0m 3ms/step - loss: 0.0359 - mae: 0.1031 - val_loss: 0.0972 - val_mae: 0.2081\n",
            "Epoch 4/10\n",
            "\u001b[1m319/319\u001b[0m \u001b[32m━━━━━━━━━━━━━━━━━━━━\u001b[0m\u001b[37m\u001b[0m \u001b[1m1s\u001b[0m 3ms/step - loss: 0.0236 - mae: 0.0771 - val_loss: 0.0936 - val_mae: 0.1968\n",
            "\u001b[1m354/354\u001b[0m \u001b[32m━━━━━━━━━━━━━━━━━━━━\u001b[0m\u001b[37m\u001b[0m \u001b[1m1s\u001b[0m 2ms/step\n",
            "MAE: 0.2198, RMSE: 0.2784\n",
            "Testing: {'embed_dim': 16, 'dense_units': 64, 'dropout_rate': 0.4, 'learning_rate': 0.001}\n",
            "Epoch 1/10\n",
            "\u001b[1m319/319\u001b[0m \u001b[32m━━━━━━━━━━━━━━━━━━━━\u001b[0m\u001b[37m\u001b[0m \u001b[1m7s\u001b[0m 11ms/step - loss: 0.1261 - mae: 0.2516 - val_loss: 0.0813 - val_mae: 0.2208\n",
            "Epoch 2/10\n",
            "\u001b[1m319/319\u001b[0m \u001b[32m━━━━━━━━━━━━━━━━━━━━\u001b[0m\u001b[37m\u001b[0m \u001b[1m1s\u001b[0m 3ms/step - loss: 0.0578 - mae: 0.1379 - val_loss: 0.0863 - val_mae: 0.1948\n",
            "Epoch 3/10\n",
            "\u001b[1m319/319\u001b[0m \u001b[32m━━━━━━━━━━━━━━━━━━━━\u001b[0m\u001b[37m\u001b[0m \u001b[1m1s\u001b[0m 3ms/step - loss: 0.0339 - mae: 0.0926 - val_loss: 0.0966 - val_mae: 0.1996\n",
            "Epoch 4/10\n",
            "\u001b[1m319/319\u001b[0m \u001b[32m━━━━━━━━━━━━━━━━━━━━\u001b[0m\u001b[37m\u001b[0m \u001b[1m1s\u001b[0m 3ms/step - loss: 0.0253 - mae: 0.0762 - val_loss: 0.0905 - val_mae: 0.1808\n",
            "\u001b[1m354/354\u001b[0m \u001b[32m━━━━━━━━━━━━━━━━━━━━\u001b[0m\u001b[37m\u001b[0m \u001b[1m1s\u001b[0m 2ms/step\n",
            "MAE: 0.2223, RMSE: 0.2792\n",
            "Testing: {'embed_dim': 16, 'dense_units': 64, 'dropout_rate': 0.4, 'learning_rate': 0.0005}\n",
            "Epoch 1/10\n",
            "\u001b[1m319/319\u001b[0m \u001b[32m━━━━━━━━━━━━━━━━━━━━\u001b[0m\u001b[37m\u001b[0m \u001b[1m7s\u001b[0m 11ms/step - loss: 0.1440 - mae: 0.2731 - val_loss: 0.0809 - val_mae: 0.2195\n",
            "Epoch 2/10\n",
            "\u001b[1m319/319\u001b[0m \u001b[32m━━━━━━━━━━━━━━━━━━━━\u001b[0m\u001b[37m\u001b[0m \u001b[1m1s\u001b[0m 3ms/step - loss: 0.0661 - mae: 0.1522 - val_loss: 0.0806 - val_mae: 0.1975\n",
            "Epoch 3/10\n",
            "\u001b[1m319/319\u001b[0m \u001b[32m━━━━━━━━━━━━━━━━━━━━\u001b[0m\u001b[37m\u001b[0m \u001b[1m1s\u001b[0m 3ms/step - loss: 0.0440 - mae: 0.1148 - val_loss: 0.0918 - val_mae: 0.1970\n",
            "Epoch 4/10\n",
            "\u001b[1m319/319\u001b[0m \u001b[32m━━━━━━━━━━━━━━━━━━━━\u001b[0m\u001b[37m\u001b[0m \u001b[1m1s\u001b[0m 3ms/step - loss: 0.0291 - mae: 0.0853 - val_loss: 0.0974 - val_mae: 0.2001\n",
            "Epoch 5/10\n",
            "\u001b[1m319/319\u001b[0m \u001b[32m━━━━━━━━━━━━━━━━━━━━\u001b[0m\u001b[37m\u001b[0m \u001b[1m1s\u001b[0m 3ms/step - loss: 0.0233 - mae: 0.0733 - val_loss: 0.0945 - val_mae: 0.1890\n",
            "\u001b[1m354/354\u001b[0m \u001b[32m━━━━━━━━━━━━━━━━━━━━\u001b[0m\u001b[37m\u001b[0m \u001b[1m1s\u001b[0m 2ms/step\n",
            "MAE: 0.1959, RMSE: 0.2754\n",
            "Testing: {'embed_dim': 16, 'dense_units': 128, 'dropout_rate': 0.3, 'learning_rate': 0.001}\n",
            "Epoch 1/10\n",
            "\u001b[1m319/319\u001b[0m \u001b[32m━━━━━━━━━━━━━━━━━━━━\u001b[0m\u001b[37m\u001b[0m \u001b[1m8s\u001b[0m 14ms/step - loss: 0.1072 - mae: 0.2113 - val_loss: 0.0842 - val_mae: 0.2280\n",
            "Epoch 2/10\n",
            "\u001b[1m319/319\u001b[0m \u001b[32m━━━━━━━━━━━━━━━━━━━━\u001b[0m\u001b[37m\u001b[0m \u001b[1m1s\u001b[0m 3ms/step - loss: 0.0519 - mae: 0.1320 - val_loss: 0.0844 - val_mae: 0.1944\n",
            "Epoch 3/10\n",
            "\u001b[1m319/319\u001b[0m \u001b[32m━━━━━━━━━━━━━━━━━━━━\u001b[0m\u001b[37m\u001b[0m \u001b[1m1s\u001b[0m 3ms/step - loss: 0.0273 - mae: 0.0834 - val_loss: 0.0929 - val_mae: 0.1978\n",
            "Epoch 4/10\n",
            "\u001b[1m319/319\u001b[0m \u001b[32m━━━━━━━━━━━━━━━━━━━━\u001b[0m\u001b[37m\u001b[0m \u001b[1m1s\u001b[0m 3ms/step - loss: 0.0181 - mae: 0.0620 - val_loss: 0.0912 - val_mae: 0.1910\n",
            "\u001b[1m354/354\u001b[0m \u001b[32m━━━━━━━━━━━━━━━━━━━━\u001b[0m\u001b[37m\u001b[0m \u001b[1m2s\u001b[0m 4ms/step\n",
            "MAE: 0.2292, RMSE: 0.2836\n",
            "Testing: {'embed_dim': 16, 'dense_units': 128, 'dropout_rate': 0.3, 'learning_rate': 0.0005}\n",
            "Epoch 1/10\n",
            "\u001b[1m319/319\u001b[0m \u001b[32m━━━━━━━━━━━━━━━━━━━━\u001b[0m\u001b[37m\u001b[0m \u001b[1m7s\u001b[0m 11ms/step - loss: 0.1238 - mae: 0.2358 - val_loss: 0.0858 - val_mae: 0.2327\n",
            "Epoch 2/10\n",
            "\u001b[1m319/319\u001b[0m \u001b[32m━━━━━━━━━━━━━━━━━━━━\u001b[0m\u001b[37m\u001b[0m \u001b[1m1s\u001b[0m 3ms/step - loss: 0.0617 - mae: 0.1527 - val_loss: 0.0852 - val_mae: 0.2097\n",
            "Epoch 3/10\n",
            "\u001b[1m319/319\u001b[0m \u001b[32m━━━━━━━━━━━━━━━━━━━━\u001b[0m\u001b[37m\u001b[0m \u001b[1m1s\u001b[0m 3ms/step - loss: 0.0345 - mae: 0.0983 - val_loss: 0.1012 - val_mae: 0.2132\n",
            "Epoch 4/10\n",
            "\u001b[1m319/319\u001b[0m \u001b[32m━━━━━━━━━━━━━━━━━━━━\u001b[0m\u001b[37m\u001b[0m \u001b[1m1s\u001b[0m 3ms/step - loss: 0.0214 - mae: 0.0736 - val_loss: 0.0982 - val_mae: 0.2056\n",
            "Epoch 5/10\n",
            "\u001b[1m319/319\u001b[0m \u001b[32m━━━━━━━━━━━━━━━━━━━━\u001b[0m\u001b[37m\u001b[0m \u001b[1m1s\u001b[0m 3ms/step - loss: 0.0156 - mae: 0.0597 - val_loss: 0.0928 - val_mae: 0.1986\n",
            "\u001b[1m354/354\u001b[0m \u001b[32m━━━━━━━━━━━━━━━━━━━━\u001b[0m\u001b[37m\u001b[0m \u001b[1m1s\u001b[0m 2ms/step\n",
            "MAE: 0.2077, RMSE: 0.2832\n",
            "Testing: {'embed_dim': 16, 'dense_units': 128, 'dropout_rate': 0.4, 'learning_rate': 0.001}\n",
            "Epoch 1/10\n",
            "\u001b[1m319/319\u001b[0m \u001b[32m━━━━━━━━━━━━━━━━━━━━\u001b[0m\u001b[37m\u001b[0m \u001b[1m8s\u001b[0m 11ms/step - loss: 0.1127 - mae: 0.2201 - val_loss: 0.0841 - val_mae: 0.2280\n",
            "Epoch 2/10\n",
            "\u001b[1m319/319\u001b[0m \u001b[32m━━━━━━━━━━━━━━━━━━━━\u001b[0m\u001b[37m\u001b[0m \u001b[1m1s\u001b[0m 3ms/step - loss: 0.0551 - mae: 0.1363 - val_loss: 0.0879 - val_mae: 0.2012\n",
            "Epoch 3/10\n",
            "\u001b[1m319/319\u001b[0m \u001b[32m━━━━━━━━━━━━━━━━━━━━\u001b[0m\u001b[37m\u001b[0m \u001b[1m1s\u001b[0m 3ms/step - loss: 0.0309 - mae: 0.0891 - val_loss: 0.0931 - val_mae: 0.1995\n",
            "Epoch 4/10\n",
            "\u001b[1m319/319\u001b[0m \u001b[32m━━━━━━━━━━━━━━━━━━━━\u001b[0m\u001b[37m\u001b[0m \u001b[1m1s\u001b[0m 3ms/step - loss: 0.0212 - mae: 0.0700 - val_loss: 0.0916 - val_mae: 0.1918\n",
            "\u001b[1m354/354\u001b[0m \u001b[32m━━━━━━━━━━━━━━━━━━━━\u001b[0m\u001b[37m\u001b[0m \u001b[1m1s\u001b[0m 2ms/step\n",
            "MAE: 0.2297, RMSE: 0.2838\n",
            "Testing: {'embed_dim': 16, 'dense_units': 128, 'dropout_rate': 0.4, 'learning_rate': 0.0005}\n",
            "Epoch 1/10\n",
            "\u001b[1m319/319\u001b[0m \u001b[32m━━━━━━━━━━━━━━━━━━━━\u001b[0m\u001b[37m\u001b[0m \u001b[1m7s\u001b[0m 11ms/step - loss: 0.1163 - mae: 0.2191 - val_loss: 0.0858 - val_mae: 0.2333\n",
            "Epoch 2/10\n",
            "\u001b[1m319/319\u001b[0m \u001b[32m━━━━━━━━━━━━━━━━━━━━\u001b[0m\u001b[37m\u001b[0m \u001b[1m1s\u001b[0m 3ms/step - loss: 0.0654 - mae: 0.1584 - val_loss: 0.0866 - val_mae: 0.2148\n",
            "Epoch 3/10\n",
            "\u001b[1m319/319\u001b[0m \u001b[32m━━━━━━━━━━━━━━━━━━━━\u001b[0m\u001b[37m\u001b[0m \u001b[1m1s\u001b[0m 3ms/step - loss: 0.0392 - mae: 0.1077 - val_loss: 0.1092 - val_mae: 0.2227\n",
            "Epoch 4/10\n",
            "\u001b[1m319/319\u001b[0m \u001b[32m━━━━━━━━━━━━━━━━━━━━\u001b[0m\u001b[37m\u001b[0m \u001b[1m1s\u001b[0m 3ms/step - loss: 0.0242 - mae: 0.0778 - val_loss: 0.1092 - val_mae: 0.2182\n",
            "\u001b[1m354/354\u001b[0m \u001b[32m━━━━━━━━━━━━━━━━━━━━\u001b[0m\u001b[37m\u001b[0m \u001b[1m1s\u001b[0m 2ms/step\n",
            "MAE: 0.2348, RMSE: 0.2871\n",
            "Testing: {'embed_dim': 16, 'dense_units': 256, 'dropout_rate': 0.3, 'learning_rate': 0.001}\n",
            "Epoch 1/10\n",
            "\u001b[1m319/319\u001b[0m \u001b[32m━━━━━━━━━━━━━━━━━━━━\u001b[0m\u001b[37m\u001b[0m \u001b[1m10s\u001b[0m 21ms/step - loss: 0.1016 - mae: 0.1961 - val_loss: 0.0838 - val_mae: 0.2246\n",
            "Epoch 2/10\n",
            "\u001b[1m319/319\u001b[0m \u001b[32m━━━━━━━━━━━━━━━━━━━━\u001b[0m\u001b[37m\u001b[0m \u001b[1m1s\u001b[0m 3ms/step - loss: 0.0518 - mae: 0.1318 - val_loss: 0.0945 - val_mae: 0.2160\n",
            "Epoch 3/10\n",
            "\u001b[1m319/319\u001b[0m \u001b[32m━━━━━━━━━━━━━━━━━━━━\u001b[0m\u001b[37m\u001b[0m \u001b[1m1s\u001b[0m 3ms/step - loss: 0.0256 - mae: 0.0801 - val_loss: 0.0934 - val_mae: 0.2036\n",
            "Epoch 4/10\n",
            "\u001b[1m319/319\u001b[0m \u001b[32m━━━━━━━━━━━━━━━━━━━━\u001b[0m\u001b[37m\u001b[0m \u001b[1m1s\u001b[0m 3ms/step - loss: 0.0168 - mae: 0.0586 - val_loss: 0.0932 - val_mae: 0.1974\n",
            "\u001b[1m354/354\u001b[0m \u001b[32m━━━━━━━━━━━━━━━━━━━━\u001b[0m\u001b[37m\u001b[0m \u001b[1m3s\u001b[0m 5ms/step\n",
            "MAE: 0.2259, RMSE: 0.2819\n",
            "Testing: {'embed_dim': 16, 'dense_units': 256, 'dropout_rate': 0.3, 'learning_rate': 0.0005}\n",
            "Epoch 1/10\n",
            "\u001b[1m319/319\u001b[0m \u001b[32m━━━━━━━━━━━━━━━━━━━━\u001b[0m\u001b[37m\u001b[0m \u001b[1m7s\u001b[0m 11ms/step - loss: 0.1110 - mae: 0.2066 - val_loss: 0.0859 - val_mae: 0.2305\n",
            "Epoch 2/10\n",
            "\u001b[1m319/319\u001b[0m \u001b[32m━━━━━━━━━━━━━━━━━━━━\u001b[0m\u001b[37m\u001b[0m \u001b[1m1s\u001b[0m 3ms/step - loss: 0.0592 - mae: 0.1491 - val_loss: 0.0942 - val_mae: 0.2246\n",
            "Epoch 3/10\n",
            "\u001b[1m319/319\u001b[0m \u001b[32m━━━━━━━━━━━━━━━━━━━━\u001b[0m\u001b[37m\u001b[0m \u001b[1m1s\u001b[0m 3ms/step - loss: 0.0321 - mae: 0.0941 - val_loss: 0.1025 - val_mae: 0.2179\n",
            "Epoch 4/10\n",
            "\u001b[1m319/319\u001b[0m \u001b[32m━━━━━━━━━━━━━━━━━━━━\u001b[0m\u001b[37m\u001b[0m \u001b[1m1s\u001b[0m 3ms/step - loss: 0.0188 - mae: 0.0689 - val_loss: 0.0994 - val_mae: 0.2152\n",
            "\u001b[1m354/354\u001b[0m \u001b[32m━━━━━━━━━━━━━━━━━━━━\u001b[0m\u001b[37m\u001b[0m \u001b[1m1s\u001b[0m 2ms/step\n",
            "MAE: 0.2323, RMSE: 0.2858\n",
            "Testing: {'embed_dim': 16, 'dense_units': 256, 'dropout_rate': 0.4, 'learning_rate': 0.001}\n",
            "Epoch 1/10\n",
            "\u001b[1m319/319\u001b[0m \u001b[32m━━━━━━━━━━━━━━━━━━━━\u001b[0m\u001b[37m\u001b[0m \u001b[1m7s\u001b[0m 11ms/step - loss: 0.0977 - mae: 0.1889 - val_loss: 0.0853 - val_mae: 0.2295\n",
            "Epoch 2/10\n",
            "\u001b[1m319/319\u001b[0m \u001b[32m━━━━━━━━━━━━━━━━━━━━\u001b[0m\u001b[37m\u001b[0m \u001b[1m1s\u001b[0m 3ms/step - loss: 0.0573 - mae: 0.1404 - val_loss: 0.0932 - val_mae: 0.2162\n",
            "Epoch 3/10\n",
            "\u001b[1m319/319\u001b[0m \u001b[32m━━━━━━━━━━━━━━━━━━━━\u001b[0m\u001b[37m\u001b[0m \u001b[1m1s\u001b[0m 3ms/step - loss: 0.0294 - mae: 0.0879 - val_loss: 0.0988 - val_mae: 0.2147\n",
            "Epoch 4/10\n",
            "\u001b[1m319/319\u001b[0m \u001b[32m━━━━━━━━━━━━━━━━━━━━\u001b[0m\u001b[37m\u001b[0m \u001b[1m1s\u001b[0m 3ms/step - loss: 0.0193 - mae: 0.0643 - val_loss: 0.0922 - val_mae: 0.1972\n",
            "\u001b[1m354/354\u001b[0m \u001b[32m━━━━━━━━━━━━━━━━━━━━\u001b[0m\u001b[37m\u001b[0m \u001b[1m1s\u001b[0m 2ms/step\n",
            "MAE: 0.2314, RMSE: 0.2849\n",
            "Testing: {'embed_dim': 16, 'dense_units': 256, 'dropout_rate': 0.4, 'learning_rate': 0.0005}\n",
            "Epoch 1/10\n",
            "\u001b[1m319/319\u001b[0m \u001b[32m━━━━━━━━━━━━━━━━━━━━\u001b[0m\u001b[37m\u001b[0m \u001b[1m7s\u001b[0m 11ms/step - loss: 0.1136 - mae: 0.2072 - val_loss: 0.0851 - val_mae: 0.2283\n",
            "Epoch 2/10\n",
            "\u001b[1m319/319\u001b[0m \u001b[32m━━━━━━━━━━━━━━━━━━━━\u001b[0m\u001b[37m\u001b[0m \u001b[1m1s\u001b[0m 3ms/step - loss: 0.0618 - mae: 0.1537 - val_loss: 0.0878 - val_mae: 0.2101\n",
            "Epoch 3/10\n",
            "\u001b[1m319/319\u001b[0m \u001b[32m━━━━━━━━━━━━━━━━━━━━\u001b[0m\u001b[37m\u001b[0m \u001b[1m1s\u001b[0m 3ms/step - loss: 0.0338 - mae: 0.0959 - val_loss: 0.1045 - val_mae: 0.2171\n",
            "Epoch 4/10\n",
            "\u001b[1m319/319\u001b[0m \u001b[32m━━━━━━━━━━━━━━━━━━━━\u001b[0m\u001b[37m\u001b[0m \u001b[1m1s\u001b[0m 3ms/step - loss: 0.0218 - mae: 0.0730 - val_loss: 0.1014 - val_mae: 0.2137\n",
            "\u001b[1m354/354\u001b[0m \u001b[32m━━━━━━━━━━━━━━━━━━━━\u001b[0m\u001b[37m\u001b[0m \u001b[1m1s\u001b[0m 2ms/step\n",
            "MAE: 0.2299, RMSE: 0.2843\n",
            "Testing: {'embed_dim': 32, 'dense_units': 64, 'dropout_rate': 0.3, 'learning_rate': 0.001}\n",
            "Epoch 1/10\n",
            "\u001b[1m319/319\u001b[0m \u001b[32m━━━━━━━━━━━━━━━━━━━━\u001b[0m\u001b[37m\u001b[0m \u001b[1m8s\u001b[0m 12ms/step - loss: 0.1375 - mae: 0.2346 - val_loss: 0.0849 - val_mae: 0.2259\n",
            "Epoch 2/10\n",
            "\u001b[1m319/319\u001b[0m \u001b[32m━━━━━━━━━━━━━━━━━━━━\u001b[0m\u001b[37m\u001b[0m \u001b[1m1s\u001b[0m 3ms/step - loss: 0.0544 - mae: 0.1294 - val_loss: 0.0892 - val_mae: 0.1985\n",
            "Epoch 3/10\n",
            "\u001b[1m319/319\u001b[0m \u001b[32m━━━━━━━━━━━━━━━━━━━━\u001b[0m\u001b[37m\u001b[0m \u001b[1m1s\u001b[0m 3ms/step - loss: 0.0325 - mae: 0.0874 - val_loss: 0.0958 - val_mae: 0.1950\n",
            "Epoch 4/10\n",
            "\u001b[1m319/319\u001b[0m \u001b[32m━━━━━━━━━━━━━━━━━━━━\u001b[0m\u001b[37m\u001b[0m \u001b[1m1s\u001b[0m 3ms/step - loss: 0.0241 - mae: 0.0684 - val_loss: 0.0937 - val_mae: 0.1840\n",
            "\u001b[1m354/354\u001b[0m \u001b[32m━━━━━━━━━━━━━━━━━━━━\u001b[0m\u001b[37m\u001b[0m \u001b[1m1s\u001b[0m 2ms/step\n",
            "MAE: 0.2275, RMSE: 0.2824\n",
            "Testing: {'embed_dim': 32, 'dense_units': 64, 'dropout_rate': 0.3, 'learning_rate': 0.0005}\n",
            "Epoch 1/10\n",
            "\u001b[1m319/319\u001b[0m \u001b[32m━━━━━━━━━━━━━━━━━━━━\u001b[0m\u001b[37m\u001b[0m \u001b[1m7s\u001b[0m 11ms/step - loss: 0.1583 - mae: 0.2479 - val_loss: 0.0837 - val_mae: 0.2225\n",
            "Epoch 2/10\n",
            "\u001b[1m319/319\u001b[0m \u001b[32m━━━━━━━━━━━━━━━━━━━━\u001b[0m\u001b[37m\u001b[0m \u001b[1m1s\u001b[0m 3ms/step - loss: 0.0616 - mae: 0.1430 - val_loss: 0.0852 - val_mae: 0.2047\n",
            "Epoch 3/10\n",
            "\u001b[1m319/319\u001b[0m \u001b[32m━━━━━━━━━━━━━━━━━━━━\u001b[0m\u001b[37m\u001b[0m \u001b[1m1s\u001b[0m 3ms/step - loss: 0.0384 - mae: 0.1010 - val_loss: 0.1048 - val_mae: 0.2131\n",
            "Epoch 4/10\n",
            "\u001b[1m319/319\u001b[0m \u001b[32m━━━━━━━━━━━━━━━━━━━━\u001b[0m\u001b[37m\u001b[0m \u001b[1m1s\u001b[0m 3ms/step - loss: 0.0259 - mae: 0.0766 - val_loss: 0.1008 - val_mae: 0.2039\n",
            "\u001b[1m354/354\u001b[0m \u001b[32m━━━━━━━━━━━━━━━━━━━━\u001b[0m\u001b[37m\u001b[0m \u001b[1m1s\u001b[0m 2ms/step\n",
            "MAE: 0.2235, RMSE: 0.2802\n",
            "Testing: {'embed_dim': 32, 'dense_units': 64, 'dropout_rate': 0.4, 'learning_rate': 0.001}\n",
            "Epoch 1/10\n",
            "\u001b[1m319/319\u001b[0m \u001b[32m━━━━━━━━━━━━━━━━━━━━\u001b[0m\u001b[37m\u001b[0m \u001b[1m8s\u001b[0m 11ms/step - loss: 0.1487 - mae: 0.2554 - val_loss: 0.0830 - val_mae: 0.2206\n",
            "Epoch 2/10\n",
            "\u001b[1m319/319\u001b[0m \u001b[32m━━━━━━━━━━━━━━━━━━━━\u001b[0m\u001b[37m\u001b[0m \u001b[1m1s\u001b[0m 3ms/step - loss: 0.0589 - mae: 0.1343 - val_loss: 0.0898 - val_mae: 0.1954\n",
            "Epoch 3/10\n",
            "\u001b[1m319/319\u001b[0m \u001b[32m━━━━━━━━━━━━━━━━━━━━\u001b[0m\u001b[37m\u001b[0m \u001b[1m1s\u001b[0m 3ms/step - loss: 0.0371 - mae: 0.0929 - val_loss: 0.0987 - val_mae: 0.2000\n",
            "Epoch 4/10\n",
            "\u001b[1m319/319\u001b[0m \u001b[32m━━━━━━━━━━━━━━━━━━━━\u001b[0m\u001b[37m\u001b[0m \u001b[1m1s\u001b[0m 3ms/step - loss: 0.0286 - mae: 0.0760 - val_loss: 0.0929 - val_mae: 0.1774\n",
            "\u001b[1m354/354\u001b[0m \u001b[32m━━━━━━━━━━━━━━━━━━━━\u001b[0m\u001b[37m\u001b[0m \u001b[1m1s\u001b[0m 2ms/step\n",
            "MAE: 0.2212, RMSE: 0.2786\n",
            "Testing: {'embed_dim': 32, 'dense_units': 64, 'dropout_rate': 0.4, 'learning_rate': 0.0005}\n",
            "Epoch 1/10\n",
            "\u001b[1m319/319\u001b[0m \u001b[32m━━━━━━━━━━━━━━━━━━━━\u001b[0m\u001b[37m\u001b[0m \u001b[1m7s\u001b[0m 11ms/step - loss: 0.1518 - mae: 0.2387 - val_loss: 0.0854 - val_mae: 0.2285\n",
            "Epoch 2/10\n",
            "\u001b[1m319/319\u001b[0m \u001b[32m━━━━━━━━━━━━━━━━━━━━\u001b[0m\u001b[37m\u001b[0m \u001b[1m1s\u001b[0m 3ms/step - loss: 0.0673 - mae: 0.1520 - val_loss: 0.0857 - val_mae: 0.2071\n",
            "Epoch 3/10\n",
            "\u001b[1m319/319\u001b[0m \u001b[32m━━━━━━━━━━━━━━━━━━━━\u001b[0m\u001b[37m\u001b[0m \u001b[1m1s\u001b[0m 3ms/step - loss: 0.0432 - mae: 0.1088 - val_loss: 0.1047 - val_mae: 0.2132\n",
            "Epoch 4/10\n",
            "\u001b[1m319/319\u001b[0m \u001b[32m━━━━━━━━━━━━━━━━━━━━\u001b[0m\u001b[37m\u001b[0m \u001b[1m1s\u001b[0m 3ms/step - loss: 0.0307 - mae: 0.0838 - val_loss: 0.1058 - val_mae: 0.2102\n",
            "\u001b[1m354/354\u001b[0m \u001b[32m━━━━━━━━━━━━━━━━━━━━\u001b[0m\u001b[37m\u001b[0m \u001b[1m1s\u001b[0m 2ms/step\n",
            "MAE: 0.2303, RMSE: 0.2840\n",
            "Testing: {'embed_dim': 32, 'dense_units': 128, 'dropout_rate': 0.3, 'learning_rate': 0.001}\n",
            "Epoch 1/10\n",
            "\u001b[1m319/319\u001b[0m \u001b[32m━━━━━━━━━━━━━━━━━━━━\u001b[0m\u001b[37m\u001b[0m \u001b[1m8s\u001b[0m 12ms/step - loss: 0.1341 - mae: 0.2201 - val_loss: 0.0870 - val_mae: 0.2303\n",
            "Epoch 2/10\n",
            "\u001b[1m319/319\u001b[0m \u001b[32m━━━━━━━━━━━━━━━━━━━━\u001b[0m\u001b[37m\u001b[0m \u001b[1m1s\u001b[0m 3ms/step - loss: 0.0528 - mae: 0.1295 - val_loss: 0.0898 - val_mae: 0.2025\n",
            "Epoch 3/10\n",
            "\u001b[1m319/319\u001b[0m \u001b[32m━━━━━━━━━━━━━━━━━━━━\u001b[0m\u001b[37m\u001b[0m \u001b[1m1s\u001b[0m 3ms/step - loss: 0.0302 - mae: 0.0841 - val_loss: 0.0952 - val_mae: 0.2002\n",
            "Epoch 4/10\n",
            "\u001b[1m319/319\u001b[0m \u001b[32m━━━━━━━━━━━━━━━━━━━━\u001b[0m\u001b[37m\u001b[0m \u001b[1m1s\u001b[0m 3ms/step - loss: 0.0209 - mae: 0.0628 - val_loss: 0.0935 - val_mae: 0.1883\n",
            "\u001b[1m354/354\u001b[0m \u001b[32m━━━━━━━━━━━━━━━━━━━━\u001b[0m\u001b[37m\u001b[0m \u001b[1m1s\u001b[0m 2ms/step\n",
            "MAE: 0.2321, RMSE: 0.2855\n",
            "Testing: {'embed_dim': 32, 'dense_units': 128, 'dropout_rate': 0.3, 'learning_rate': 0.0005}\n",
            "Epoch 1/10\n",
            "\u001b[1m319/319\u001b[0m \u001b[32m━━━━━━━━━━━━━━━━━━━━\u001b[0m\u001b[37m\u001b[0m \u001b[1m7s\u001b[0m 11ms/step - loss: 0.1498 - mae: 0.2241 - val_loss: 0.0894 - val_mae: 0.2378\n",
            "Epoch 2/10\n",
            "\u001b[1m319/319\u001b[0m \u001b[32m━━━━━━━━━━━━━━━━━━━━\u001b[0m\u001b[37m\u001b[0m \u001b[1m1s\u001b[0m 3ms/step - loss: 0.0576 - mae: 0.1401 - val_loss: 0.0875 - val_mae: 0.2080\n",
            "Epoch 3/10\n",
            "\u001b[1m319/319\u001b[0m \u001b[32m━━━━━━━━━━━━━━━━━━━━\u001b[0m\u001b[37m\u001b[0m \u001b[1m1s\u001b[0m 3ms/step - loss: 0.0326 - mae: 0.0920 - val_loss: 0.0997 - val_mae: 0.2074\n",
            "Epoch 4/10\n",
            "\u001b[1m319/319\u001b[0m \u001b[32m━━━━━━━━━━━━━━━━━━━━\u001b[0m\u001b[37m\u001b[0m \u001b[1m1s\u001b[0m 3ms/step - loss: 0.0222 - mae: 0.0699 - val_loss: 0.0964 - val_mae: 0.2006\n",
            "Epoch 5/10\n",
            "\u001b[1m319/319\u001b[0m \u001b[32m━━━━━━━━━━━━━━━━━━━━\u001b[0m\u001b[37m\u001b[0m \u001b[1m1s\u001b[0m 3ms/step - loss: 0.0166 - mae: 0.0572 - val_loss: 0.0940 - val_mae: 0.1976\n",
            "\u001b[1m354/354\u001b[0m \u001b[32m━━━━━━━━━━━━━━━━━━━━\u001b[0m\u001b[37m\u001b[0m \u001b[1m1s\u001b[0m 2ms/step\n",
            "MAE: 0.2064, RMSE: 0.2860\n",
            "Testing: {'embed_dim': 32, 'dense_units': 128, 'dropout_rate': 0.4, 'learning_rate': 0.001}\n",
            "Epoch 1/10\n",
            "\u001b[1m319/319\u001b[0m \u001b[32m━━━━━━━━━━━━━━━━━━━━\u001b[0m\u001b[37m\u001b[0m \u001b[1m8s\u001b[0m 11ms/step - loss: 0.1223 - mae: 0.2006 - val_loss: 0.0910 - val_mae: 0.2412\n",
            "Epoch 2/10\n",
            "\u001b[1m319/319\u001b[0m \u001b[32m━━━━━━━━━━━━━━━━━━━━\u001b[0m\u001b[37m\u001b[0m \u001b[1m1s\u001b[0m 3ms/step - loss: 0.0566 - mae: 0.1354 - val_loss: 0.0928 - val_mae: 0.2086\n",
            "Epoch 3/10\n",
            "\u001b[1m319/319\u001b[0m \u001b[32m━━━━━━━━━━━━━━━━━━━━\u001b[0m\u001b[37m\u001b[0m \u001b[1m1s\u001b[0m 3ms/step - loss: 0.0338 - mae: 0.0895 - val_loss: 0.0968 - val_mae: 0.1987\n",
            "Epoch 4/10\n",
            "\u001b[1m319/319\u001b[0m \u001b[32m━━━━━━━━━━━━━━━━━━━━\u001b[0m\u001b[37m\u001b[0m \u001b[1m1s\u001b[0m 3ms/step - loss: 0.0235 - mae: 0.0678 - val_loss: 0.0943 - val_mae: 0.1886\n",
            "\u001b[1m354/354\u001b[0m \u001b[32m━━━━━━━━━━━━━━━━━━━━\u001b[0m\u001b[37m\u001b[0m \u001b[1m1s\u001b[0m 2ms/step\n",
            "MAE: 0.2433, RMSE: 0.2926\n",
            "Testing: {'embed_dim': 32, 'dense_units': 128, 'dropout_rate': 0.4, 'learning_rate': 0.0005}\n",
            "Epoch 1/10\n",
            "\u001b[1m319/319\u001b[0m \u001b[32m━━━━━━━━━━━━━━━━━━━━\u001b[0m\u001b[37m\u001b[0m \u001b[1m8s\u001b[0m 12ms/step - loss: 0.1501 - mae: 0.2264 - val_loss: 0.0867 - val_mae: 0.2306\n",
            "Epoch 2/10\n",
            "\u001b[1m319/319\u001b[0m \u001b[32m━━━━━━━━━━━━━━━━━━━━\u001b[0m\u001b[37m\u001b[0m \u001b[1m1s\u001b[0m 3ms/step - loss: 0.0631 - mae: 0.1472 - val_loss: 0.0880 - val_mae: 0.2090\n",
            "Epoch 3/10\n",
            "\u001b[1m319/319\u001b[0m \u001b[32m━━━━━━━━━━━━━━━━━━━━\u001b[0m\u001b[37m\u001b[0m \u001b[1m1s\u001b[0m 3ms/step - loss: 0.0384 - mae: 0.1009 - val_loss: 0.1070 - val_mae: 0.2137\n",
            "Epoch 4/10\n",
            "\u001b[1m319/319\u001b[0m \u001b[32m━━━━━━━━━━━━━━━━━━━━\u001b[0m\u001b[37m\u001b[0m \u001b[1m1s\u001b[0m 3ms/step - loss: 0.0253 - mae: 0.0751 - val_loss: 0.0992 - val_mae: 0.2033\n",
            "\u001b[1m354/354\u001b[0m \u001b[32m━━━━━━━━━━━━━━━━━━━━\u001b[0m\u001b[37m\u001b[0m \u001b[1m1s\u001b[0m 2ms/step\n",
            "MAE: 0.2324, RMSE: 0.2853\n",
            "Testing: {'embed_dim': 32, 'dense_units': 256, 'dropout_rate': 0.3, 'learning_rate': 0.001}\n",
            "Epoch 1/10\n",
            "\u001b[1m319/319\u001b[0m \u001b[32m━━━━━━━━━━━━━━━━━━━━\u001b[0m\u001b[37m\u001b[0m \u001b[1m8s\u001b[0m 13ms/step - loss: 0.1196 - mae: 0.1884 - val_loss: 0.0875 - val_mae: 0.2298\n",
            "Epoch 2/10\n",
            "\u001b[1m319/319\u001b[0m \u001b[32m━━━━━━━━━━━━━━━━━━━━\u001b[0m\u001b[37m\u001b[0m \u001b[1m1s\u001b[0m 3ms/step - loss: 0.0525 - mae: 0.1282 - val_loss: 0.0884 - val_mae: 0.2018\n",
            "Epoch 3/10\n",
            "\u001b[1m319/319\u001b[0m \u001b[32m━━━━━━━━━━━━━━━━━━━━\u001b[0m\u001b[37m\u001b[0m \u001b[1m1s\u001b[0m 3ms/step - loss: 0.0286 - mae: 0.0801 - val_loss: 0.0917 - val_mae: 0.1948\n",
            "Epoch 4/10\n",
            "\u001b[1m319/319\u001b[0m \u001b[32m━━━━━━━━━━━━━━━━━━━━\u001b[0m\u001b[37m\u001b[0m \u001b[1m1s\u001b[0m 3ms/step - loss: 0.0190 - mae: 0.0571 - val_loss: 0.0912 - val_mae: 0.1834\n",
            "\u001b[1m354/354\u001b[0m \u001b[32m━━━━━━━━━━━━━━━━━━━━\u001b[0m\u001b[37m\u001b[0m \u001b[1m2s\u001b[0m 3ms/step\n",
            "MAE: 0.2317, RMSE: 0.2854\n",
            "Testing: {'embed_dim': 32, 'dense_units': 256, 'dropout_rate': 0.3, 'learning_rate': 0.0005}\n",
            "Epoch 1/10\n",
            "\u001b[1m319/319\u001b[0m \u001b[32m━━━━━━━━━━━━━━━━━━━━\u001b[0m\u001b[37m\u001b[0m \u001b[1m7s\u001b[0m 11ms/step - loss: 0.1439 - mae: 0.2110 - val_loss: 0.0931 - val_mae: 0.2450\n",
            "Epoch 2/10\n",
            "\u001b[1m319/319\u001b[0m \u001b[32m━━━━━━━━━━━━━━━━━━━━\u001b[0m\u001b[37m\u001b[0m \u001b[1m1s\u001b[0m 3ms/step - loss: 0.0600 - mae: 0.1469 - val_loss: 0.0923 - val_mae: 0.2111\n",
            "Epoch 3/10\n",
            "\u001b[1m319/319\u001b[0m \u001b[32m━━━━━━━━━━━━━━━━━━━━\u001b[0m\u001b[37m\u001b[0m \u001b[1m1s\u001b[0m 3ms/step - loss: 0.0311 - mae: 0.0888 - val_loss: 0.1008 - val_mae: 0.2100\n",
            "Epoch 4/10\n",
            "\u001b[1m319/319\u001b[0m \u001b[32m━━━━━━━━━━━━━━━━━━━━\u001b[0m\u001b[37m\u001b[0m \u001b[1m1s\u001b[0m 3ms/step - loss: 0.0201 - mae: 0.0659 - val_loss: 0.0985 - val_mae: 0.2072\n",
            "Epoch 5/10\n",
            "\u001b[1m319/319\u001b[0m \u001b[32m━━━━━━━━━━━━━━━━━━━━\u001b[0m\u001b[37m\u001b[0m \u001b[1m1s\u001b[0m 3ms/step - loss: 0.0144 - mae: 0.0509 - val_loss: 0.0976 - val_mae: 0.2022\n",
            "\u001b[1m354/354\u001b[0m \u001b[32m━━━━━━━━━━━━━━━━━━━━\u001b[0m\u001b[37m\u001b[0m \u001b[1m1s\u001b[0m 2ms/step\n",
            "MAE: 0.2086, RMSE: 0.2904\n",
            "Testing: {'embed_dim': 32, 'dense_units': 256, 'dropout_rate': 0.4, 'learning_rate': 0.001}\n",
            "Epoch 1/10\n",
            "\u001b[1m319/319\u001b[0m \u001b[32m━━━━━━━━━━━━━━━━━━━━\u001b[0m\u001b[37m\u001b[0m \u001b[1m8s\u001b[0m 12ms/step - loss: 0.1262 - mae: 0.1957 - val_loss: 0.0893 - val_mae: 0.2345\n",
            "Epoch 2/10\n",
            "\u001b[1m319/319\u001b[0m \u001b[32m━━━━━━━━━━━━━━━━━━━━\u001b[0m\u001b[37m\u001b[0m \u001b[1m1s\u001b[0m 3ms/step - loss: 0.0556 - mae: 0.1321 - val_loss: 0.0876 - val_mae: 0.1994\n",
            "Epoch 3/10\n",
            "\u001b[1m319/319\u001b[0m \u001b[32m━━━━━━━━━━━━━━━━━━━━\u001b[0m\u001b[37m\u001b[0m \u001b[1m1s\u001b[0m 3ms/step - loss: 0.0316 - mae: 0.0861 - val_loss: 0.0910 - val_mae: 0.1881\n",
            "Epoch 4/10\n",
            "\u001b[1m319/319\u001b[0m \u001b[32m━━━━━━━━━━━━━━━━━━━━\u001b[0m\u001b[37m\u001b[0m \u001b[1m1s\u001b[0m 3ms/step - loss: 0.0219 - mae: 0.0632 - val_loss: 0.0928 - val_mae: 0.1851\n",
            "Epoch 5/10\n",
            "\u001b[1m319/319\u001b[0m \u001b[32m━━━━━━━━━━━━━━━━━━━━\u001b[0m\u001b[37m\u001b[0m \u001b[1m1s\u001b[0m 3ms/step - loss: 0.0168 - mae: 0.0475 - val_loss: 0.0943 - val_mae: 0.1865\n",
            "\u001b[1m354/354\u001b[0m \u001b[32m━━━━━━━━━━━━━━━━━━━━\u001b[0m\u001b[37m\u001b[0m \u001b[1m1s\u001b[0m 2ms/step\n",
            "MAE: 0.1974, RMSE: 0.2806\n",
            "Testing: {'embed_dim': 32, 'dense_units': 256, 'dropout_rate': 0.4, 'learning_rate': 0.0005}\n",
            "Epoch 1/10\n",
            "\u001b[1m319/319\u001b[0m \u001b[32m━━━━━━━━━━━━━━━━━━━━\u001b[0m\u001b[37m\u001b[0m \u001b[1m8s\u001b[0m 12ms/step - loss: 0.1395 - mae: 0.2018 - val_loss: 0.0941 - val_mae: 0.2479\n",
            "Epoch 2/10\n",
            "\u001b[1m319/319\u001b[0m \u001b[32m━━━━━━━━━━━━━━━━━━━━\u001b[0m\u001b[37m\u001b[0m \u001b[1m1s\u001b[0m 3ms/step - loss: 0.0610 - mae: 0.1489 - val_loss: 0.0961 - val_mae: 0.2220\n",
            "Epoch 3/10\n",
            "\u001b[1m319/319\u001b[0m \u001b[32m━━━━━━━━━━━━━━━━━━━━\u001b[0m\u001b[37m\u001b[0m \u001b[1m1s\u001b[0m 3ms/step - loss: 0.0336 - mae: 0.0921 - val_loss: 0.1059 - val_mae: 0.2194\n",
            "Epoch 4/10\n",
            "\u001b[1m319/319\u001b[0m \u001b[32m━━━━━━━━━━━━━━━━━━━━\u001b[0m\u001b[37m\u001b[0m \u001b[1m1s\u001b[0m 3ms/step - loss: 0.0221 - mae: 0.0701 - val_loss: 0.0965 - val_mae: 0.2042\n",
            "\u001b[1m354/354\u001b[0m \u001b[32m━━━━━━━━━━━━━━━━━━━━\u001b[0m\u001b[37m\u001b[0m \u001b[1m1s\u001b[0m 2ms/step\n",
            "MAE: 0.2503, RMSE: 0.2970\n"
          ]
        }
      ],
      "source": [
        "results, best_params = find_best_hyperparams(\n",
        "    model_function=build_ncf,\n",
        "    X=[user_ids, recipe_ids],\n",
        "    y=ratings,\n",
        "    param_grid=param_grid,\n",
        "    base_kwargs=base_kwargs\n",
        ")"
      ]
    },
    {
      "cell_type": "code",
      "execution_count": 25,
      "metadata": {
        "colab": {
          "base_uri": "https://localhost:8080/"
        },
        "id": "BkUh5N3oXzF-",
        "outputId": "c6efd5a8-0d62-4c8b-8e47-c5f34cac4360"
      },
      "outputs": [
        {
          "name": "stdout",
          "output_type": "stream",
          "text": [
            "Best learning rate: 0.001\n",
            "Best dropout: 0.4\n",
            "Best embed_dim: 16.0\n",
            "Best dense_units: 64.0\n"
          ]
        }
      ],
      "source": [
        "print(\"Best learning rate:\", best_params['learning_rate'])\n",
        "print(\"Best dropout:\", best_params['dropout_rate'])\n",
        "print(\"Best embed_dim:\", best_params['embed_dim'])\n",
        "print(\"Best dense_units:\", best_params['dense_units'])"
      ]
    },
    {
      "cell_type": "markdown",
      "metadata": {
        "id": "DFy8owjAXzF_"
      },
      "source": [
        "### Train and evaluate"
      ]
    },
    {
      "cell_type": "code",
      "execution_count": 26,
      "metadata": {
        "id": "2aLW2LcWXzF_"
      },
      "outputs": [],
      "source": [
        "best_params = best_params.drop('val_loss').to_dict()\n",
        "best_params[\"embed_dim\"] = int(best_params[\"embed_dim\"])\n",
        "best_params[\"dense_units\"] = int(best_params[\"dense_units\"])"
      ]
    },
    {
      "cell_type": "code",
      "execution_count": 27,
      "metadata": {
        "colab": {
          "base_uri": "https://localhost:8080/"
        },
        "id": "xltNn9e4XzF_",
        "outputId": "434445cd-c192-4c58-e61e-6bd237ca0dfe"
      },
      "outputs": [
        {
          "name": "stdout",
          "output_type": "stream",
          "text": [
            "Epoch 1/10\n",
            "\u001b[1m6370/6370\u001b[0m \u001b[32m━━━━━━━━━━━━━━━━━━━━\u001b[0m\u001b[37m\u001b[0m \u001b[1m22s\u001b[0m 3ms/step - loss: 0.0820 - mae: 0.1814 - val_loss: 0.0756 - val_mae: 0.1694\n",
            "Epoch 2/10\n",
            "\u001b[1m6370/6370\u001b[0m \u001b[32m━━━━━━━━━━━━━━━━━━━━\u001b[0m\u001b[37m\u001b[0m \u001b[1m15s\u001b[0m 2ms/step - loss: 0.0695 - mae: 0.1588 - val_loss: 0.0753 - val_mae: 0.1675\n",
            "Epoch 3/10\n",
            "\u001b[1m6370/6370\u001b[0m \u001b[32m━━━━━━━━━━━━━━━━━━━━\u001b[0m\u001b[37m\u001b[0m \u001b[1m15s\u001b[0m 2ms/step - loss: 0.0583 - mae: 0.1405 - val_loss: 0.0785 - val_mae: 0.1708\n",
            "Epoch 4/10\n",
            "\u001b[1m6370/6370\u001b[0m \u001b[32m━━━━━━━━━━━━━━━━━━━━\u001b[0m\u001b[37m\u001b[0m \u001b[1m15s\u001b[0m 2ms/step - loss: 0.0626 - mae: 0.1471 - val_loss: 0.0767 - val_mae: 0.1715\n",
            "Epoch 5/10\n",
            "\u001b[1m6370/6370\u001b[0m \u001b[32m━━━━━━━━━━━━━━━━━━━━\u001b[0m\u001b[37m\u001b[0m \u001b[1m15s\u001b[0m 2ms/step - loss: 0.0580 - mae: 0.1402 - val_loss: 0.0780 - val_mae: 0.1686\n",
            "\u001b[1m7078/7078\u001b[0m \u001b[32m━━━━━━━━━━━━━━━━━━━━\u001b[0m\u001b[37m\u001b[0m \u001b[1m10s\u001b[0m 1ms/step\n",
            "MAE: 0.1669, RMSE: 0.2566\n"
          ]
        }
      ],
      "source": [
        "best_model_ncf = build_ncf(\n",
        "    **base_kwargs,\n",
        "    **best_params\n",
        ")\n",
        "\n",
        "# Full train/test split on all data\n",
        "X = [user_ids, recipe_ids]\n",
        "X_train, X_test, y_train, y_test = split_inputs(X, ratings)\n",
        "\n",
        "best_model_ncf, history_ncf = train_and_evaluate(best_model_ncf, X_train, y_train, X_test, y_test)"
      ]
    },
    {
      "cell_type": "markdown",
      "metadata": {
        "id": "764hhDSqXzGJ"
      },
      "source": [
        "### Plotting results"
      ]
    },
    {
      "cell_type": "code",
      "execution_count": 28,
      "metadata": {
        "colab": {
          "base_uri": "https://localhost:8080/",
          "height": 472
        },
        "id": "WXRQPtzsXzGJ",
        "outputId": "1f0114e2-0bb9-4829-a03f-af313e30f98e"
      },
      "outputs": [
        {
          "data": {
            "image/png": "[encoded data removed]",
            "text/plain": [
              "<Figure size 640x480 with 1 Axes>"
            ]
          },
          "metadata": {},
          "output_type": "display_data"
        }
      ],
      "source": [
        "plot_training(history_ncf)"
      ]
    },
    {
      "cell_type": "markdown",
      "metadata": {
        "id": "MfNKEM0kXzGJ"
      },
      "source": [
        "## Model 3. Hybrid Collaborative Filtering + Content Base"
      ]
    },
    {
      "cell_type": "markdown",
      "metadata": {
        "id": "nn0_2LBcXzGJ"
      },
      "source": [
        "Remove columns that are non-numeric and heavy in text that are not suitable for neural models. Get features vectors for recipe and interactions"
      ]
    },
    {
      "cell_type": "code",
      "execution_count": 29,
      "metadata": {
        "colab": {
          "base_uri": "https://localhost:8080/"
        },
        "id": "9dhQO9hQXzGJ",
        "outputId": "c37e25ec-3762-40da-d427-f5db69f777d3"
      },
      "outputs": [
        {
          "name": "stdout",
          "output_type": "stream",
          "text": [
            "['minutes', 'n_steps', 'n_ingredients', 'calories', 'total_fat_pdv', 'sugar_pdv', 'sodium_pdv', 'protein_pdv', 'saturated_fat_pdv', 'carbs_pdv', 'total_fat_pdv_norm', 'sugar_pdv_norm', 'sodium_pdv_norm', 'protein_pdv_norm', 'saturated_fat_pdv_norm', 'carbs_pdv_norm', 'minutes_normalized', 'n_steps_norm', 'year', 'month', 'weekday', 'complexity', 'n_ingredients_norm', 'vegan', 'vegetarian', 'pescatarian', 'flexitarian', 'raw', 'paleo', 'keto', 'mediterranean', 'macrobiotic', 'zone_diet', 'carnivore_diet', 'alkaline_diet', 'whole30', 'dash_diet', 'low_carb', 'high_protein', 'low_fat', 'fat_free', 'clean_eating', 'plant_based', 'diabetic_friendly', 'heart_healthy', 'renal_diet', 'anti_inflammatory', 'low_fodmap', 'cholesterol_free', 'low_sodium', 'salt_free', 'weight_watchers', 'pcos_friendly', 'gallbladder_friendly', 'thyroid_friendly', 'gluten_free', 'wheat_free', 'nut_free', 'peanut_free', 'dairy_free', 'lactose_free', 'soy_free', 'egg_free', 'sesame_free', 'corn_free', 'shellfish_free', 'seafood_free', 'sulfite_free', 'kosher', 'halal', 'jain', 'lacto_vegetarian', 'ovo_vegetarian', 'sugar_free', 'low_sugar']\n"
          ]
        }
      ],
      "source": [
        "non_numeric = extended_recipes.select_dtypes(include=['object', 'category']).columns\n",
        "manual_exclude = ['id', 'submitted', 'contributor_id', 'recipe_idx']\n",
        "\n",
        "columns_to_exclude = set(non_numeric).union(set(manual_exclude))\n",
        "recipe_feature_columns = [ col for col in extended_recipes.select_dtypes(include=[np.number]).columns if col not in columns_to_exclude ]\n",
        "\n",
        "#These are the recipe selected features to use later\n",
        "recipes_selected_features = extended_recipes[recipe_feature_columns].values\n",
        "print(recipe_feature_columns)"
      ]
    },
    {
      "cell_type": "markdown",
      "metadata": {
        "id": "L7XxPdy3XzGJ"
      },
      "source": [
        "Normalize features ...just in case"
      ]
    },
    {
      "cell_type": "code",
      "execution_count": 30,
      "metadata": {
        "id": "ETgiRzZBXzGK"
      },
      "outputs": [],
      "source": [
        "scaler = MinMaxScaler()\n",
        "recipes_selected_features = scaler.fit_transform(recipes_selected_features)"
      ]
    },
    {
      "cell_type": "markdown",
      "metadata": {
        "id": "qgyYeUMAXzGK"
      },
      "source": [
        "Let's create a user behavior based on their reviews in recipes"
      ]
    },
    {
      "cell_type": "code",
      "execution_count": 31,
      "metadata": {
        "colab": {
          "base_uri": "https://localhost:8080/"
        },
        "id": "AaiMJlYgXzGK",
        "outputId": "8f623221-2e2b-4fc8-bf50-1c80691e8f56"
      },
      "outputs": [
        {
          "name": "stdout",
          "output_type": "stream",
          "text": [
            "<class 'pandas.core.frame.DataFrame'>\n",
            "RangeIndex: 226569 entries, 0 to 226568\n",
            "Data columns (total 6 columns):\n",
            " #   Column             Non-Null Count   Dtype  \n",
            "---  ------             --------------   -----  \n",
            " 0   user_idx           226569 non-null  int64  \n",
            " 1   interaction_count  226569 non-null  int64  \n",
            " 2   user_avg_rating    226569 non-null  float64\n",
            " 3   review_length      226569 non-null  float64\n",
            " 4   polarity           226569 non-null  float64\n",
            " 5   subjectivity       226569 non-null  float64\n",
            "dtypes: float64(4), int64(2)\n",
            "memory usage: 10.4 MB\n"
          ]
        }
      ],
      "source": [
        "user_behavior = extended_interactions.groupby('user_idx').agg({\n",
        "    'rating_scaled': ['count', 'mean'],\n",
        "    'review_length': 'mean',\n",
        "    'polarity': 'mean',\n",
        "    'subjectivity': 'mean'\n",
        "})\n",
        "\n",
        "user_behavior.columns = ['interaction_count', 'user_avg_rating', 'review_length', 'polarity', 'subjectivity']\n",
        "user_behavior = user_behavior.reset_index()\n",
        "user_behavior.info()"
      ]
    },
    {
      "cell_type": "markdown",
      "metadata": {
        "id": "eLh-HzWnXzGK"
      },
      "source": [
        "To build user profiles, I used the tags from the recipes they interacted with. If a recipe included a dietary tag from recipe_tag_columns, it was marked as 1, otherwise 0. So, each user profile reflects the types of recipes they tend to interact with."
      ]
    },
    {
      "cell_type": "code",
      "execution_count": 32,
      "metadata": {
        "id": "6zkS7P3pXzGK"
      },
      "outputs": [],
      "source": [
        "recipe_tag_columns = [\n",
        "    'vegan', 'vegetarian', 'pescatarian', 'flexitarian', 'raw',\n",
        "    'paleo', 'keto', 'mediterranean', 'macrobiotic', 'zone_diet',\n",
        "    'carnivore_diet', 'alkaline_diet', 'whole30', 'dash_diet',\n",
        "    'low_carb', 'high_protein', 'low_fat', 'fat_free', 'clean_eating',\n",
        "    'plant_based', 'diabetic_friendly', 'heart_healthy', 'renal_diet',\n",
        "    'anti_inflammatory', 'low_fodmap', 'cholesterol_free', 'low_sodium',\n",
        "    'salt_free', 'weight_watchers', 'pcos_friendly', 'gallbladder_friendly',\n",
        "    'thyroid_friendly', 'gluten_free', 'wheat_free', 'nut_free', 'peanut_free',\n",
        "    'dairy_free', 'lactose_free', 'soy_free', 'egg_free', 'sesame_free',\n",
        "    'corn_free', 'shellfish_free', 'seafood_free', 'sulfite_free',\n",
        "    'kosher', 'halal', 'jain', 'lacto_vegetarian', 'ovo_vegetarian',\n",
        "    'sugar_free', 'low_sugar'\n",
        "]\n",
        "\n",
        "user_preferences_list = []\n",
        "\n",
        "for tag in recipe_tag_columns:\n",
        "    user_pref = (\n",
        "        extended_interactions\n",
        "        .merge(extended_recipes[['recipe_idx', tag]], on='recipe_idx')\n",
        "        .groupby('user_idx')[tag]\n",
        "        .mean()\n",
        "        .reset_index()\n",
        "        .rename(columns={tag: f'{tag}_preference'})\n",
        "    )\n",
        "\n",
        "    user_preferences_list.append(user_pref)"
      ]
    },
    {
      "cell_type": "code",
      "execution_count": 33,
      "metadata": {
        "id": "_HwL4-_-XzGK"
      },
      "outputs": [],
      "source": [
        "user_preferences_df = reduce(lambda left, right: pd.merge(left, right, on='user_idx', how='outer'), user_preferences_list)\n",
        "user_preferences_df.fillna(0, inplace=True)"
      ]
    },
    {
      "cell_type": "code",
      "execution_count": 34,
      "metadata": {
        "id": "l9-oQRAQXzGL"
      },
      "outputs": [],
      "source": [
        "user_profiles = (user_behavior.merge(user_preferences_df, on='user_idx', how='left'))\n",
        "user_profiles.fillna(0, inplace=True)"
      ]
    },
    {
      "cell_type": "code",
      "execution_count": 35,
      "metadata": {
        "colab": {
          "base_uri": "https://localhost:8080/"
        },
        "collapsed": true,
        "id": "2mfp74qeXzGL",
        "outputId": "ab69229d-153f-4af0-b0d3-0a578d362f27"
      },
      "outputs": [
        {
          "name": "stdout",
          "output_type": "stream",
          "text": [
            "<class 'pandas.core.frame.DataFrame'>\n",
            "RangeIndex: 226569 entries, 0 to 226568\n",
            "Data columns (total 58 columns):\n",
            " #   Column                           Non-Null Count   Dtype  \n",
            "---  ------                           --------------   -----  \n",
            " 0   user_idx                         226569 non-null  int64  \n",
            " 1   interaction_count                226569 non-null  int64  \n",
            " 2   user_avg_rating                  226569 non-null  float64\n",
            " 3   review_length                    226569 non-null  float64\n",
            " 4   polarity                         226569 non-null  float64\n",
            " 5   subjectivity                     226569 non-null  float64\n",
            " 6   vegan_preference                 226569 non-null  float64\n",
            " 7   vegetarian_preference            226569 non-null  float64\n",
            " 8   pescatarian_preference           226569 non-null  float64\n",
            " 9   flexitarian_preference           226569 non-null  float64\n",
            " 10  raw_preference                   226569 non-null  float64\n",
            " 11  paleo_preference                 226569 non-null  float64\n",
            " 12  keto_preference                  226569 non-null  float64\n",
            " 13  mediterranean_preference         226569 non-null  float64\n",
            " 14  macrobiotic_preference           226569 non-null  float64\n",
            " 15  zone_diet_preference             226569 non-null  float64\n",
            " 16  carnivore_diet_preference        226569 non-null  float64\n",
            " 17  alkaline_diet_preference         226569 non-null  float64\n",
            " 18  whole30_preference               226569 non-null  float64\n",
            " 19  dash_diet_preference             226569 non-null  float64\n",
            " 20  low_carb_preference              226569 non-null  float64\n",
            " 21  high_protein_preference          226569 non-null  float64\n",
            " 22  low_fat_preference               226569 non-null  float64\n",
            " 23  fat_free_preference              226569 non-null  float64\n",
            " 24  clean_eating_preference          226569 non-null  float64\n",
            " 25  plant_based_preference           226569 non-null  float64\n",
            " 26  diabetic_friendly_preference     226569 non-null  float64\n",
            " 27  heart_healthy_preference         226569 non-null  float64\n",
            " 28  renal_diet_preference            226569 non-null  float64\n",
            " 29  anti_inflammatory_preference     226569 non-null  float64\n",
            " 30  low_fodmap_preference            226569 non-null  float64\n",
            " 31  cholesterol_free_preference      226569 non-null  float64\n",
            " 32  low_sodium_preference            226569 non-null  float64\n",
            " 33  salt_free_preference             226569 non-null  float64\n",
            " 34  weight_watchers_preference       226569 non-null  float64\n",
            " 35  pcos_friendly_preference         226569 non-null  float64\n",
            " 36  gallbladder_friendly_preference  226569 non-null  float64\n",
            " 37  thyroid_friendly_preference      226569 non-null  float64\n",
            " 38  gluten_free_preference           226569 non-null  float64\n",
            " 39  wheat_free_preference            226569 non-null  float64\n",
            " 40  nut_free_preference              226569 non-null  float64\n",
            " 41  peanut_free_preference           226569 non-null  float64\n",
            " 42  dairy_free_preference            226569 non-null  float64\n",
            " 43  lactose_free_preference          226569 non-null  float64\n",
            " 44  soy_free_preference              226569 non-null  float64\n",
            " 45  egg_free_preference              226569 non-null  float64\n",
            " 46  sesame_free_preference           226569 non-null  float64\n",
            " 47  corn_free_preference             226569 non-null  float64\n",
            " 48  shellfish_free_preference        226569 non-null  float64\n",
            " 49  seafood_free_preference          226569 non-null  float64\n",
            " 50  sulfite_free_preference          226569 non-null  float64\n",
            " 51  kosher_preference                226569 non-null  float64\n",
            " 52  halal_preference                 226569 non-null  float64\n",
            " 53  jain_preference                  226569 non-null  float64\n",
            " 54  lacto_vegetarian_preference      226569 non-null  float64\n",
            " 55  ovo_vegetarian_preference        226569 non-null  float64\n",
            " 56  sugar_free_preference            226569 non-null  float64\n",
            " 57  low_sugar_preference             226569 non-null  float64\n",
            "dtypes: float64(56), int64(2)\n",
            "memory usage: 100.3 MB\n"
          ]
        }
      ],
      "source": [
        "user_profiles.info()"
      ]
    },
    {
      "cell_type": "code",
      "execution_count": 36,
      "metadata": {
        "id": "FD7mjaYAXzGL"
      },
      "outputs": [],
      "source": [
        "user_features_columns = [col for col in user_profiles.columns if col != 'user_idx']\n",
        "users_selected_features = user_profiles[user_features_columns].values"
      ]
    },
    {
      "cell_type": "code",
      "execution_count": 37,
      "metadata": {
        "id": "EHjDo3eZXzGL"
      },
      "outputs": [],
      "source": [
        "user_features = users_selected_features[user_ids]\n",
        "recipe_features = recipes_selected_features[recipe_ids]"
      ]
    },
    {
      "cell_type": "code",
      "execution_count": 38,
      "metadata": {
        "id": "81GSnTXsXzGL"
      },
      "outputs": [],
      "source": [
        "def build_hybrid_ncf_model(num_users, num_recipes, num_user_features, num_recipe_features, embed_dim, dense_units, dropout_rate, learning_rate, l2_reg=1e-5):\n",
        "    # === Optimizer ===\n",
        "    optimizer = tf.keras.optimizers.Adam(learning_rate=learning_rate)\n",
        "    # ===Embedding Regulizer ===\n",
        "    regularizer=tf.keras.regularizers.l2(l2_reg)\n",
        "\n",
        "    # === Inputs ===\n",
        "    user_id_input = Input(shape=(1,), name='user_id_input')\n",
        "    recipe_id_input = Input(shape=(1,), name='recipe_id_input')\n",
        "    user_features_input = Input(shape=(num_user_features,), name='user_features_input')\n",
        "    recipe_features_input = Input(shape=(num_recipe_features,), name='recipe_features_input')\n",
        "    # === Embeddings ===\n",
        "    user_embedding = Embedding(input_dim=num_users, output_dim=embed_dim,\n",
        "                               embeddings_regularizer=regularizer)(user_id_input)\n",
        "    recipe_embedding = Embedding(input_dim=num_recipes, output_dim=embed_dim,\n",
        "                                 embeddings_regularizer=regularizer)(recipe_id_input)\n",
        "    # === Flatten embeddings ===\n",
        "    user_vec = Flatten()(user_embedding)\n",
        "    recipe_vec = Flatten()(recipe_embedding)\n",
        "    # === Concatenate embeddings and features ===\n",
        "    x = Concatenate()([user_vec, recipe_vec, user_features_input, recipe_features_input])\n",
        "    x = BatchNormalization()(x)\n",
        "    # === Dense layers ===\n",
        "    x = Dense(dense_units, activation='relu',  kernel_regularizer=regularizer)(x)\n",
        "    x = Dropout(dropout_rate)(x)\n",
        "    x = Dense(dense_units//2, activation='relu')(x)\n",
        "    x = Dropout(dropout_rate)(x)\n",
        "    x = Dense(dense_units//4, activation='relu',  kernel_regularizer=regularizer)(x)\n",
        "    # === Output ===\n",
        "    output = Dense(1, activation='sigmoid')(x)  # For scaled ratings between 0-1\n",
        "\n",
        "    # === Build and compile model ===\n",
        "    model = Model(inputs=[user_id_input, recipe_id_input, user_features_input, recipe_features_input], outputs=output)\n",
        "    model.compile(optimizer=optimizer, loss='mse', metrics=['mae'])\n",
        "    return model"
      ]
    },
    {
      "cell_type": "markdown",
      "metadata": {
        "id": "brTUQF7LXzGL"
      },
      "source": [
        "### Finding best parameters"
      ]
    },
    {
      "cell_type": "code",
      "execution_count": 39,
      "metadata": {
        "id": "jv5IcmnLXzGM"
      },
      "outputs": [],
      "source": [
        "hybrid_base_kwargs = {\n",
        "    'num_users': num_users,\n",
        "    'num_recipes': num_recipes,\n",
        "    'num_user_features': user_features.shape[1],\n",
        "    'num_recipe_features': recipe_features.shape[1]\n",
        "}"
      ]
    },
    {
      "cell_type": "code",
      "execution_count": 40,
      "metadata": {
        "id": "Dzd5TbxCcXky"
      },
      "outputs": [],
      "source": [
        "hybrid_param_grid = {\n",
        "    'embed_dim': [16, 32],\n",
        "    'dense_units': [128, 256],\n",
        "    'dropout_rate': [0.2, 0.3 , 0.4],\n",
        "    'learning_rate': [0.001, 0.0005]\n",
        "}"
      ]
    },
    {
      "cell_type": "code",
      "execution_count": 41,
      "metadata": {
        "colab": {
          "base_uri": "https://localhost:8080/"
        },
        "collapsed": true,
        "id": "n2A1UcfyXzGM",
        "outputId": "94601a7c-73c7-4c98-e65b-9c28ff26180a"
      },
      "outputs": [
        {
          "name": "stdout",
          "output_type": "stream",
          "text": [
            "Testing: {'embed_dim': 16, 'dense_units': 128, 'dropout_rate': 0.2, 'learning_rate': 0.001}\n",
            "Epoch 1/10\n",
            "\u001b[1m319/319\u001b[0m \u001b[32m━━━━━━━━━━━━━━━━━━━━\u001b[0m\u001b[37m\u001b[0m \u001b[1m8s\u001b[0m 13ms/step - loss: 0.0895 - mae: 0.1746 - val_loss: 0.0410 - val_mae: 0.1239\n",
            "Epoch 2/10\n",
            "\u001b[1m319/319\u001b[0m \u001b[32m━━━━━━━━━━━━━━━━━━━━\u001b[0m\u001b[37m\u001b[0m \u001b[1m1s\u001b[0m 3ms/step - loss: 0.0318 - mae: 0.0986 - val_loss: 0.0415 - val_mae: 0.1122\n",
            "Epoch 3/10\n",
            "\u001b[1m319/319\u001b[0m \u001b[32m━━━━━━━━━━━━━━━━━━━━\u001b[0m\u001b[37m\u001b[0m \u001b[1m1s\u001b[0m 3ms/step - loss: 0.0206 - mae: 0.0668 - val_loss: 0.0456 - val_mae: 0.1101\n",
            "Epoch 4/10\n",
            "\u001b[1m319/319\u001b[0m \u001b[32m━━━━━━━━━━━━━━━━━━━━\u001b[0m\u001b[37m\u001b[0m \u001b[1m1s\u001b[0m 3ms/step - loss: 0.0142 - mae: 0.0520 - val_loss: 0.0467 - val_mae: 0.1129\n",
            "\u001b[1m354/354\u001b[0m \u001b[32m━━━━━━━━━━━━━━━━━━━━\u001b[0m\u001b[37m\u001b[0m \u001b[1m1s\u001b[0m 3ms/step\n",
            "MAE: 0.1236, RMSE: 0.1947\n",
            "Testing: {'embed_dim': 16, 'dense_units': 128, 'dropout_rate': 0.2, 'learning_rate': 0.0005}\n",
            "Epoch 1/10\n",
            "\u001b[1m319/319\u001b[0m \u001b[32m━━━━━━━━━━━━━━━━━━━━\u001b[0m\u001b[37m\u001b[0m \u001b[1m8s\u001b[0m 12ms/step - loss: 0.1035 - mae: 0.1950 - val_loss: 0.0415 - val_mae: 0.1292\n",
            "Epoch 2/10\n",
            "\u001b[1m319/319\u001b[0m \u001b[32m━━━━━━━━━━━━━━━━━━━━\u001b[0m\u001b[37m\u001b[0m \u001b[1m1s\u001b[0m 3ms/step - loss: 0.0379 - mae: 0.1147 - val_loss: 0.0410 - val_mae: 0.1180\n",
            "Epoch 3/10\n",
            "\u001b[1m319/319\u001b[0m \u001b[32m━━━━━━━━━━━━━━━━━━━━\u001b[0m\u001b[37m\u001b[0m \u001b[1m1s\u001b[0m 3ms/step - loss: 0.0251 - mae: 0.0837 - val_loss: 0.0453 - val_mae: 0.1178\n",
            "Epoch 4/10\n",
            "\u001b[1m319/319\u001b[0m \u001b[32m━━━━━━━━━━━━━━━━━━━━\u001b[0m\u001b[37m\u001b[0m \u001b[1m1s\u001b[0m 3ms/step - loss: 0.0167 - mae: 0.0617 - val_loss: 0.0462 - val_mae: 0.1155\n",
            "Epoch 5/10\n",
            "\u001b[1m319/319\u001b[0m \u001b[32m━━━━━━━━━━━━━━━━━━━━\u001b[0m\u001b[37m\u001b[0m \u001b[1m1s\u001b[0m 3ms/step - loss: 0.0126 - mae: 0.0510 - val_loss: 0.0469 - val_mae: 0.1167\n",
            "\u001b[1m354/354\u001b[0m \u001b[32m━━━━━━━━━━━━━━━━━━━━\u001b[0m\u001b[37m\u001b[0m \u001b[1m1s\u001b[0m 3ms/step\n",
            "MAE: 0.1173, RMSE: 0.1934\n",
            "Testing: {'embed_dim': 16, 'dense_units': 128, 'dropout_rate': 0.3, 'learning_rate': 0.001}\n",
            "Epoch 1/10\n",
            "\u001b[1m319/319\u001b[0m \u001b[32m━━━━━━━━━━━━━━━━━━━━\u001b[0m\u001b[37m\u001b[0m \u001b[1m8s\u001b[0m 12ms/step - loss: 0.1010 - mae: 0.1964 - val_loss: 0.0410 - val_mae: 0.1203\n",
            "Epoch 2/10\n",
            "\u001b[1m319/319\u001b[0m \u001b[32m━━━━━━━━━━━━━━━━━━━━\u001b[0m\u001b[37m\u001b[0m \u001b[1m1s\u001b[0m 3ms/step - loss: 0.0352 - mae: 0.1051 - val_loss: 0.0422 - val_mae: 0.1126\n",
            "Epoch 3/10\n",
            "\u001b[1m319/319\u001b[0m \u001b[32m━━━━━━━━━━━━━━━━━━━━\u001b[0m\u001b[37m\u001b[0m \u001b[1m1s\u001b[0m 3ms/step - loss: 0.0230 - mae: 0.0709 - val_loss: 0.0465 - val_mae: 0.1144\n",
            "Epoch 4/10\n",
            "\u001b[1m319/319\u001b[0m \u001b[32m━━━━━━━━━━━━━━━━━━━━\u001b[0m\u001b[37m\u001b[0m \u001b[1m1s\u001b[0m 3ms/step - loss: 0.0159 - mae: 0.0544 - val_loss: 0.0482 - val_mae: 0.1143\n",
            "\u001b[1m354/354\u001b[0m \u001b[32m━━━━━━━━━━━━━━━━━━━━\u001b[0m\u001b[37m\u001b[0m \u001b[1m1s\u001b[0m 3ms/step\n",
            "MAE: 0.1195, RMSE: 0.1937\n",
            "Testing: {'embed_dim': 16, 'dense_units': 128, 'dropout_rate': 0.3, 'learning_rate': 0.0005}\n",
            "Epoch 1/10\n",
            "\u001b[1m319/319\u001b[0m \u001b[32m━━━━━━━━━━━━━━━━━━━━\u001b[0m\u001b[37m\u001b[0m \u001b[1m8s\u001b[0m 12ms/step - loss: 0.1258 - mae: 0.2316 - val_loss: 0.0425 - val_mae: 0.1208\n",
            "Epoch 2/10\n",
            "\u001b[1m319/319\u001b[0m \u001b[32m━━━━━━━━━━━━━━━━━━━━\u001b[0m\u001b[37m\u001b[0m \u001b[1m1s\u001b[0m 3ms/step - loss: 0.0387 - mae: 0.1141 - val_loss: 0.0410 - val_mae: 0.1146\n",
            "Epoch 3/10\n",
            "\u001b[1m319/319\u001b[0m \u001b[32m━━━━━━━━━━━━━━━━━━━━\u001b[0m\u001b[37m\u001b[0m \u001b[1m1s\u001b[0m 3ms/step - loss: 0.0263 - mae: 0.0848 - val_loss: 0.0439 - val_mae: 0.1120\n",
            "Epoch 4/10\n",
            "\u001b[1m319/319\u001b[0m \u001b[32m━━━━━━━━━━━━━━━━━━━━\u001b[0m\u001b[37m\u001b[0m \u001b[1m1s\u001b[0m 3ms/step - loss: 0.0182 - mae: 0.0646 - val_loss: 0.0451 - val_mae: 0.1125\n",
            "Epoch 5/10\n",
            "\u001b[1m319/319\u001b[0m \u001b[32m━━━━━━━━━━━━━━━━━━━━\u001b[0m\u001b[37m\u001b[0m \u001b[1m1s\u001b[0m 3ms/step - loss: 0.0141 - mae: 0.0544 - val_loss: 0.0471 - val_mae: 0.1157\n",
            "\u001b[1m354/354\u001b[0m \u001b[32m━━━━━━━━━━━━━━━━━━━━\u001b[0m\u001b[37m\u001b[0m \u001b[1m1s\u001b[0m 3ms/step\n",
            "MAE: 0.1136, RMSE: 0.1931\n",
            "Testing: {'embed_dim': 16, 'dense_units': 128, 'dropout_rate': 0.4, 'learning_rate': 0.001}\n",
            "Epoch 1/10\n",
            "\u001b[1m319/319\u001b[0m \u001b[32m━━━━━━━━━━━━━━━━━━━━\u001b[0m\u001b[37m\u001b[0m \u001b[1m8s\u001b[0m 12ms/step - loss: 0.1127 - mae: 0.2133 - val_loss: 0.0420 - val_mae: 0.1205\n",
            "Epoch 2/10\n",
            "\u001b[1m319/319\u001b[0m \u001b[32m━━━━━━━━━━━━━━━━━━━━\u001b[0m\u001b[37m\u001b[0m \u001b[1m1s\u001b[0m 3ms/step - loss: 0.0384 - mae: 0.1113 - val_loss: 0.0423 - val_mae: 0.1117\n",
            "Epoch 3/10\n",
            "\u001b[1m319/319\u001b[0m \u001b[32m━━━━━━━━━━━━━━━━━━━━\u001b[0m\u001b[37m\u001b[0m \u001b[1m1s\u001b[0m 3ms/step - loss: 0.0239 - mae: 0.0756 - val_loss: 0.0469 - val_mae: 0.1128\n",
            "Epoch 4/10\n",
            "\u001b[1m319/319\u001b[0m \u001b[32m━━━━━━━━━━━━━━━━━━━━\u001b[0m\u001b[37m\u001b[0m \u001b[1m1s\u001b[0m 3ms/step - loss: 0.0180 - mae: 0.0589 - val_loss: 0.0471 - val_mae: 0.1127\n",
            "\u001b[1m354/354\u001b[0m \u001b[32m━━━━━━━━━━━━━━━━━━━━\u001b[0m\u001b[37m\u001b[0m \u001b[1m1s\u001b[0m 2ms/step\n",
            "MAE: 0.1194, RMSE: 0.1961\n",
            "Testing: {'embed_dim': 16, 'dense_units': 128, 'dropout_rate': 0.4, 'learning_rate': 0.0005}\n",
            "Epoch 1/10\n",
            "\u001b[1m319/319\u001b[0m \u001b[32m━━━━━━━━━━━━━━━━━━━━\u001b[0m\u001b[37m\u001b[0m \u001b[1m8s\u001b[0m 12ms/step - loss: 0.1201 - mae: 0.2188 - val_loss: 0.0431 - val_mae: 0.1211\n",
            "Epoch 2/10\n",
            "\u001b[1m319/319\u001b[0m \u001b[32m━━━━━━━━━━━━━━━━━━━━\u001b[0m\u001b[37m\u001b[0m \u001b[1m1s\u001b[0m 3ms/step - loss: 0.0417 - mae: 0.1186 - val_loss: 0.0405 - val_mae: 0.1147\n",
            "Epoch 3/10\n",
            "\u001b[1m319/319\u001b[0m \u001b[32m━━━━━━━━━━━━━━━━━━━━\u001b[0m\u001b[37m\u001b[0m \u001b[1m1s\u001b[0m 3ms/step - loss: 0.0296 - mae: 0.0928 - val_loss: 0.0445 - val_mae: 0.1152\n",
            "Epoch 4/10\n",
            "\u001b[1m319/319\u001b[0m \u001b[32m━━━━━━━━━━━━━━━━━━━━\u001b[0m\u001b[37m\u001b[0m \u001b[1m1s\u001b[0m 3ms/step - loss: 0.0202 - mae: 0.0688 - val_loss: 0.0461 - val_mae: 0.1167\n",
            "Epoch 5/10\n",
            "\u001b[1m319/319\u001b[0m \u001b[32m━━━━━━━━━━━━━━━━━━━━\u001b[0m\u001b[37m\u001b[0m \u001b[1m1s\u001b[0m 3ms/step - loss: 0.0156 - mae: 0.0576 - val_loss: 0.0471 - val_mae: 0.1113\n",
            "\u001b[1m354/354\u001b[0m \u001b[32m━━━━━━━━━━━━━━━━━━━━\u001b[0m\u001b[37m\u001b[0m \u001b[1m1s\u001b[0m 3ms/step\n",
            "MAE: 0.1138, RMSE: 0.1921\n",
            "Testing: {'embed_dim': 16, 'dense_units': 256, 'dropout_rate': 0.2, 'learning_rate': 0.001}\n",
            "Epoch 1/10\n",
            "\u001b[1m319/319\u001b[0m \u001b[32m━━━━━━━━━━━━━━━━━━━━\u001b[0m\u001b[37m\u001b[0m \u001b[1m8s\u001b[0m 13ms/step - loss: 0.0805 - mae: 0.1568 - val_loss: 0.0429 - val_mae: 0.1205\n",
            "Epoch 2/10\n",
            "\u001b[1m319/319\u001b[0m \u001b[32m━━━━━━━━━━━━━━━━━━━━\u001b[0m\u001b[37m\u001b[0m \u001b[1m1s\u001b[0m 3ms/step - loss: 0.0323 - mae: 0.0988 - val_loss: 0.0424 - val_mae: 0.1133\n",
            "Epoch 3/10\n",
            "\u001b[1m319/319\u001b[0m \u001b[32m━━━━━━━━━━━━━━━━━━━━\u001b[0m\u001b[37m\u001b[0m \u001b[1m1s\u001b[0m 3ms/step - loss: 0.0201 - mae: 0.0644 - val_loss: 0.0453 - val_mae: 0.1149\n",
            "Epoch 4/10\n",
            "\u001b[1m319/319\u001b[0m \u001b[32m━━━━━━━━━━━━━━━━━━━━\u001b[0m\u001b[37m\u001b[0m \u001b[1m1s\u001b[0m 3ms/step - loss: 0.0146 - mae: 0.0516 - val_loss: 0.0476 - val_mae: 0.1183\n",
            "Epoch 5/10\n",
            "\u001b[1m319/319\u001b[0m \u001b[32m━━━━━━━━━━━━━━━━━━━━\u001b[0m\u001b[37m\u001b[0m \u001b[1m1s\u001b[0m 3ms/step - loss: 0.0114 - mae: 0.0427 - val_loss: 0.0462 - val_mae: 0.1112\n",
            "\u001b[1m354/354\u001b[0m \u001b[32m━━━━━━━━━━━━━━━━━━━━\u001b[0m\u001b[37m\u001b[0m \u001b[1m2s\u001b[0m 3ms/step\n",
            "MAE: 0.1126, RMSE: 0.1945\n",
            "Testing: {'embed_dim': 16, 'dense_units': 256, 'dropout_rate': 0.2, 'learning_rate': 0.0005}\n",
            "Epoch 1/10\n",
            "\u001b[1m319/319\u001b[0m \u001b[32m━━━━━━━━━━━━━━━━━━━━\u001b[0m\u001b[37m\u001b[0m \u001b[1m8s\u001b[0m 12ms/step - loss: 0.0979 - mae: 0.1780 - val_loss: 0.0423 - val_mae: 0.1204\n",
            "Epoch 2/10\n",
            "\u001b[1m319/319\u001b[0m \u001b[32m━━━━━━━━━━━━━━━━━━━━\u001b[0m\u001b[37m\u001b[0m \u001b[1m1s\u001b[0m 3ms/step - loss: 0.0361 - mae: 0.1098 - val_loss: 0.0412 - val_mae: 0.1179\n",
            "Epoch 3/10\n",
            "\u001b[1m319/319\u001b[0m \u001b[32m━━━━━━━━━━━━━━━━━━━━\u001b[0m\u001b[37m\u001b[0m \u001b[1m1s\u001b[0m 3ms/step - loss: 0.0251 - mae: 0.0811 - val_loss: 0.0450 - val_mae: 0.1128\n",
            "Epoch 4/10\n",
            "\u001b[1m319/319\u001b[0m \u001b[32m━━━━━━━━━━━━━━━━━━━━\u001b[0m\u001b[37m\u001b[0m \u001b[1m1s\u001b[0m 3ms/step - loss: 0.0165 - mae: 0.0599 - val_loss: 0.0460 - val_mae: 0.1168\n",
            "Epoch 5/10\n",
            "\u001b[1m319/319\u001b[0m \u001b[32m━━━━━━━━━━━━━━━━━━━━\u001b[0m\u001b[37m\u001b[0m \u001b[1m1s\u001b[0m 3ms/step - loss: 0.0117 - mae: 0.0473 - val_loss: 0.0466 - val_mae: 0.1141\n",
            "\u001b[1m354/354\u001b[0m \u001b[32m━━━━━━━━━━━━━━━━━━━━\u001b[0m\u001b[37m\u001b[0m \u001b[1m2s\u001b[0m 3ms/step\n",
            "MAE: 0.1168, RMSE: 0.1928\n",
            "Testing: {'embed_dim': 16, 'dense_units': 256, 'dropout_rate': 0.3, 'learning_rate': 0.001}\n",
            "Epoch 1/10\n",
            "\u001b[1m319/319\u001b[0m \u001b[32m━━━━━━━━━━━━━━━━━━━━\u001b[0m\u001b[37m\u001b[0m \u001b[1m8s\u001b[0m 12ms/step - loss: 0.0809 - mae: 0.1546 - val_loss: 0.0408 - val_mae: 0.1288\n",
            "Epoch 2/10\n",
            "\u001b[1m319/319\u001b[0m \u001b[32m━━━━━━━━━━━━━━━━━━━━\u001b[0m\u001b[37m\u001b[0m \u001b[1m1s\u001b[0m 3ms/step - loss: 0.0334 - mae: 0.1012 - val_loss: 0.0424 - val_mae: 0.1176\n",
            "Epoch 3/10\n",
            "\u001b[1m319/319\u001b[0m \u001b[32m━━━━━━━━━━━━━━━━━━━━\u001b[0m\u001b[37m\u001b[0m \u001b[1m1s\u001b[0m 3ms/step - loss: 0.0207 - mae: 0.0646 - val_loss: 0.0460 - val_mae: 0.1117\n",
            "Epoch 4/10\n",
            "\u001b[1m319/319\u001b[0m \u001b[32m━━━━━━━━━━━━━━━━━━━━\u001b[0m\u001b[37m\u001b[0m \u001b[1m1s\u001b[0m 3ms/step - loss: 0.0152 - mae: 0.0512 - val_loss: 0.0488 - val_mae: 0.1208\n",
            "\u001b[1m354/354\u001b[0m \u001b[32m━━━━━━━━━━━━━━━━━━━━\u001b[0m\u001b[37m\u001b[0m \u001b[1m2s\u001b[0m 3ms/step\n",
            "MAE: 0.1285, RMSE: 0.1926\n",
            "Testing: {'embed_dim': 16, 'dense_units': 256, 'dropout_rate': 0.3, 'learning_rate': 0.0005}\n",
            "Epoch 1/10\n",
            "\u001b[1m319/319\u001b[0m \u001b[32m━━━━━━━━━━━━━━━━━━━━\u001b[0m\u001b[37m\u001b[0m \u001b[1m8s\u001b[0m 13ms/step - loss: 0.1083 - mae: 0.1903 - val_loss: 0.0425 - val_mae: 0.1221\n",
            "Epoch 2/10\n",
            "\u001b[1m319/319\u001b[0m \u001b[32m━━━━━━━━━━━━━━━━━━━━\u001b[0m\u001b[37m\u001b[0m \u001b[1m1s\u001b[0m 3ms/step - loss: 0.0387 - mae: 0.1147 - val_loss: 0.0407 - val_mae: 0.1184\n",
            "Epoch 3/10\n",
            "\u001b[1m319/319\u001b[0m \u001b[32m━━━━━━━━━━━━━━━━━━━━\u001b[0m\u001b[37m\u001b[0m \u001b[1m1s\u001b[0m 3ms/step - loss: 0.0268 - mae: 0.0850 - val_loss: 0.0445 - val_mae: 0.1163\n",
            "Epoch 4/10\n",
            "\u001b[1m319/319\u001b[0m \u001b[32m━━━━━━━━━━━━━━━━━━━━\u001b[0m\u001b[37m\u001b[0m \u001b[1m1s\u001b[0m 3ms/step - loss: 0.0185 - mae: 0.0633 - val_loss: 0.0466 - val_mae: 0.1140\n",
            "Epoch 5/10\n",
            "\u001b[1m319/319\u001b[0m \u001b[32m━━━━━━━━━━━━━━━━━━━━\u001b[0m\u001b[37m\u001b[0m \u001b[1m1s\u001b[0m 3ms/step - loss: 0.0137 - mae: 0.0517 - val_loss: 0.0468 - val_mae: 0.1161\n",
            "\u001b[1m354/354\u001b[0m \u001b[32m━━━━━━━━━━━━━━━━━━━━\u001b[0m\u001b[37m\u001b[0m \u001b[1m1s\u001b[0m 3ms/step\n",
            "MAE: 0.1183, RMSE: 0.1926\n",
            "Testing: {'embed_dim': 16, 'dense_units': 256, 'dropout_rate': 0.4, 'learning_rate': 0.001}\n",
            "Epoch 1/10\n",
            "\u001b[1m319/319\u001b[0m \u001b[32m━━━━━━━━━━━━━━━━━━━━\u001b[0m\u001b[37m\u001b[0m \u001b[1m10s\u001b[0m 13ms/step - loss: 0.0865 - mae: 0.1583 - val_loss: 0.0421 - val_mae: 0.1450\n",
            "Epoch 2/10\n",
            "\u001b[1m319/319\u001b[0m \u001b[32m━━━━━━━━━━━━━━━━━━━━\u001b[0m\u001b[37m\u001b[0m \u001b[1m1s\u001b[0m 3ms/step - loss: 0.0358 - mae: 0.1064 - val_loss: 0.0436 - val_mae: 0.1253\n",
            "Epoch 3/10\n",
            "\u001b[1m319/319\u001b[0m \u001b[32m━━━━━━━━━━━━━━━━━━━━\u001b[0m\u001b[37m\u001b[0m \u001b[1m1s\u001b[0m 3ms/step - loss: 0.0226 - mae: 0.0689 - val_loss: 0.0459 - val_mae: 0.1158\n",
            "Epoch 4/10\n",
            "\u001b[1m319/319\u001b[0m \u001b[32m━━━━━━━━━━━━━━━━━━━━\u001b[0m\u001b[37m\u001b[0m \u001b[1m1s\u001b[0m 3ms/step - loss: 0.0168 - mae: 0.0561 - val_loss: 0.0467 - val_mae: 0.1167\n",
            "\u001b[1m354/354\u001b[0m \u001b[32m━━━━━━━━━━━━━━━━━━━━\u001b[0m\u001b[37m\u001b[0m \u001b[1m1s\u001b[0m 3ms/step\n",
            "MAE: 0.1456, RMSE: 0.1965\n",
            "Testing: {'embed_dim': 16, 'dense_units': 256, 'dropout_rate': 0.4, 'learning_rate': 0.0005}\n",
            "Epoch 1/10\n",
            "\u001b[1m319/319\u001b[0m \u001b[32m━━━━━━━━━━━━━━━━━━━━\u001b[0m\u001b[37m\u001b[0m \u001b[1m8s\u001b[0m 13ms/step - loss: 0.1196 - mae: 0.2073 - val_loss: 0.0435 - val_mae: 0.1189\n",
            "Epoch 2/10\n",
            "\u001b[1m319/319\u001b[0m \u001b[32m━━━━━━━━━━━━━━━━━━━━\u001b[0m\u001b[37m\u001b[0m \u001b[1m1s\u001b[0m 3ms/step - loss: 0.0409 - mae: 0.1174 - val_loss: 0.0412 - val_mae: 0.1126\n",
            "Epoch 3/10\n",
            "\u001b[1m319/319\u001b[0m \u001b[32m━━━━━━━━━━━━━━━━━━━━\u001b[0m\u001b[37m\u001b[0m \u001b[1m1s\u001b[0m 3ms/step - loss: 0.0291 - mae: 0.0900 - val_loss: 0.0453 - val_mae: 0.1191\n",
            "Epoch 4/10\n",
            "\u001b[1m319/319\u001b[0m \u001b[32m━━━━━━━━━━━━━━━━━━━━\u001b[0m\u001b[37m\u001b[0m \u001b[1m1s\u001b[0m 3ms/step - loss: 0.0204 - mae: 0.0668 - val_loss: 0.0465 - val_mae: 0.1139\n",
            "Epoch 5/10\n",
            "\u001b[1m319/319\u001b[0m \u001b[32m━━━━━━━━━━━━━━━━━━━━\u001b[0m\u001b[37m\u001b[0m \u001b[1m1s\u001b[0m 3ms/step - loss: 0.0151 - mae: 0.0545 - val_loss: 0.0471 - val_mae: 0.1142\n",
            "\u001b[1m354/354\u001b[0m \u001b[32m━━━━━━━━━━━━━━━━━━━━\u001b[0m\u001b[37m\u001b[0m \u001b[1m1s\u001b[0m 3ms/step\n",
            "MAE: 0.1114, RMSE: 0.1913\n",
            "Testing: {'embed_dim': 32, 'dense_units': 128, 'dropout_rate': 0.2, 'learning_rate': 0.001}\n",
            "Epoch 1/10\n",
            "\u001b[1m319/319\u001b[0m \u001b[32m━━━━━━━━━━━━━━━━━━━━\u001b[0m\u001b[37m\u001b[0m \u001b[1m9s\u001b[0m 14ms/step - loss: 0.1111 - mae: 0.1805 - val_loss: 0.0419 - val_mae: 0.1277\n",
            "Epoch 2/10\n",
            "\u001b[1m319/319\u001b[0m \u001b[32m━━━━━━━━━━━━━━━━━━━━\u001b[0m\u001b[37m\u001b[0m \u001b[1m1s\u001b[0m 3ms/step - loss: 0.0306 - mae: 0.0937 - val_loss: 0.0447 - val_mae: 0.1133\n",
            "Epoch 3/10\n",
            "\u001b[1m319/319\u001b[0m \u001b[32m━━━━━━━━━━━━━━━━━━━━\u001b[0m\u001b[37m\u001b[0m \u001b[1m1s\u001b[0m 3ms/step - loss: 0.0214 - mae: 0.0641 - val_loss: 0.0478 - val_mae: 0.1146\n",
            "Epoch 4/10\n",
            "\u001b[1m319/319\u001b[0m \u001b[32m━━━━━━━━━━━━━━━━━━━━\u001b[0m\u001b[37m\u001b[0m \u001b[1m1s\u001b[0m 3ms/step - loss: 0.0157 - mae: 0.0513 - val_loss: 0.0477 - val_mae: 0.1105\n",
            "\u001b[1m354/354\u001b[0m \u001b[32m━━━━━━━━━━━━━━━━━━━━\u001b[0m\u001b[37m\u001b[0m \u001b[1m1s\u001b[0m 3ms/step\n",
            "MAE: 0.1278, RMSE: 0.1938\n",
            "Testing: {'embed_dim': 32, 'dense_units': 128, 'dropout_rate': 0.2, 'learning_rate': 0.0005}\n",
            "Epoch 1/10\n",
            "\u001b[1m319/319\u001b[0m \u001b[32m━━━━━━━━━━━━━━━━━━━━\u001b[0m\u001b[37m\u001b[0m \u001b[1m8s\u001b[0m 13ms/step - loss: 0.1335 - mae: 0.2010 - val_loss: 0.0442 - val_mae: 0.1201\n",
            "Epoch 2/10\n",
            "\u001b[1m319/319\u001b[0m \u001b[32m━━━━━━━━━━━━━━━━━━━━\u001b[0m\u001b[37m\u001b[0m \u001b[1m1s\u001b[0m 3ms/step - loss: 0.0369 - mae: 0.1081 - val_loss: 0.0430 - val_mae: 0.1194\n",
            "Epoch 3/10\n",
            "\u001b[1m319/319\u001b[0m \u001b[32m━━━━━━━━━━━━━━━━━━━━\u001b[0m\u001b[37m\u001b[0m \u001b[1m1s\u001b[0m 3ms/step - loss: 0.0235 - mae: 0.0757 - val_loss: 0.0469 - val_mae: 0.1185\n",
            "Epoch 4/10\n",
            "\u001b[1m319/319\u001b[0m \u001b[32m━━━━━━━━━━━━━━━━━━━━\u001b[0m\u001b[37m\u001b[0m \u001b[1m1s\u001b[0m 3ms/step - loss: 0.0171 - mae: 0.0600 - val_loss: 0.0479 - val_mae: 0.1159\n",
            "Epoch 5/10\n",
            "\u001b[1m319/319\u001b[0m \u001b[32m━━━━━━━━━━━━━━━━━━━━\u001b[0m\u001b[37m\u001b[0m \u001b[1m1s\u001b[0m 3ms/step - loss: 0.0131 - mae: 0.0489 - val_loss: 0.0477 - val_mae: 0.1156\n",
            "\u001b[1m354/354\u001b[0m \u001b[32m━━━━━━━━━━━━━━━━━━━━\u001b[0m\u001b[37m\u001b[0m \u001b[1m1s\u001b[0m 3ms/step\n",
            "MAE: 0.1176, RMSE: 0.1937\n",
            "Testing: {'embed_dim': 32, 'dense_units': 128, 'dropout_rate': 0.3, 'learning_rate': 0.001}\n",
            "Epoch 1/10\n",
            "\u001b[1m319/319\u001b[0m \u001b[32m━━━━━━━━━━━━━━━━━━━━\u001b[0m\u001b[37m\u001b[0m \u001b[1m8s\u001b[0m 13ms/step - loss: 0.1038 - mae: 0.1645 - val_loss: 0.0418 - val_mae: 0.1275\n",
            "Epoch 2/10\n",
            "\u001b[1m319/319\u001b[0m \u001b[32m━━━━━━━━━━━━━━━━━━━━\u001b[0m\u001b[37m\u001b[0m \u001b[1m1s\u001b[0m 3ms/step - loss: 0.0339 - mae: 0.0997 - val_loss: 0.0443 - val_mae: 0.1161\n",
            "Epoch 3/10\n",
            "\u001b[1m319/319\u001b[0m \u001b[32m━━━━━━━━━━━━━━━━━━━━\u001b[0m\u001b[37m\u001b[0m \u001b[1m1s\u001b[0m 3ms/step - loss: 0.0229 - mae: 0.0667 - val_loss: 0.0491 - val_mae: 0.1189\n",
            "Epoch 4/10\n",
            "\u001b[1m319/319\u001b[0m \u001b[32m━━━━━━━━━━━━━━━━━━━━\u001b[0m\u001b[37m\u001b[0m \u001b[1m1s\u001b[0m 3ms/step - loss: 0.0173 - mae: 0.0544 - val_loss: 0.0500 - val_mae: 0.1134\n",
            "\u001b[1m354/354\u001b[0m \u001b[32m━━━━━━━━━━━━━━━━━━━━\u001b[0m\u001b[37m\u001b[0m \u001b[1m1s\u001b[0m 2ms/step\n",
            "MAE: 0.1274, RMSE: 0.1927\n",
            "Testing: {'embed_dim': 32, 'dense_units': 128, 'dropout_rate': 0.3, 'learning_rate': 0.0005}\n",
            "Epoch 1/10\n",
            "\u001b[1m319/319\u001b[0m \u001b[32m━━━━━━━━━━━━━━━━━━━━\u001b[0m\u001b[37m\u001b[0m \u001b[1m8s\u001b[0m 13ms/step - loss: 0.1258 - mae: 0.1825 - val_loss: 0.0432 - val_mae: 0.1245\n",
            "Epoch 2/10\n",
            "\u001b[1m319/319\u001b[0m \u001b[32m━━━━━━━━━━━━━━━━━━━━\u001b[0m\u001b[37m\u001b[0m \u001b[1m1s\u001b[0m 3ms/step - loss: 0.0393 - mae: 0.1116 - val_loss: 0.0429 - val_mae: 0.1130\n",
            "Epoch 3/10\n",
            "\u001b[1m319/319\u001b[0m \u001b[32m━━━━━━━━━━━━━━━━━━━━\u001b[0m\u001b[37m\u001b[0m \u001b[1m1s\u001b[0m 3ms/step - loss: 0.0242 - mae: 0.0767 - val_loss: 0.0466 - val_mae: 0.1146\n",
            "Epoch 4/10\n",
            "\u001b[1m319/319\u001b[0m \u001b[32m━━━━━━━━━━━━━━━━━━━━\u001b[0m\u001b[37m\u001b[0m \u001b[1m1s\u001b[0m 3ms/step - loss: 0.0179 - mae: 0.0603 - val_loss: 0.0477 - val_mae: 0.1148\n",
            "Epoch 5/10\n",
            "\u001b[1m319/319\u001b[0m \u001b[32m━━━━━━━━━━━━━━━━━━━━\u001b[0m\u001b[37m\u001b[0m \u001b[1m1s\u001b[0m 3ms/step - loss: 0.0142 - mae: 0.0514 - val_loss: 0.0487 - val_mae: 0.1160\n",
            "\u001b[1m354/354\u001b[0m \u001b[32m━━━━━━━━━━━━━━━━━━━━\u001b[0m\u001b[37m\u001b[0m \u001b[1m1s\u001b[0m 2ms/step\n",
            "MAE: 0.1130, RMSE: 0.1943\n",
            "Testing: {'embed_dim': 32, 'dense_units': 128, 'dropout_rate': 0.4, 'learning_rate': 0.001}\n",
            "Epoch 1/10\n",
            "\u001b[1m319/319\u001b[0m \u001b[32m━━━━━━━━━━━━━━━━━━━━\u001b[0m\u001b[37m\u001b[0m \u001b[1m9s\u001b[0m 13ms/step - loss: 0.1244 - mae: 0.1926 - val_loss: 0.0448 - val_mae: 0.1159\n",
            "Epoch 2/10\n",
            "\u001b[1m319/319\u001b[0m \u001b[32m━━━━━━━━━━━━━━━━━━━━\u001b[0m\u001b[37m\u001b[0m \u001b[1m1s\u001b[0m 3ms/step - loss: 0.0370 - mae: 0.1022 - val_loss: 0.0445 - val_mae: 0.1109\n",
            "Epoch 3/10\n",
            "\u001b[1m319/319\u001b[0m \u001b[32m━━━━━━━━━━━━━━━━━━━━\u001b[0m\u001b[37m\u001b[0m \u001b[1m1s\u001b[0m 3ms/step - loss: 0.0258 - mae: 0.0731 - val_loss: 0.0494 - val_mae: 0.1123\n",
            "Epoch 4/10\n",
            "\u001b[1m319/319\u001b[0m \u001b[32m━━━━━━━━━━━━━━━━━━━━\u001b[0m\u001b[37m\u001b[0m \u001b[1m1s\u001b[0m 3ms/step - loss: 0.0196 - mae: 0.0579 - val_loss: 0.0504 - val_mae: 0.1147\n",
            "Epoch 5/10\n",
            "\u001b[1m319/319\u001b[0m \u001b[32m━━━━━━━━━━━━━━━━━━━━\u001b[0m\u001b[37m\u001b[0m \u001b[1m1s\u001b[0m 3ms/step - loss: 0.0155 - mae: 0.0475 - val_loss: 0.0505 - val_mae: 0.1129\n",
            "\u001b[1m354/354\u001b[0m \u001b[32m━━━━━━━━━━━━━━━━━━━━\u001b[0m\u001b[37m\u001b[0m \u001b[1m1s\u001b[0m 3ms/step\n",
            "MAE: 0.1103, RMSE: 0.1954\n",
            "Testing: {'embed_dim': 32, 'dense_units': 128, 'dropout_rate': 0.4, 'learning_rate': 0.0005}\n",
            "Epoch 1/10\n",
            "\u001b[1m319/319\u001b[0m \u001b[32m━━━━━━━━━━━━━━━━━━━━\u001b[0m\u001b[37m\u001b[0m \u001b[1m8s\u001b[0m 13ms/step - loss: 0.1411 - mae: 0.2045 - val_loss: 0.0460 - val_mae: 0.1163\n",
            "Epoch 2/10\n",
            "\u001b[1m319/319\u001b[0m \u001b[32m━━━━━━━━━━━━━━━━━━━━\u001b[0m\u001b[37m\u001b[0m \u001b[1m1s\u001b[0m 3ms/step - loss: 0.0421 - mae: 0.1121 - val_loss: 0.0431 - val_mae: 0.1135\n",
            "Epoch 3/10\n",
            "\u001b[1m319/319\u001b[0m \u001b[32m━━━━━━━━━━━━━━━━━━━━\u001b[0m\u001b[37m\u001b[0m \u001b[1m1s\u001b[0m 3ms/step - loss: 0.0280 - mae: 0.0835 - val_loss: 0.0469 - val_mae: 0.1131\n",
            "Epoch 4/10\n",
            "\u001b[1m319/319\u001b[0m \u001b[32m━━━━━━━━━━━━━━━━━━━━\u001b[0m\u001b[37m\u001b[0m \u001b[1m1s\u001b[0m 3ms/step - loss: 0.0201 - mae: 0.0646 - val_loss: 0.0479 - val_mae: 0.1099\n",
            "Epoch 5/10\n",
            "\u001b[1m319/319\u001b[0m \u001b[32m━━━━━━━━━━━━━━━━━━━━\u001b[0m\u001b[37m\u001b[0m \u001b[1m1s\u001b[0m 3ms/step - loss: 0.0159 - mae: 0.0538 - val_loss: 0.0496 - val_mae: 0.1146\n",
            "\u001b[1m354/354\u001b[0m \u001b[32m━━━━━━━━━━━━━━━━━━━━\u001b[0m\u001b[37m\u001b[0m \u001b[1m1s\u001b[0m 2ms/step\n",
            "MAE: 0.1123, RMSE: 0.1942\n",
            "Testing: {'embed_dim': 32, 'dense_units': 256, 'dropout_rate': 0.2, 'learning_rate': 0.001}\n",
            "Epoch 1/10\n",
            "\u001b[1m319/319\u001b[0m \u001b[32m━━━━━━━━━━━━━━━━━━━━\u001b[0m\u001b[37m\u001b[0m \u001b[1m9s\u001b[0m 14ms/step - loss: 0.1013 - mae: 0.1563 - val_loss: 0.0426 - val_mae: 0.1221\n",
            "Epoch 2/10\n",
            "\u001b[1m319/319\u001b[0m \u001b[32m━━━━━━━━━━━━━━━━━━━━\u001b[0m\u001b[37m\u001b[0m \u001b[1m1s\u001b[0m 3ms/step - loss: 0.0313 - mae: 0.0915 - val_loss: 0.0456 - val_mae: 0.1164\n",
            "Epoch 3/10\n",
            "\u001b[1m319/319\u001b[0m \u001b[32m━━━━━━━━━━━━━━━━━━━━\u001b[0m\u001b[37m\u001b[0m \u001b[1m1s\u001b[0m 3ms/step - loss: 0.0210 - mae: 0.0608 - val_loss: 0.0474 - val_mae: 0.1144\n",
            "Epoch 4/10\n",
            "\u001b[1m319/319\u001b[0m \u001b[32m━━━━━━━━━━━━━━━━━━━━\u001b[0m\u001b[37m\u001b[0m \u001b[1m1s\u001b[0m 3ms/step - loss: 0.0157 - mae: 0.0501 - val_loss: 0.0487 - val_mae: 0.1158\n",
            "\u001b[1m354/354\u001b[0m \u001b[32m━━━━━━━━━━━━━━━━━━━━\u001b[0m\u001b[37m\u001b[0m \u001b[1m2s\u001b[0m 3ms/step\n",
            "MAE: 0.1217, RMSE: 0.1939\n",
            "Testing: {'embed_dim': 32, 'dense_units': 256, 'dropout_rate': 0.2, 'learning_rate': 0.0005}\n",
            "Epoch 1/10\n",
            "\u001b[1m319/319\u001b[0m \u001b[32m━━━━━━━━━━━━━━━━━━━━\u001b[0m\u001b[37m\u001b[0m \u001b[1m9s\u001b[0m 14ms/step - loss: 0.1259 - mae: 0.1763 - val_loss: 0.0424 - val_mae: 0.1317\n",
            "Epoch 2/10\n",
            "\u001b[1m319/319\u001b[0m \u001b[32m━━━━━━━━━━━━━━━━━━━━\u001b[0m\u001b[37m\u001b[0m \u001b[1m1s\u001b[0m 3ms/step - loss: 0.0343 - mae: 0.1027 - val_loss: 0.0428 - val_mae: 0.1136\n",
            "Epoch 3/10\n",
            "\u001b[1m319/319\u001b[0m \u001b[32m━━━━━━━━━━━━━━━━━━━━\u001b[0m\u001b[37m\u001b[0m \u001b[1m1s\u001b[0m 3ms/step - loss: 0.0222 - mae: 0.0705 - val_loss: 0.0467 - val_mae: 0.1136\n",
            "Epoch 4/10\n",
            "\u001b[1m319/319\u001b[0m \u001b[32m━━━━━━━━━━━━━━━━━━━━\u001b[0m\u001b[37m\u001b[0m \u001b[1m1s\u001b[0m 3ms/step - loss: 0.0162 - mae: 0.0556 - val_loss: 0.0473 - val_mae: 0.1131\n",
            "\u001b[1m354/354\u001b[0m \u001b[32m━━━━━━━━━━━━━━━━━━━━\u001b[0m\u001b[37m\u001b[0m \u001b[1m1s\u001b[0m 3ms/step\n",
            "MAE: 0.1313, RMSE: 0.1920\n",
            "Testing: {'embed_dim': 32, 'dense_units': 256, 'dropout_rate': 0.3, 'learning_rate': 0.001}\n",
            "Epoch 1/10\n",
            "\u001b[1m319/319\u001b[0m \u001b[32m━━━━━━━━━━━━━━━━━━━━\u001b[0m\u001b[37m\u001b[0m \u001b[1m9s\u001b[0m 13ms/step - loss: 0.1126 - mae: 0.1724 - val_loss: 0.0428 - val_mae: 0.1382\n",
            "Epoch 2/10\n",
            "\u001b[1m319/319\u001b[0m \u001b[32m━━━━━━━━━━━━━━━━━━━━\u001b[0m\u001b[37m\u001b[0m \u001b[1m1s\u001b[0m 3ms/step - loss: 0.0331 - mae: 0.0975 - val_loss: 0.0449 - val_mae: 0.1168\n",
            "Epoch 3/10\n",
            "\u001b[1m319/319\u001b[0m \u001b[32m━━━━━━━━━━━━━━━━━━━━\u001b[0m\u001b[37m\u001b[0m \u001b[1m1s\u001b[0m 3ms/step - loss: 0.0225 - mae: 0.0640 - val_loss: 0.0493 - val_mae: 0.1116\n",
            "Epoch 4/10\n",
            "\u001b[1m319/319\u001b[0m \u001b[32m━━━━━━━━━━━━━━━━━━━━\u001b[0m\u001b[37m\u001b[0m \u001b[1m1s\u001b[0m 3ms/step - loss: 0.0168 - mae: 0.0507 - val_loss: 0.0498 - val_mae: 0.1146\n",
            "\u001b[1m354/354\u001b[0m \u001b[32m━━━━━━━━━━━━━━━━━━━━\u001b[0m\u001b[37m\u001b[0m \u001b[1m1s\u001b[0m 3ms/step\n",
            "MAE: 0.1388, RMSE: 0.1944\n",
            "Testing: {'embed_dim': 32, 'dense_units': 256, 'dropout_rate': 0.3, 'learning_rate': 0.0005}\n",
            "Epoch 1/10\n",
            "\u001b[1m319/319\u001b[0m \u001b[32m━━━━━━━━━━━━━━━━━━━━\u001b[0m\u001b[37m\u001b[0m \u001b[1m9s\u001b[0m 13ms/step - loss: 0.1313 - mae: 0.1820 - val_loss: 0.0431 - val_mae: 0.1224\n",
            "Epoch 2/10\n",
            "\u001b[1m319/319\u001b[0m \u001b[32m━━━━━━━━━━━━━━━━━━━━\u001b[0m\u001b[37m\u001b[0m \u001b[1m1s\u001b[0m 3ms/step - loss: 0.0370 - mae: 0.1062 - val_loss: 0.0434 - val_mae: 0.1203\n",
            "Epoch 3/10\n",
            "\u001b[1m319/319\u001b[0m \u001b[32m━━━━━━━━━━━━━━━━━━━━\u001b[0m\u001b[37m\u001b[0m \u001b[1m1s\u001b[0m 3ms/step - loss: 0.0235 - mae: 0.0728 - val_loss: 0.0484 - val_mae: 0.1217\n",
            "Epoch 4/10\n",
            "\u001b[1m319/319\u001b[0m \u001b[32m━━━━━━━━━━━━━━━━━━━━\u001b[0m\u001b[37m\u001b[0m \u001b[1m1s\u001b[0m 3ms/step - loss: 0.0172 - mae: 0.0579 - val_loss: 0.0493 - val_mae: 0.1225\n",
            "\u001b[1m354/354\u001b[0m \u001b[32m━━━━━━━━━━━━━━━━━━━━\u001b[0m\u001b[37m\u001b[0m \u001b[1m1s\u001b[0m 3ms/step\n",
            "MAE: 0.1212, RMSE: 0.1935\n",
            "Testing: {'embed_dim': 32, 'dense_units': 256, 'dropout_rate': 0.4, 'learning_rate': 0.001}\n",
            "Epoch 1/10\n",
            "\u001b[1m319/319\u001b[0m \u001b[32m━━━━━━━━━━━━━━━━━━━━\u001b[0m\u001b[37m\u001b[0m \u001b[1m9s\u001b[0m 13ms/step - loss: 0.1071 - mae: 0.1639 - val_loss: 0.0428 - val_mae: 0.1258\n",
            "Epoch 2/10\n",
            "\u001b[1m319/319\u001b[0m \u001b[32m━━━━━━━━━━━━━━━━━━━━\u001b[0m\u001b[37m\u001b[0m \u001b[1m1s\u001b[0m 3ms/step - loss: 0.0359 - mae: 0.1016 - val_loss: 0.0445 - val_mae: 0.1188\n",
            "Epoch 3/10\n",
            "\u001b[1m319/319\u001b[0m \u001b[32m━━━━━━━━━━━━━━━━━━━━\u001b[0m\u001b[37m\u001b[0m \u001b[1m1s\u001b[0m 3ms/step - loss: 0.0238 - mae: 0.0681 - val_loss: 0.0495 - val_mae: 0.1139\n",
            "Epoch 4/10\n",
            "\u001b[1m319/319\u001b[0m \u001b[32m━━━━━━━━━━━━━━━━━━━━\u001b[0m\u001b[37m\u001b[0m \u001b[1m1s\u001b[0m 3ms/step - loss: 0.0177 - mae: 0.0528 - val_loss: 0.0505 - val_mae: 0.1155\n",
            "\u001b[1m354/354\u001b[0m \u001b[32m━━━━━━━━━━━━━━━━━━━━\u001b[0m\u001b[37m\u001b[0m \u001b[1m1s\u001b[0m 3ms/step\n",
            "MAE: 0.1253, RMSE: 0.1943\n",
            "Testing: {'embed_dim': 32, 'dense_units': 256, 'dropout_rate': 0.4, 'learning_rate': 0.0005}\n",
            "Epoch 1/10\n",
            "\u001b[1m319/319\u001b[0m \u001b[32m━━━━━━━━━━━━━━━━━━━━\u001b[0m\u001b[37m\u001b[0m \u001b[1m9s\u001b[0m 14ms/step - loss: 0.1370 - mae: 0.1903 - val_loss: 0.0443 - val_mae: 0.1213\n",
            "Epoch 2/10\n",
            "\u001b[1m319/319\u001b[0m \u001b[32m━━━━━━━━━━━━━━━━━━━━\u001b[0m\u001b[37m\u001b[0m \u001b[1m1s\u001b[0m 3ms/step - loss: 0.0399 - mae: 0.1112 - val_loss: 0.0430 - val_mae: 0.1155\n",
            "Epoch 3/10\n",
            "\u001b[1m319/319\u001b[0m \u001b[32m━━━━━━━━━━━━━━━━━━━━\u001b[0m\u001b[37m\u001b[0m \u001b[1m1s\u001b[0m 3ms/step - loss: 0.0275 - mae: 0.0823 - val_loss: 0.0471 - val_mae: 0.1136\n",
            "Epoch 4/10\n",
            "\u001b[1m319/319\u001b[0m \u001b[32m━━━━━━━━━━━━━━━━━━━━\u001b[0m\u001b[37m\u001b[0m \u001b[1m1s\u001b[0m 3ms/step - loss: 0.0196 - mae: 0.0618 - val_loss: 0.0496 - val_mae: 0.1141\n",
            "Epoch 5/10\n",
            "\u001b[1m319/319\u001b[0m \u001b[32m━━━━━━━━━━━━━━━━━━━━\u001b[0m\u001b[37m\u001b[0m \u001b[1m1s\u001b[0m 3ms/step - loss: 0.0150 - mae: 0.0517 - val_loss: 0.0485 - val_mae: 0.1129\n",
            "\u001b[1m354/354\u001b[0m \u001b[32m━━━━━━━━━━━━━━━━━━━━\u001b[0m\u001b[37m\u001b[0m \u001b[1m1s\u001b[0m 3ms/step\n",
            "MAE: 0.1147, RMSE: 0.1923\n"
          ]
        }
      ],
      "source": [
        "results, best_params = find_best_hyperparams(\n",
        "    model_function=build_hybrid_ncf_model,\n",
        "    X=[user_ids, recipe_ids, user_features, recipe_features],\n",
        "    y=ratings,\n",
        "    param_grid=hybrid_param_grid,\n",
        "    base_kwargs=hybrid_base_kwargs\n",
        ")"
      ]
    },
    {
      "cell_type": "code",
      "execution_count": 42,
      "metadata": {
        "colab": {
          "base_uri": "https://localhost:8080/"
        },
        "id": "_KKqAH1aXzGM",
        "outputId": "bbe960ac-b9db-4e45-c75c-8e23708b2c39"
      },
      "outputs": [
        {
          "name": "stdout",
          "output_type": "stream",
          "text": [
            "Best learning rate: 0.001\n",
            "Best dropout: 0.2\n",
            "Best embed_dim: 16.0\n",
            "Best dense_units: 256.0\n"
          ]
        }
      ],
      "source": [
        "print(\"Best learning rate:\", best_params['learning_rate'])\n",
        "print(\"Best dropout:\", best_params['dropout_rate'])\n",
        "print(\"Best embed_dim:\", best_params['embed_dim'])\n",
        "print(\"Best dense_units:\", best_params['dense_units'])"
      ]
    },
    {
      "cell_type": "markdown",
      "metadata": {
        "id": "_6Y_XV4LXzGM"
      },
      "source": [
        "### Train and evaluate"
      ]
    },
    {
      "cell_type": "code",
      "execution_count": 43,
      "metadata": {
        "id": "PQffM3XOXzGM"
      },
      "outputs": [],
      "source": [
        "best_params = best_params.drop('val_loss').to_dict()\n",
        "best_params[\"embed_dim\"] = int(best_params[\"embed_dim\"])\n",
        "best_params[\"dense_units\"] = int(best_params[\"dense_units\"])"
      ]
    },
    {
      "cell_type": "code",
      "execution_count": 44,
      "metadata": {
        "colab": {
          "base_uri": "https://localhost:8080/"
        },
        "id": "Wv-lM5e8XzGM",
        "outputId": "fcfef360-534a-455a-ebcc-bb4813141639"
      },
      "outputs": [
        {
          "name": "stdout",
          "output_type": "stream",
          "text": [
            "Epoch 1/10\n",
            "\u001b[1m6370/6370\u001b[0m \u001b[32m━━━━━━━━━━━━━━━━━━━━\u001b[0m\u001b[37m\u001b[0m \u001b[1m25s\u001b[0m 3ms/step - loss: 0.0450 - mae: 0.1206 - val_loss: 0.0378 - val_mae: 0.1141\n",
            "Epoch 2/10\n",
            "\u001b[1m6370/6370\u001b[0m \u001b[32m━━━━━━━━━━━━━━━━━━━━\u001b[0m\u001b[37m\u001b[0m \u001b[1m17s\u001b[0m 3ms/step - loss: 0.0380 - mae: 0.1086 - val_loss: 0.0372 - val_mae: 0.1158\n",
            "Epoch 3/10\n",
            "\u001b[1m6370/6370\u001b[0m \u001b[32m━━━━━━━━━━━━━━━━━━━━\u001b[0m\u001b[37m\u001b[0m \u001b[1m17s\u001b[0m 3ms/step - loss: 0.0366 - mae: 0.1048 - val_loss: 0.0372 - val_mae: 0.1145\n",
            "Epoch 4/10\n",
            "\u001b[1m6370/6370\u001b[0m \u001b[32m━━━━━━━━━━━━━━━━━━━━\u001b[0m\u001b[37m\u001b[0m \u001b[1m17s\u001b[0m 3ms/step - loss: 0.0363 - mae: 0.1025 - val_loss: 0.0388 - val_mae: 0.1119\n",
            "Epoch 5/10\n",
            "\u001b[1m6370/6370\u001b[0m \u001b[32m━━━━━━━━━━━━━━━━━━━━\u001b[0m\u001b[37m\u001b[0m \u001b[1m16s\u001b[0m 3ms/step - loss: 0.0364 - mae: 0.1012 - val_loss: 0.0392 - val_mae: 0.1117\n",
            "Epoch 6/10\n",
            "\u001b[1m6370/6370\u001b[0m \u001b[32m━━━━━━━━━━━━━━━━━━━━\u001b[0m\u001b[37m\u001b[0m \u001b[1m17s\u001b[0m 3ms/step - loss: 0.0361 - mae: 0.1004 - val_loss: 0.0393 - val_mae: 0.1128\n",
            "\u001b[1m7078/7078\u001b[0m \u001b[32m━━━━━━━━━━━━━━━━━━━━\u001b[0m\u001b[37m\u001b[0m \u001b[1m12s\u001b[0m 2ms/step\n",
            "MAE: 0.1145, RMSE: 0.1854\n"
          ]
        }
      ],
      "source": [
        "best_model_hybrid_ncf = build_hybrid_ncf_model(\n",
        "    **hybrid_base_kwargs,\n",
        "    **best_params\n",
        ")\n",
        "\n",
        "#Full train-test split on all data\n",
        "X = [user_ids, recipe_ids, user_features, recipe_features]\n",
        "X_train, X_test, y_train, y_test = split_inputs(X, ratings)\n",
        "\n",
        "best_model_hybrid_ncf, history_hybrid_ncf = train_and_evaluate(best_model_hybrid_ncf, X_train, y_train, X_test, y_test)"
      ]
    },
    {
      "cell_type": "markdown",
      "metadata": {
        "id": "9B7wiMcoXzGM"
      },
      "source": [
        "### Plotting results"
      ]
    },
    {
      "cell_type": "code",
      "execution_count": 45,
      "metadata": {
        "colab": {
          "base_uri": "https://localhost:8080/",
          "height": 472
        },
        "id": "27RNJahRXzGN",
        "outputId": "8669005f-e437-4df0-c0c5-0f78f91d64d6"
      },
      "outputs": [
        {
          "data": {
            "image/png": "[encoded data removed]",
            "text/plain": [
              "<Figure size 640x480 with 1 Axes>"
            ]
          },
          "metadata": {},
          "output_type": "display_data"
        }
      ],
      "source": [
        "plot_training(history_hybrid_ncf)"
      ]
    },
    {
      "cell_type": "code",
      "execution_count": 46,
      "metadata": {
        "colab": {
          "base_uri": "https://localhost:8080/",
          "height": 474
        },
        "id": "Tq2pvr37opFk",
        "outputId": "bbf71c1e-753a-4774-9591-a305a734fe1a"
      },
      "outputs": [
        {
          "data": {
            "image/png": "[encoded data removed]",
            "text/plain": [
              "<Figure size 1800x500 with 3 Axes>"
            ]
          },
          "metadata": {},
          "output_type": "display_data"
        }
      ],
      "source": [
        "\n",
        "histories = [history_basic_ncf, history_ncf, history_hybrid_ncf]\n",
        "labels = ['Basic NCF', 'Tuned NCF', 'Hybrid NCF']\n",
        "metric='mae'\n",
        "fig, axes = plt.subplots(1, 3, figsize=(18, 5), sharey=True)\n",
        "\n",
        "for ax, history, label in zip(axes, histories, labels):\n",
        "    ax.plot(history.history[metric], label='Train')\n",
        "    if f'val_{metric}' in history.history:\n",
        "        ax.plot(history.history[f'val_{metric}'], linestyle='--', label='Val')\n",
        "    ax.set_title(label)\n",
        "    ax.set_xlabel('Epoch')\n",
        "    ax.set_ylabel(metric.capitalize())\n",
        "    ax.grid(True)\n",
        "    ax.legend()\n",
        "\n",
        "fig.suptitle(f'{metric.capitalize()} Curve for Each Model', fontsize=16)\n",
        "plt.tight_layout(rect=[0, 0, 1, 0.95])\n",
        "plt.show()"
      ]
    },
    {
      "cell_type": "markdown",
      "metadata": {
        "id": "W0aPou1YXzGN"
      },
      "source": [
        "## Final recommendations"
      ]
    },
    {
      "cell_type": "code",
      "execution_count": 47,
      "metadata": {
        "id": "8UsFkCEcXzGN"
      },
      "outputs": [],
      "source": [
        "def get_top_n_hybrid_recommendations(user_id, ncf_model, preferences=None, top_n=10):\n",
        "\n",
        "    user_idx = user_encoder.transform([user_id])[0]\n",
        "\n",
        "    # Get all recipe indices\n",
        "    recipe_indices = np.arange(num_recipes)\n",
        "    user_array = np.full(recipe_indices.shape, fill_value=user_idx)\n",
        "\n",
        "    user_features = users_selected_features[user_idx].reshape(1, -1)\n",
        "    user_features_array = np.repeat(user_features, recipe_indices.shape[0], axis=0)\n",
        "    recipe_features_array = recipes_selected_features\n",
        "\n",
        "    filtered_recipe_df = extended_recipes.copy()\n",
        "\n",
        "    if preferences:\n",
        "        for tag in recipe_tag_columns:\n",
        "            if preferences.get(tag, 0) == 1:\n",
        "                if tag in filtered_recipe_df.columns:\n",
        "                    filtered_recipe_df = filtered_recipe_df[filtered_recipe_df[tag] == 1]\n",
        "\n",
        "    filtered_recipe_indices = filtered_recipe_df['recipe_idx'].values\n",
        "    if len(filtered_recipe_indices) == 0:\n",
        "        return pd.DataFrame(columns=['recipe_idx', 'id', 'name', 'predicted_score'])\n",
        "\n",
        "    user_array_filtered = np.full(filtered_recipe_indices.shape, fill_value=user_idx)\n",
        "    user_features_array_filtered = np.repeat(user_features, filtered_recipe_indices.shape[0], axis=0)\n",
        "    recipe_features_array_filtered = recipe_features_array[filtered_recipe_indices]\n",
        "\n",
        "    predictions = ncf_model.predict([\n",
        "        user_array_filtered,\n",
        "        filtered_recipe_indices,\n",
        "        user_features_array_filtered,\n",
        "        recipe_features_array_filtered\n",
        "    ], verbose=0).flatten()\n",
        "\n",
        "    top_indices = predictions.argsort()[-top_n:][::-1]\n",
        "    top_recipe_idxs = filtered_recipe_indices[top_indices]\n",
        "    top_scores = predictions[top_indices]\n",
        "\n",
        "\n",
        "    results = pd.DataFrame({\n",
        "        'recipe_idx': top_recipe_idxs,\n",
        "        'predicted_score': top_scores\n",
        "    })\n",
        "\n",
        "    recommended_recipes = results.merge(\n",
        "        extended_recipes[['recipe_idx', 'id', 'name', 'tags']],\n",
        "        on='recipe_idx',\n",
        "        how='left'\n",
        "    )\n",
        "\n",
        "    recommended_recipes['predicted_score'] = pd.to_numeric(recommended_recipes['predicted_score'], errors='coerce')\n",
        "    recommended_recipes = recommended_recipes.dropna(subset=['predicted_score'])\n",
        "    return recommended_recipes.sort_values(by='predicted_score', ascending=False).reset_index(drop=True)\n"
      ]
    },
    {
      "cell_type": "code",
      "execution_count": 48,
      "metadata": {
        "id": "mEaYwT8NXzGN"
      },
      "outputs": [],
      "source": [
        "def print_user_recommendations(user_id, recommendations, recipes_df):\n",
        "    print(f\"\\nTop Recommendations for User {user_id}:\\n\")\n",
        "\n",
        "    for _, row in recommendations.iterrows():\n",
        "        recipe_id = row['id']\n",
        "        predicted_score = float(row['predicted_score'])\n",
        "\n",
        "        recipe_row = recipes_df[recipes_df['id'] == recipe_id]\n",
        "        if not recipe_row.empty:\n",
        "            recipe_name = recipe_row['name'].values[0]\n",
        "            recipe_tags = recipe_row['tags'].values[0]\n",
        "        else:\n",
        "            recipe_name = \"(Unknown Recipe)\"\n",
        "            recipe_tags = []\n",
        "\n",
        "        print(f\"  User: {user_id} | Recipe: {recipe_id} ({recipe_name}) | Tags: {recipe_tags} | Predicted Score: {predicted_score:.2f}\")\n"
      ]
    },
    {
      "cell_type": "code",
      "execution_count": 49,
      "metadata": {
        "id": "YkyacO-6XzGN"
      },
      "outputs": [],
      "source": [
        "user_interaction_counts = extended_interactions['user_id'].value_counts()\n",
        "np.random.seed(999)\n",
        "\n",
        "# User with more than 10\n",
        "random_user_candidates = user_interaction_counts[user_interaction_counts > 10].index.tolist()\n",
        "random_user = np.random.choice(random_user_candidates)"
      ]
    },
    {
      "cell_type": "code",
      "execution_count": 50,
      "metadata": {
        "colab": {
          "base_uri": "https://localhost:8080/"
        },
        "id": "_iVoLOn6XzGN",
        "outputId": "f48a229a-b882-449e-f593-6512eccf602c"
      },
      "outputs": [
        {
          "name": "stdout",
          "output_type": "stream",
          "text": [
            "\n",
            "Top Recommendations for User 54697:\n",
            "\n",
            "  User: 54697 | Recipe: 431118 (tomato soup with artichokes  white beans  and roasted peppers) | Tags: ['time_to_make', 'cuisine', 'soups_stews', 'easy', 'european', '4_hours_or_less'] | Predicted Score: 1.00\n",
            "  User: 54697 | Recipe: 9954 (good eats roast turkey) | Tags: ['weeknight', 'time_to_make', 'cuisine', 'north_american', 'for_large_groups', 'main_dish', 'poultry', 'american', 'oven', 'roast', 'dinner_party', 'fall', 'heirloom_historical', 'holiday_event', 'kid_friendly', 'winter', 'turkey', 'christmas', 'thanksgiving', 'seasonal', 'comfort_food', 'meat', 'whole_turkey', 'taste_mood', 'number_of_servings'] | Predicted Score: 0.95\n",
            "  User: 54697 | Recipe: 357288 (weekend chicken and cheese enchiladas in green sauce) | Tags: ['time_to_make', 'cuisine', 'north_american', 'main_dish', 'poultry', 'mexican', 'chicken', 'one_dish_meal', 'inexpensive', 'meat', '4_hours_or_less'] | Predicted Score: 0.95\n",
            "  User: 54697 | Recipe: 31008 (all purpose ground meat mix) | Tags: ['30_minutes_or_less', 'time_to_make', 'cuisine', 'north_american', 'very_low_carbs', 'main_dish', 'condiments_etc', 'beef', 'vegetables', 'american', 'easy', 'freezer', 'stove_top', 'low_sodium', 'gluten_free', 'oamc_freezer_make_ahead', 'low_carb', 'inexpensive', 'cooking_mixes', 'ground_beef', 'free_of_something', 'meat', 'number_of_servings'] | Predicted Score: 0.95\n",
            "  User: 54697 | Recipe: 401016 (grilled lamb shoulder chops with fresh mint sauce) | Tags: ['time_to_make', 'for_1_or_2', 'lamb_sheep', 'barbecue', 'dinner_party', 'meat', 'grilling', 'number_of_servings', '4_hours_or_less'] | Predicted Score: 0.95\n"
          ]
        }
      ],
      "source": [
        "top_5 = get_top_n_hybrid_recommendations(random_user, best_model_hybrid_ncf, preferences=None,top_n=5)\n",
        "print_user_recommendations(random_user, top_5, extended_recipes)"
      ]
    }
  ],
  "metadata": {
    "accelerator": "GPU",
    "colab": {
      "gpuType": "A100",
      "machine_shape": "hm",
      "provenance": []
    },
    "kernelspec": {
      "display_name": "Python 3",
      "name": "python3"
    },
    "language_info": {
      "codemirror_mode": {
        "name": "ipython",
        "version": 3
      },
      "file_extension": ".py",
      "mimetype": "text/x-python",
      "name": "python",
      "nbconvert_exporter": "python",
      "pygments_lexer": "ipython3",
      "version": "3.11.6"
    }
  },
  "nbformat": 4,
  "nbformat_minor": 0
}
